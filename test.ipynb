{
 "cells": [
  {
   "cell_type": "code",
   "execution_count": 1,
   "metadata": {},
   "outputs": [],
   "source": [
    "import numpy as np\n",
    "import matplotlib.pyplot as plt\n",
    "import pandas as pd\n",
    "from Island import Island, Member\n",
    "from time import time"
   ]
  },
  {
   "cell_type": "code",
   "execution_count": 2,
   "metadata": {},
   "outputs": [],
   "source": [
    "island = Island(6, random_seed=2022)"
   ]
  },
  {
   "cell_type": "code",
   "execution_count": 3,
   "metadata": {},
   "outputs": [
    {
     "name": "stdout",
     "output_type": "stream",
     "text": [
      "========================== Vitality ==========================\n",
      "\t[Marvell:    Age: 170, Vit: 26.7, Cargo: 37.4\n",
      "\t[Morgen:     Age: 804, Vit: 32.1, Cargo: 70.9\n",
      "\t[Jerin:      Age: 106, Vit: 44.0, Cargo: 50.1\n",
      "\t[Boy:        Age: 62,  Vit: 45.7, Cargo: 66.5\n",
      "\t[Arnisha:    Age: 635, Vit: 87.9, Cargo: 20.5\n",
      "\t[Karoline:   Age: 407, Vit: 23.3, Cargo: 0.8\n",
      "\n",
      "========================== Victim ==========================\n",
      "[[        nan 14.80167526  0.         20.74305712  0.          0.        ]\n",
      " [48.92645283         nan 91.11487817 43.79562996 57.07103889 45.20671765]\n",
      " [23.57263245 89.03240969         nan  0.         84.86153878 51.05807695]\n",
      " [ 0.         28.78213077  0.                 nan  0.          0.        ]\n",
      " [ 5.73603991  8.00053172  0.55957852 71.81912824         nan 99.16742103]\n",
      " [93.54970263  0.         38.49740272  0.         30.05195215         nan]]\n",
      "========================== Benefit ==========================\n",
      "[[        nan  5.56569754 12.11785882 41.51915496  0.         87.42344989]\n",
      " [ 0.                 nan 63.81964081  0.         82.15657537  0.        ]\n",
      " [26.58727584 38.68625069         nan 95.92612413 65.75439573 70.36774228]\n",
      " [55.0183834   0.         66.1497782          nan  0.         27.20393705]\n",
      " [30.78826528 35.58221358 11.36923843 86.23759589         nan 95.54547742]\n",
      " [80.28401198  8.53132644 10.84867368  0.         30.45787161         nan]]\n"
     ]
    }
   ],
   "source": [
    "island.print_info()"
   ]
  },
  {
   "cell_type": "code",
   "execution_count": 4,
   "metadata": {},
   "outputs": [
    {
     "name": "stdout",
     "output_type": "stream",
     "text": [
      "========================== Vitality ==========================\n",
      "\t[Marvell:    Age: 170, Vit: 26.7, Cargo: 49.9\n",
      "\t[Morgen:     Age: 804, Vit: 32.1, Cargo: 89.8\n",
      "\t[Jerin:      Age: 106, Vit: 44.0, Cargo: 62.4\n",
      "\t[Boy:        Age: 62,  Vit: 45.7, Cargo: 80.7\n",
      "\t[Arnisha:    Age: 635, Vit: 87.9, Cargo: 40.5\n",
      "\t[Karoline:   Age: 407, Vit: 23.3, Cargo: 13.9\n",
      "\n",
      "========================== Victim ==========================\n",
      "[[        nan 14.80167526  0.         20.74305712  0.          0.        ]\n",
      " [48.92645283         nan 91.11487817 43.79562996 57.07103889 45.20671765]\n",
      " [23.57263245 89.03240969         nan  0.         84.86153878 51.05807695]\n",
      " [ 0.         28.78213077  0.                 nan  0.          0.        ]\n",
      " [ 5.73603991  8.00053172  0.55957852 71.81912824         nan 99.16742103]\n",
      " [93.54970263  0.         38.49740272  0.         30.05195215         nan]]\n",
      "========================== Benefit ==========================\n",
      "[[        nan  5.56569754 12.11785882 41.51915496  0.         87.42344989]\n",
      " [ 0.                 nan 63.81964081  0.         82.15657537  0.        ]\n",
      " [26.58727584 38.68625069         nan 95.92612413 65.75439573 70.36774228]\n",
      " [55.0183834   0.         66.1497782          nan  0.         27.20393705]\n",
      " [30.78826528 35.58221358 11.36923843 86.23759589         nan 95.54547742]\n",
      " [80.28401198  8.53132644 10.84867368  0.         30.45787161         nan]]\n"
     ]
    }
   ],
   "source": [
    "island.produce()\n",
    "island.print_info()\n"
   ]
  },
  {
   "cell_type": "code",
   "execution_count": 7,
   "metadata": {},
   "outputs": [
    {
     "name": "stdout",
     "output_type": "stream",
     "text": [
      "Marvell(0) Jerin(2)\n",
      "Marvell(0) Jerin(2)\n",
      "Marvell(0) Boy(3)\n",
      "Marvell(0) Arnisha(4)\n",
      "Marvell(0) Arnisha(4)\n",
      "Marvell(0) 死了\n"
     ]
    },
    {
     "ename": "ValueError",
     "evalue": "number sections must be larger than 0.",
     "output_type": "error",
     "traceback": [
      "\u001b[1;31m---------------------------------------------------------------------------\u001b[0m",
      "\u001b[1;31mValueError\u001b[0m                                Traceback (most recent call last)",
      "\u001b[1;32me:\\Programs\\leviathan\\test.ipynb Cell 5\u001b[0m in \u001b[0;36m<cell line: 6>\u001b[1;34m()\u001b[0m\n\u001b[0;32m      <a href='vscode-notebook-cell:/e%3A/Programs/leviathan/test.ipynb#ch0000061?line=3'>4</a>\u001b[0m island\u001b[39m.\u001b[39mfight()\n\u001b[0;32m      <a href='vscode-notebook-cell:/e%3A/Programs/leviathan/test.ipynb#ch0000061?line=4'>5</a>\u001b[0m island\u001b[39m.\u001b[39mfight()\n\u001b[1;32m----> <a href='vscode-notebook-cell:/e%3A/Programs/leviathan/test.ipynb#ch0000061?line=5'>6</a>\u001b[0m island\u001b[39m.\u001b[39;49mfight()\n\u001b[0;32m      <a href='vscode-notebook-cell:/e%3A/Programs/leviathan/test.ipynb#ch0000061?line=6'>7</a>\u001b[0m island\u001b[39m.\u001b[39mfight()\n\u001b[0;32m      <a href='vscode-notebook-cell:/e%3A/Programs/leviathan/test.ipynb#ch0000061?line=7'>8</a>\u001b[0m island\u001b[39m.\u001b[39mprint_info()\n",
      "File \u001b[1;32me:\\Programs\\leviathan\\Island.py:397\u001b[0m, in \u001b[0;36mIsland.fight\u001b[1;34m(self, group_size, prob_group_in_fight)\u001b[0m\n\u001b[0;32m    387\u001b[0m \u001b[39m\"\"\"\u001b[39;00m\n\u001b[0;32m    388\u001b[0m \u001b[39m战斗\u001b[39;00m\n\u001b[0;32m    389\u001b[0m \n\u001b[1;32m   (...)\u001b[0m\n\u001b[0;32m    394\u001b[0m \u001b[39m    5. 若有死亡案例，更新集体列表，更新编号，更新关系矩阵  \u001b[39;00m\n\u001b[0;32m    395\u001b[0m \u001b[39m\"\"\"\u001b[39;00m\n\u001b[0;32m    396\u001b[0m \u001b[39m# 打乱顺序，随机分组\u001b[39;00m\n\u001b[1;32m--> 397\u001b[0m group_list \u001b[39m=\u001b[39m \u001b[39mself\u001b[39;49m\u001b[39m.\u001b[39;49m_split_into_groups(group_size, prob_group_in_fight)\n\u001b[0;32m    399\u001b[0m \u001b[39m# 从每组内选出交战双方\u001b[39;00m\n\u001b[0;32m    400\u001b[0m \u001b[39mfor\u001b[39;00m group \u001b[39min\u001b[39;00m group_list:\n",
      "File \u001b[1;32me:\\Programs\\leviathan\\Island.py:282\u001b[0m, in \u001b[0;36mIsland._split_into_groups\u001b[1;34m(self, group_size, prob_group_in_action, to_split)\u001b[0m\n\u001b[0;32m    279\u001b[0m shuffled_members \u001b[39m=\u001b[39m \u001b[39mself\u001b[39m\u001b[39m.\u001b[39m_backup_member_list(to_split)\n\u001b[0;32m    280\u001b[0m \u001b[39mself\u001b[39m\u001b[39m.\u001b[39m_rng\u001b[39m.\u001b[39mshuffle(shuffled_members)\n\u001b[1;32m--> 282\u001b[0m idx_list_list \u001b[39m=\u001b[39m np\u001b[39m.\u001b[39;49marray_split(np\u001b[39m.\u001b[39;49marange(total_num, dtype\u001b[39m=\u001b[39;49m\u001b[39mint\u001b[39;49m), np\u001b[39m.\u001b[39;49mround(total_num \u001b[39m/\u001b[39;49m group_size)\u001b[39m.\u001b[39;49mastype(\u001b[39mint\u001b[39;49m))\n\u001b[0;32m    284\u001b[0m group_list \u001b[39m=\u001b[39m []\n\u001b[0;32m    285\u001b[0m \u001b[39mfor\u001b[39;00m idx_list \u001b[39min\u001b[39;00m idx_list_list:\n",
      "File \u001b[1;32m<__array_function__ internals>:180\u001b[0m, in \u001b[0;36marray_split\u001b[1;34m(*args, **kwargs)\u001b[0m\n",
      "File \u001b[1;32mf:\\Anaconda\\envs\\phy38\\lib\\site-packages\\numpy\\lib\\shape_base.py:778\u001b[0m, in \u001b[0;36marray_split\u001b[1;34m(ary, indices_or_sections, axis)\u001b[0m\n\u001b[0;32m    776\u001b[0m Nsections \u001b[39m=\u001b[39m \u001b[39mint\u001b[39m(indices_or_sections)\n\u001b[0;32m    777\u001b[0m \u001b[39mif\u001b[39;00m Nsections \u001b[39m<\u001b[39m\u001b[39m=\u001b[39m \u001b[39m0\u001b[39m:\n\u001b[1;32m--> 778\u001b[0m     \u001b[39mraise\u001b[39;00m \u001b[39mValueError\u001b[39;00m(\u001b[39m'\u001b[39m\u001b[39mnumber sections must be larger than 0.\u001b[39m\u001b[39m'\u001b[39m) \u001b[39mfrom\u001b[39;00m \u001b[39mNone\u001b[39m\n\u001b[0;32m    779\u001b[0m Neach_section, extras \u001b[39m=\u001b[39m \u001b[39mdivmod\u001b[39m(Ntotal, Nsections)\n\u001b[0;32m    780\u001b[0m section_sizes \u001b[39m=\u001b[39m ([\u001b[39m0\u001b[39m] \u001b[39m+\u001b[39m\n\u001b[0;32m    781\u001b[0m                  extras \u001b[39m*\u001b[39m [Neach_section\u001b[39m+\u001b[39m\u001b[39m1\u001b[39m] \u001b[39m+\u001b[39m\n\u001b[0;32m    782\u001b[0m                  (Nsections\u001b[39m-\u001b[39mextras) \u001b[39m*\u001b[39m [Neach_section])\n",
      "\u001b[1;31mValueError\u001b[0m: number sections must be larger than 0."
     ]
    }
   ],
   "source": [
    "island.fight()\n",
    "island.fight()\n",
    "island.fight()\n",
    "island.fight()\n",
    "island.fight()\n",
    "island.fight()\n",
    "island.fight()\n",
    "island.print_info()"
   ]
  },
  {
   "cell_type": "code",
   "execution_count": 6,
   "metadata": {},
   "outputs": [
    {
     "name": "stdout",
     "output_type": "stream",
     "text": [
      "========================== Vitality ==========================\n",
      "\t[Marvell:    Age: 170, Vit: 57.5, Cargo: 0.0\n",
      "\t[Morgen:     Age: 804, Vit: 100.0, Cargo: 2.3\n",
      "\t[Jerin:      Age: 106, Vit: 96.3, Cargo: 0.0\n",
      "\t[Boy:        Age: 62,  Vit: 100.0, Cargo: 16.4\n",
      "\t[Arnisha:    Age: 635, Vit: 100.0, Cargo: 18.3\n",
      "\t[Karoline:   Age: 407, Vit: 27.2, Cargo: 0.0\n",
      "\n",
      "========================== Victim ==========================\n",
      "[[        nan 23.78820514  0.         20.74305712  0.          0.        ]\n",
      " [57.43871932         nan 91.11487817 43.79562996 57.07103889 45.20671765]\n",
      " [23.57263245 89.03240969         nan  0.         84.86153878 51.05807695]\n",
      " [ 0.         28.78213077  0.                 nan  0.          0.        ]\n",
      " [ 5.73603991  8.00053172  0.55957852 71.81912824         nan 99.16742103]\n",
      " [93.54970263  0.         38.49740272  0.         30.05195215         nan]]\n",
      "========================== Benefit ==========================\n",
      "[[        nan  5.56569754 12.11785882 41.51915496  0.         87.42344989]\n",
      " [ 0.                 nan 63.81964081  0.         82.15657537  0.        ]\n",
      " [26.58727584 38.68625069         nan 95.92612413 65.75439573 70.36774228]\n",
      " [55.0183834   0.         66.1497782          nan  0.         27.20393705]\n",
      " [30.78826528 35.58221358 11.36923843 86.23759589         nan 95.54547742]\n",
      " [80.28401198  8.53132644 10.84867368  0.         30.45787161         nan]]\n"
     ]
    }
   ],
   "source": [
    "island.consume()\n",
    "island.print_info()"
   ]
  },
  {
   "cell_type": "code",
   "execution_count": 7,
   "metadata": {},
   "outputs": [
    {
     "name": "stdout",
     "output_type": "stream",
     "text": [
      "========================== Vitality ==========================\n",
      "\t[Marvell:    Age: 170, Vit: 47.5, Cargo: 0.0\n",
      "\t[Morgen:     Age: 804, Vit: 91.2, Cargo: 0.0\n",
      "\t[Jerin:      Age: 106, Vit: 86.3, Cargo: 0.0\n",
      "\t[Boy:        Age: 62,  Vit: 100.0, Cargo: 6.4\n",
      "\t[Arnisha:    Age: 635, Vit: 100.0, Cargo: 8.3\n",
      "\t[Karoline:   Age: 407, Vit: 17.2, Cargo: 0.0\n",
      "\n",
      "========================== Victim ==========================\n",
      "[[        nan 23.78820514  0.         20.74305712  0.          0.        ]\n",
      " [57.43871932         nan 91.11487817 43.79562996 57.07103889 45.20671765]\n",
      " [23.57263245 89.03240969         nan  0.         84.86153878 51.05807695]\n",
      " [ 0.         28.78213077  0.                 nan  0.          0.        ]\n",
      " [ 5.73603991  8.00053172  0.55957852 71.81912824         nan 99.16742103]\n",
      " [93.54970263  0.         38.49740272  0.         30.05195215         nan]]\n",
      "========================== Benefit ==========================\n",
      "[[        nan  5.56569754 12.11785882 41.51915496  0.         87.42344989]\n",
      " [ 0.                 nan 63.81964081  0.         82.15657537  0.        ]\n",
      " [26.58727584 38.68625069         nan 95.92612413 65.75439573 70.36774228]\n",
      " [55.0183834   0.         66.1497782          nan  0.         27.20393705]\n",
      " [30.78826528 35.58221358 11.36923843 86.23759589         nan 95.54547742]\n",
      " [80.28401198  8.53132644 10.84867368  0.         30.45787161         nan]]\n"
     ]
    }
   ],
   "source": [
    "island.consume()\n",
    "island.print_info()"
   ]
  },
  {
   "cell_type": "code",
   "execution_count": 3,
   "metadata": {},
   "outputs": [
    {
     "name": "stdout",
     "output_type": "stream",
     "text": [
      "{'attack': array([ 0.69335449,  0.30021242,  0.88662627,  0.1596948 , -0.92706574,\n",
      "        0.66497366, -0.92155438,  0.93361718, -0.38442777,  0.0152856 ,\n",
      "       -0.02627679, -0.86484199, -0.20145745,  0.05222746]), 'offer': array([ 0.77592916,  0.8960261 , -0.6164001 ,  0.89954539, -0.18196087,\n",
      "        0.31509757, -0.24479855, -0.63143469,  0.85121596,  0.73633811,\n",
      "        0.38017479, -0.61453754,  0.78038426, -0.54111655]), 'reproduce': array([ 0.35461665, -0.38019079, -0.52606298,  0.93650382,  0.69870272,\n",
      "       -0.08568537, -0.17138518, -0.94961342, -0.95153072,  0.94659099,\n",
      "       -0.29641733,  0.69680569, -0.89344182,  0.95101649])} \n",
      " {'attack': array([-0.9306096 ,  0.74787361,  0.81918124, -0.06379883, -0.83323245,\n",
      "       -0.80859394,  0.99777689, -0.10039634,  0.38615183, -0.79229325,\n",
      "       -0.67344884,  0.15651497, -0.11811114, -0.71582395]), 'offer': array([ 0.27274302, -0.03011145, -0.9547157 ,  0.11528618, -0.18416492,\n",
      "        0.77243824, -0.78471731,  0.53414985,  0.69663744, -0.50765878,\n",
      "        0.72281049,  0.10893756, -0.39878391,  0.22953428]), 'reproduce': array([-7.25863324e-02,  7.38898972e-01, -1.96272158e-01, -2.43277644e-01,\n",
      "       -2.94135152e-01, -5.79415242e-01, -5.78557247e-01,  4.20628612e-01,\n",
      "        6.55087280e-01, -3.81925334e-04, -5.03736720e-01,  3.13668401e-01,\n",
      "        4.62915490e-01, -6.82735353e-01])}\n"
     ]
    }
   ],
   "source": [
    "morgen = island.all_members[1]\n",
    "jerin = island.all_members[2]\n",
    "print(morgen.parameter_dict, \"\\n\", jerin.parameter_dict)\n"
   ]
  },
  {
   "cell_type": "code",
   "execution_count": 4,
   "metadata": {},
   "outputs": [
    {
     "name": "stdout",
     "output_type": "stream",
     "text": [
      "\n",
      "Morgen(1) Jerin(2)\n"
     ]
    }
   ],
   "source": [
    "# island.fight()\n",
    "print()\n",
    "island.trade()"
   ]
  },
  {
   "cell_type": "code",
   "execution_count": 5,
   "metadata": {},
   "outputs": [
    {
     "name": "stdout",
     "output_type": "stream",
     "text": [
      "{'attack': array([ 0.69335449,  0.30021242,  0.88662627,  0.1596948 , -0.92706574,\n",
      "        0.66497366, -0.92155438,  0.93361718, -0.38442777,  0.0152856 ,\n",
      "       -0.02627679, -0.86484199, -0.20145745,  0.05222746]), 'offer': array([ 0.77592916,  0.8960261 , -0.6164001 ,  0.89954539, -0.18196087,\n",
      "        0.31509757, -0.24479855, -0.63143469,  0.85121596,  0.73633811,\n",
      "        0.38017479, -0.61453754,  0.78038426, -0.54111655]), 'reproduce': array([ 0.35461665, -0.38019079, -0.52606298,  0.93650382,  0.69870272,\n",
      "       -0.08568537, -0.17138518, -0.94961342, -0.95153072,  0.94659099,\n",
      "       -0.29641733,  0.69680569, -0.89344182,  0.95101649])} \n",
      " {'attack': array([-1.18627552e-01,  5.24043012e-01,  8.52903757e-01,  4.79479864e-02,\n",
      "       -8.80149097e-01, -7.18101401e-02,  3.81112546e-02,  4.16610420e-01,\n",
      "        8.62033430e-04, -3.88503826e-01, -3.49862816e-01, -3.54163508e-01,\n",
      "       -1.59784296e-01, -3.31798246e-01]), 'offer': array([ 0.52433609,  0.43295732, -0.7855579 ,  0.50741578, -0.1830629 ,\n",
      "        0.54376791, -0.51475793, -0.04864242,  0.7739267 ,  0.11433967,\n",
      "        0.55149264, -0.25279999,  0.19080018, -0.15579114]), 'reproduce': array([ 0.14101516,  0.17935409, -0.36116757,  0.34661309,  0.20228378,\n",
      "       -0.33255031, -0.37497122, -0.2644924 , -0.14822172,  0.47310453,\n",
      "       -0.40007702,  0.50523704, -0.21526316,  0.13414057])}\n"
     ]
    }
   ],
   "source": [
    "morgen = island.all_members[1]\n",
    "jerin = island.all_members[2]\n",
    "print(morgen.parameter_dict, \"\\n\", jerin.parameter_dict)\n"
   ]
  },
  {
   "cell_type": "code",
   "execution_count": 16,
   "metadata": {},
   "outputs": [
    {
     "name": "stdout",
     "output_type": "stream",
     "text": [
      "Donetta(0) Christyn(1) 1.9814009745630035\n",
      "Donetta(0) Pearson(2) 2.0915540244016757\n",
      "Donetta(0) Jenea(3) 2.846092493963173\n",
      "Donetta(0) Chella(4) 2.1365431036118894\n",
      "Christyn(1) Donetta(0) 0.7194964569588894\n",
      "Christyn(1) Pearson(2) 1.1504669353591621\n",
      "Christyn(1) Jenea(3) 1.393790093511261\n",
      "Christyn(1) Chella(4) 0.5412719136836731\n",
      "Pearson(2) Donetta(0) -0.6311395622625386\n",
      "Pearson(2) Christyn(1) 0.41698158506555283\n",
      "Pearson(2) Jenea(3) -1.0594480094763146\n",
      "Pearson(2) Chella(4) 0.5477678479215317\n",
      "Jenea(3) Donetta(0) -1.9929301805289028\n",
      "Jenea(3) Christyn(1) -2.013082768364038\n",
      "Jenea(3) Pearson(2) -1.5650373818244554\n",
      "Jenea(3) Chella(4) -1.869348387635385\n",
      "Chella(4) Donetta(0) 1.3648085956262477\n",
      "Chella(4) Christyn(1) 1.3332823751821103\n",
      "Chella(4) Pearson(2) 1.0871949020329128\n",
      "Chella(4) Jenea(3) 1.7703707448054953\n"
     ]
    }
   ],
   "source": [
    "for mem in groups[0]:\n",
    "    for obj in groups[0]:\n",
    "        if mem is not obj:\n",
    "            print(mem, obj, mem.decision(\"fight\", obj, island))\n"
   ]
  },
  {
   "cell_type": "code",
   "execution_count": 4,
   "metadata": {},
   "outputs": [],
   "source": [
    "member1 = island.all_members[0]\n",
    "member2 = island.all_members[1]"
   ]
  },
  {
   "cell_type": "code",
   "execution_count": 4,
   "metadata": {},
   "outputs": [
    {
     "data": {
      "text/plain": [
       "array([ 0.60121465, -0.89372271,  0.20997226,  0.59343662,  0.15537462,\n",
       "        0.0519948 , -0.81174596, -0.97773462,  0.85431746, -0.07127653,\n",
       "        0.1856762 ,  0.19105307,  0.61329238, -0.50925015])"
      ]
     },
     "execution_count": 4,
     "metadata": {},
     "output_type": "execute_result"
    }
   ],
   "source": [
    "member1.fight_parameter"
   ]
  },
  {
   "cell_type": "code",
   "execution_count": 5,
   "metadata": {},
   "outputs": [
    {
     "data": {
      "text/plain": [
       "array([ 0.        , -0.89372271,  0.20997226,  0.59343662,  0.15537462,\n",
       "        0.0519948 , -0.81174596, -0.97773462,  0.85431746, -0.07127653,\n",
       "        0.1856762 ,  0.19105307,  0.61329238, -0.50925015])"
      ]
     },
     "execution_count": 5,
     "metadata": {},
     "output_type": "execute_result"
    }
   ],
   "source": [
    "member1.fight_parameter[0] = 0\n",
    "member1.parameter_dict[\"fight\"]"
   ]
  },
  {
   "cell_type": "code",
   "execution_count": 5,
   "metadata": {},
   "outputs": [
    {
     "data": {
      "text/plain": [
       "308.04875809195704"
      ]
     },
     "execution_count": 5,
     "metadata": {},
     "output_type": "execute_result"
    }
   ],
   "source": [
    "inputs = list(member1._generate_decision_inputs(member2, island).values())\n",
    "member1._decision(member1.fight_parameter, inputs)"
   ]
  },
  {
   "cell_type": "code",
   "execution_count": null,
   "metadata": {},
   "outputs": [],
   "source": []
  },
  {
   "cell_type": "code",
   "execution_count": 8,
   "metadata": {},
   "outputs": [
    {
     "data": {
      "text/plain": [
       "range(1, 10)"
      ]
     },
     "execution_count": 8,
     "metadata": {},
     "output_type": "execute_result"
    }
   ],
   "source": [
    "range(1, 10)"
   ]
  },
  {
   "cell_type": "code",
   "execution_count": null,
   "metadata": {},
   "outputs": [],
   "source": [
    "Member.born(island.all_members[0], island.all_members[1])"
   ]
  },
  {
   "cell_type": "code",
   "execution_count": 9,
   "metadata": {},
   "outputs": [
    {
     "data": {
      "text/plain": [
       "array([1, 1, 2, 2, 3, 3, 4, 4])"
      ]
     },
     "execution_count": 9,
     "metadata": {},
     "output_type": "execute_result"
    }
   ],
   "source": [
    "a = [1, 2, 3, 4]\n",
    "np.repeat(a, 2)"
   ]
  },
  {
   "cell_type": "code",
   "execution_count": 5,
   "metadata": {},
   "outputs": [
    {
     "ename": "NameError",
     "evalue": "name 'np' is not defined",
     "output_type": "error",
     "traceback": [
      "\u001b[0;31m---------------------------------------------------------------------------\u001b[0m",
      "\u001b[0;31mNameError\u001b[0m                                 Traceback (most recent call last)",
      "\u001b[1;32m/Users/Harry/Documents/Programs/Leviathan/test.ipynb Cell 9'\u001b[0m in \u001b[0;36m<cell line: 2>\u001b[0;34m()\u001b[0m\n\u001b[1;32m      <a href='vscode-notebook-cell:/Users/Harry/Documents/Programs/Leviathan/test.ipynb#ch0000007?line=0'>1</a>\u001b[0m a \u001b[39m=\u001b[39m [\u001b[39m\"\u001b[39m\u001b[39ma\u001b[39m\u001b[39m\"\u001b[39m, \u001b[39m\"\u001b[39m\u001b[39mb\u001b[39m\u001b[39m\"\u001b[39m]\n\u001b[0;32m----> <a href='vscode-notebook-cell:/Users/Harry/Documents/Programs/Leviathan/test.ipynb#ch0000007?line=1'>2</a>\u001b[0m b \u001b[39m=\u001b[39m [np\u001b[39m.\u001b[39mrandom\u001b[39m.\u001b[39mrand(\u001b[39m2\u001b[39m), np\u001b[39m.\u001b[39mrandom\u001b[39m.\u001b[39mrand(\u001b[39m2\u001b[39m)]\n\u001b[1;32m      <a href='vscode-notebook-cell:/Users/Harry/Documents/Programs/Leviathan/test.ipynb#ch0000007?line=2'>3</a>\u001b[0m d \u001b[39m=\u001b[39m \u001b[39mdict\u001b[39m(\u001b[39mzip\u001b[39m(a, b))\n\u001b[1;32m      <a href='vscode-notebook-cell:/Users/Harry/Documents/Programs/Leviathan/test.ipynb#ch0000007?line=3'>4</a>\u001b[0m d\n",
      "\u001b[0;31mNameError\u001b[0m: name 'np' is not defined"
     ]
    }
   ],
   "source": [
    "a = [\"a\", \"b\"]\n",
    "b = [np.random.rand(2), np.random.rand(2)]\n",
    "d = dict(zip(a, b))\n",
    "d"
   ]
  },
  {
   "cell_type": "code",
   "execution_count": 4,
   "metadata": {},
   "outputs": [
    {
     "data": {
      "text/plain": [
       "{'a': 'c', 'b': 'd'}"
      ]
     },
     "execution_count": 4,
     "metadata": {},
     "output_type": "execute_result"
    }
   ],
   "source": [
    "n = {key: d[key] for key in d.keys()}\n",
    "n"
   ]
  },
  {
   "cell_type": "code",
   "execution_count": 16,
   "metadata": {},
   "outputs": [],
   "source": [
    "class foo:\n",
    "    def __init__(self, a):\n",
    "        self.a = a\n",
    "\n",
    "    @property\n",
    "    def return_a(self):\n",
    "        return self.a * 2"
   ]
  },
  {
   "cell_type": "code",
   "execution_count": 17,
   "metadata": {},
   "outputs": [
    {
     "data": {
      "text/plain": [
       "2"
      ]
     },
     "execution_count": 17,
     "metadata": {},
     "output_type": "execute_result"
    }
   ],
   "source": [
    "x = foo(1)\n",
    "x.return_a"
   ]
  },
  {
   "cell_type": "code",
   "execution_count": 2,
   "metadata": {},
   "outputs": [
    {
     "name": "stdout",
     "output_type": "stream",
     "text": [
      "[Marvell(0), Morgen(1), Jerin(2), Boy(3), Arnisha(4), Karoline(5), Aime(6), Lamesha(7), Maya(8), Latoiya(9), Lashayla(10)]\n",
      "[Gabriella(11), Kristinejoy(12), Waymon(13), Elisabeth(14), Corwyn(15), Scotty(16), Karriem(17), Sareena(18), Arleen(19), Tristin(20), Nidya(21)]\n",
      "[Jemar(22), Aziz(23), Jermaine(24), Casia(25), Anastassia(26), Alicen(27), Korinne(28), Deontrae(29), Willie(30), Renada(31)]\n",
      "[Aireal(32), Reem(33), Taralyn(34), Taiwan(35), Arik(36), Chenoa(37), Janelle(38), Ellena(39), Valarie(40), Darbie(41)]\n"
     ]
    }
   ],
   "source": [
    "island = Island(42, random_seed=2022)\n",
    "island.fight()"
   ]
  },
  {
   "cell_type": "code",
   "execution_count": 4,
   "metadata": {},
   "outputs": [],
   "source": [
    "# seed = time()\n",
    "rng = np.random.default_rng(2022)"
   ]
  },
  {
   "cell_type": "code",
   "execution_count": 6,
   "metadata": {},
   "outputs": [
    {
     "data": {
      "text/plain": [
       "array([0.09299006])"
      ]
     },
     "execution_count": 6,
     "metadata": {},
     "output_type": "execute_result"
    }
   ],
   "source": [
    "rng.random(1)"
   ]
  },
  {
   "cell_type": "code",
   "execution_count": null,
   "metadata": {},
   "outputs": [],
   "source": [
    "def f(x: np.ndarray):\n",
    "    print(x)"
   ]
  },
  {
   "cell_type": "code",
   "execution_count": null,
   "metadata": {},
   "outputs": [],
   "source": [
    "(np.array([None, 1]) == None).any()"
   ]
  },
  {
   "cell_type": "code",
   "execution_count": null,
   "metadata": {},
   "outputs": [],
   "source": [
    "b = np.array([[0], [1]])\n",
    "c = np.array([[10], [100]])\n",
    "a = [b, c]\n",
    "a"
   ]
  },
  {
   "cell_type": "code",
   "execution_count": null,
   "metadata": {},
   "outputs": [],
   "source": [
    "for idx in range(len(a)):\n",
    "    a[idx].resize(1, refcheck=False)\n",
    "\n",
    "a"
   ]
  },
  {
   "cell_type": "code",
   "execution_count": null,
   "metadata": {},
   "outputs": [],
   "source": [
    "b"
   ]
  },
  {
   "cell_type": "code",
   "execution_count": null,
   "metadata": {},
   "outputs": [],
   "source": [
    "island = Island(4)\n",
    "print(island.victim_memory)\n",
    "np.fill_diagonal(island.victim_memory, np.nan)\n",
    "print(island.victim_memory)\n"
   ]
  },
  {
   "cell_type": "code",
   "execution_count": null,
   "metadata": {},
   "outputs": [],
   "source": [
    "somebody_die = [island.current_members[3], island.current_members[2]]"
   ]
  },
  {
   "cell_type": "code",
   "execution_count": null,
   "metadata": {},
   "outputs": [],
   "source": [
    "somebody_born = [Member(\"aha\", 1, None), Member(\"aha\", 99, None)]"
   ]
  },
  {
   "cell_type": "code",
   "execution_count": null,
   "metadata": {},
   "outputs": [],
   "source": [
    "print(island.all_members)\n",
    "print(island.current_members)\n",
    "print(island.victim_memory)\n",
    "print(island.benefit_memory)"
   ]
  },
  {
   "cell_type": "code",
   "execution_count": null,
   "metadata": {},
   "outputs": [],
   "source": [
    "island.member_list_modify(somebody_born, somebody_die, np.zeros((2, 4)), np.zeros((4, 2)))\n",
    "print(island.all_members)\n",
    "print(island.current_members)\n",
    "print(island.current_member_num)\n",
    "print(island.victim_memory)\n",
    "print(island.benefit_memory)\n",
    "print(island.current_members[-1].surviver_id)\n",
    "print(island.all_members[-1].surviver_id)\n",
    "print(island.all_members[-1].id)"
   ]
  },
  {
   "cell_type": "code",
   "execution_count": null,
   "metadata": {},
   "outputs": [],
   "source": [
    "a = np.random.rand(5, 5)\n",
    "a"
   ]
  },
  {
   "cell_type": "code",
   "execution_count": null,
   "metadata": {},
   "outputs": [],
   "source": [
    "a = np.delete(a, (1, 2), axis=0)\n",
    "a = np.delete(a, (1, 2), axis=1)\n",
    "a"
   ]
  },
  {
   "cell_type": "code",
   "execution_count": null,
   "metadata": {},
   "outputs": [],
   "source": [
    "a = np.delete(a, (1), axis=1)\n",
    "a"
   ]
  },
  {
   "cell_type": "code",
   "execution_count": null,
   "metadata": {},
   "outputs": [],
   "source": [
    "b = a[0]\n",
    "b"
   ]
  },
  {
   "cell_type": "code",
   "execution_count": null,
   "metadata": {},
   "outputs": [],
   "source": [
    "np.sort(b)[::-1]"
   ]
  },
  {
   "cell_type": "code",
   "execution_count": null,
   "metadata": {},
   "outputs": [],
   "source": [
    "island = Island(10)\n",
    "print(island.all_members)\n"
   ]
  },
  {
   "cell_type": "code",
   "execution_count": null,
   "metadata": {},
   "outputs": [],
   "source": [
    "island.all_members\n",
    "print(island.current_members)"
   ]
  },
  {
   "cell_type": "code",
   "execution_count": null,
   "metadata": {},
   "outputs": [],
   "source": [
    "island.all_members[0].name = \"aaaaa\"\n",
    "print(island.all_members)\n",
    "print(island.current_members)"
   ]
  },
  {
   "cell_type": "code",
   "execution_count": null,
   "metadata": {},
   "outputs": [],
   "source": [
    "np.random.seed(1)\n",
    "x = np.random.random(10)\n",
    "print(x)\n",
    "print(np.random.normal(x[0], 1, 10))"
   ]
  },
  {
   "cell_type": "code",
   "execution_count": null,
   "metadata": {},
   "outputs": [],
   "source": [
    "a = [[[1, 2], [3, 4]], [[5, 6], [7, 8]]]\n",
    "a.append([[9, 0], [1, 2]])\n",
    "arr = np.array(a)\n",
    "arr.reshape(3, 4)"
   ]
  },
  {
   "cell_type": "code",
   "execution_count": null,
   "metadata": {},
   "outputs": [],
   "source": [
    "arr.reshape(3, 2, 2)"
   ]
  },
  {
   "cell_type": "code",
   "execution_count": null,
   "metadata": {},
   "outputs": [],
   "source": [
    "pd.DataFrame([[1,2,3],[4,5,6]], index=['a','b'], columns=[\"g\", 'h', 'j'])"
   ]
  },
  {
   "cell_type": "code",
   "execution_count": null,
   "metadata": {},
   "outputs": [],
   "source": [
    "a = [\"a\", \"b\", \"c\"]\n",
    "np.random.shuffle(a)\n",
    "a"
   ]
  },
  {
   "cell_type": "code",
   "execution_count": null,
   "metadata": {},
   "outputs": [],
   "source": [
    "a = np.array([0, 1, 2, 3])\n",
    "b = [True, False, True, False]\n",
    "a[b]"
   ]
  },
  {
   "cell_type": "code",
   "execution_count": null,
   "metadata": {},
   "outputs": [],
   "source": [
    "plt.plot([1 ,2 ,3], [1, 2, None])"
   ]
  },
  {
   "cell_type": "code",
   "execution_count": null,
   "metadata": {},
   "outputs": [],
   "source": [
    "print(plt.cm.RdYlGn)"
   ]
  },
  {
   "cell_type": "code",
   "execution_count": null,
   "metadata": {},
   "outputs": [],
   "source": [
    "list = np.array([1, 2, 3 ,4, 5])\n",
    "list[list < 3] = 0\n",
    "list"
   ]
  },
  {
   "cell_type": "code",
   "execution_count": null,
   "metadata": {},
   "outputs": [],
   "source": [
    "list = ['iarry', 'harry', 'hbrry']\n",
    "arg_sort_list = np.argsort(list)\n",
    "arg_sort_list"
   ]
  },
  {
   "cell_type": "code",
   "execution_count": null,
   "metadata": {},
   "outputs": [],
   "source": [
    "list = [list[i] for i in arg_sort_list]\n",
    "list"
   ]
  },
  {
   "cell_type": "code",
   "execution_count": null,
   "metadata": {},
   "outputs": [],
   "source": [
    "np.split((np.arange(10)), 2)"
   ]
  },
  {
   "cell_type": "code",
   "execution_count": null,
   "metadata": {},
   "outputs": [],
   "source": [
    "mat = np.random.rand(3, 3)\n",
    "mat = [[1, 2, 3], [2, 0, 4], [1, 2, 1]]\n",
    "mat"
   ]
  },
  {
   "cell_type": "code",
   "execution_count": null,
   "metadata": {},
   "outputs": [],
   "source": [
    "max_mat_element = np.argmax(np.sum(mat, 1))\n",
    "max_mat_element"
   ]
  },
  {
   "cell_type": "code",
   "execution_count": null,
   "metadata": {},
   "outputs": [],
   "source": [
    "class test_class:\n",
    "    def __init__(self):\n",
    "        self.att = 1\n",
    "\n",
    "def change(cl):\n",
    "    cl.att = 2\n",
    "\n",
    "a = test_class()\n",
    "change(a)\n",
    "a.att"
   ]
  },
  {
   "cell_type": "code",
   "execution_count": null,
   "metadata": {},
   "outputs": [],
   "source": [
    "str = \"\"\n",
    "str == \"\""
   ]
  },
  {
   "cell_type": "code",
   "execution_count": null,
   "metadata": {},
   "outputs": [],
   "source": [
    "np.random.choice([1, 2, 3], size=1, p = [1, 2, 3])"
   ]
  }
 ],
 "metadata": {
  "kernelspec": {
   "display_name": "Python 3.8.13 ('phy38')",
   "language": "python",
   "name": "python3"
  },
  "language_info": {
   "codemirror_mode": {
    "name": "ipython",
    "version": 3
   },
   "file_extension": ".py",
   "mimetype": "text/x-python",
   "name": "python",
   "nbconvert_exporter": "python",
   "pygments_lexer": "ipython3",
   "version": "3.8.13"
  },
  "orig_nbformat": 4,
  "vscode": {
   "interpreter": {
    "hash": "e71a9b6b09bbbaeeb6f43b254cb8ba466b84213b48d9afc89c8df1b3757be717"
   }
  }
 },
 "nbformat": 4,
 "nbformat_minor": 2
}
