{
 "cells": [
  {
   "cell_type": "code",
   "execution_count": 1,
   "metadata": {},
   "outputs": [],
   "source": [
    "import numpy as np\n",
    "import matplotlib.pyplot as plt\n",
    "import pandas as pd\n",
    "from Island import Island, Member\n",
    "from time import time"
   ]
  },
  {
   "cell_type": "code",
   "execution_count": 2,
   "metadata": {},
   "outputs": [],
   "source": [
    "island = Island(50, random_seed=2022)"
   ]
  },
  {
   "cell_type": "code",
   "execution_count": 3,
   "metadata": {},
   "outputs": [
    {
     "name": "stdout",
     "output_type": "stream",
     "text": [
      "################ 0 ################\n",
      "=============== 攻击 ===============\n",
      "=============== 给予 ===============\n",
      "========================================\n",
      "本轮出生：[]\n",
      "本轮死亡：[]\n",
      "本轮总给予：0\n",
      "本轮总攻击：0\n",
      "本轮总产量：0\n",
      "========================================\n",
      "\t id   Name       Age    Vit     Cargo\n",
      "\t[0] Marvell:    170,   26.66,   37.38\n",
      "\t[1] Morgen:     804,   32.08,   70.90\n",
      "\t[2] Jerin:      106,   43.96,   50.06\n",
      "\t[3] Boy:        62,   45.68,   66.50\n",
      "\t[4] Arnisha:    635,   87.89,   20.52\n",
      "\t[5] Karoline:   407,   23.32,   0.84\n",
      "\t[6] Aime:       476,   44.56,   26.65\n",
      "\t[7] Lamesha:    595,   27.91,   51.06\n",
      "\t[8] Maya:       488,   55.66,   24.40\n",
      "\t[9] Latoiya:    806,   56.42,   26.95\n",
      "\t[10] Lashayla:   936,   55.78,   87.93\n",
      "\t[11] Gabriella:  722,   41.22,   48.05\n",
      "\t[12] Kristinejoy: 70,   59.93,   92.65\n",
      "\t[13] Waymon:     526,   69.14,   61.92\n",
      "\t[14] Elisabeth:  59,   63.19,   7.09\n",
      "\t[15] Corwyn:     825,   21.25,   86.77\n",
      "\t[16] Scotty:     361,   75.07,   32.12\n",
      "\t[17] Karriem:    503,   62.53,   28.28\n",
      "\t[18] Sareena:    651,   68.03,   35.32\n",
      "\t[19] Arleen:     383,   68.07,   92.08\n",
      "\t[20] Tristin:    258,   73.26,   48.49\n",
      "\t[21] Nidya:      937,   18.18,   53.58\n",
      "\t[22] Jemar:      599,   49.53,   80.04\n",
      "\t[23] Aziz:       230,   35.00,   37.20\n",
      "\t[24] Jermaine:   976,   29.17,   54.78\n",
      "\t[25] Casia:      439,   42.16,   3.56\n",
      "\t[26] Anastassia: 449,   59.62,   79.85\n",
      "\t[27] Alicen:     800,   43.34,   41.30\n",
      "\t[28] Korinne:    231,   15.04,   71.79\n",
      "\t[29] Deontrae:   501,   83.91,   48.92\n",
      "\t[30] Willie:     680,   19.50,   49.99\n",
      "\t[31] Renada:     514,   64.81,   28.56\n",
      "\t[32] Aireal:     239,   42.45,   85.93\n",
      "\t[33] Reem:       973,   20.39,   10.80\n",
      "\t[34] Taralyn:    423,   75.09,   39.10\n",
      "\t[35] Taiwan:     408,   20.15,   16.68\n",
      "\t[36] Arik:       638,   11.00,   61.66\n",
      "\t[37] Chenoa:     774,   76.31,   20.00\n",
      "\t[38] Janelle:    127,   34.62,   2.92\n",
      "\t[39] Ellena:     587,   81.38,   70.91\n",
      "\t[40] Valarie:    349,   52.20,   12.05\n",
      "\t[41] Darbie:     165,   58.90,   73.38\n",
      "\t[42] Tomeshia:   609,   25.33,   30.87\n",
      "\t[43] Nicolette:  103,   73.23,   25.54\n",
      "\t[44] Tremell:    290,   77.24,   36.08\n",
      "\t[45] Liborio:    843,   77.79,   0.94\n",
      "\t[46] Mirtha:     774,   23.59,   13.96\n",
      "\t[47] Rodderick:  507,   23.65,   87.53\n",
      "\t[48] Huston:     77,   22.44,   8.67\n",
      "\t[49] Rashad:     604,   84.69,   37.00\n",
      "\n"
     ]
    }
   ],
   "source": [
    "island.new_round()"
   ]
  },
  {
   "cell_type": "code",
   "execution_count": 4,
   "metadata": {},
   "outputs": [],
   "source": [
    "island.produce()"
   ]
  },
  {
   "cell_type": "code",
   "execution_count": 5,
   "metadata": {},
   "outputs": [
    {
     "name": "stdout",
     "output_type": "stream",
     "text": [
      "Korinne(28) 死了\n"
     ]
    }
   ],
   "source": [
    "island.fight()"
   ]
  },
  {
   "cell_type": "code",
   "execution_count": 6,
   "metadata": {},
   "outputs": [
    {
     "name": "stdout",
     "output_type": "stream",
     "text": [
      "Nidya(21) 死了\n",
      "Jermaine(24) 死了\n",
      "Reem(33) 死了\n",
      "Taiwan(35) 死了\n"
     ]
    }
   ],
   "source": [
    "island.consume()"
   ]
  },
  {
   "cell_type": "code",
   "execution_count": 7,
   "metadata": {},
   "outputs": [],
   "source": [
    "island.trade()"
   ]
  },
  {
   "cell_type": "code",
   "execution_count": 8,
   "metadata": {},
   "outputs": [
    {
     "name": "stdout",
     "output_type": "stream",
     "text": [
      "0 0.0\n",
      "20.962717364081062 2.8080842458728315\n",
      "0 0.0\n",
      "0.9469318567669127 0.10050637750885726\n",
      "0 0.0\n",
      "0 0.0\n"
     ]
    }
   ],
   "source": [
    "island.reproduce(group_size=30)"
   ]
  },
  {
   "cell_type": "code",
   "execution_count": 18,
   "metadata": {},
   "outputs": [
    {
     "name": "stdout",
     "output_type": "stream",
     "text": [
      "################ 10 ################\n",
      "=============== 攻击 ===============\n",
      "\tWaymon(13) --22.0-> Scotty(16)\n",
      "\tScotty(16) --24.9-> Waymon(13)\n",
      "\tTaiwan(35) --6.4-> Sareena(18)\n",
      "\tSareena(18) --22.7-> Taiwan(35)\n",
      "\tLamesha(7) --8.2-> Lashayla(10)\n",
      "\tLashayla(10) --16.5-> Lamesha(7)\n",
      "\tArnisha(4) --28.8-> Morgen(1)\n",
      "\tMorgen(1) --8.6-> Arnisha(4)\n",
      "\tJermaine(24) --6.5-> Tristin(20)\n",
      "\tTristin(20) --26.8-> Jermaine(24)\n",
      "\tNicolette(43) --16.6-> Jerin(2)\n",
      "\tJerin(2) --12.8-> Nicolette(43)\n",
      "\tDarbie(41) --17.5-> Tremell(44)\n",
      "\tTremell(44) --24.4-> Darbie(41)\n",
      "\tMaya(8) --19.0-> Boy(3)\n",
      "\tBoy(3) --16.1-> Maya(8)\n",
      "\tTomeshia(42) --8.5-> Karriem(17)\n",
      "\tKarriem(17) --18.1-> Tomeshia(42)\n",
      "\tMirtha(46) --7.8-> Chenoa(37)\n",
      "\tChenoa(37) --22.3-> Mirtha(46)\n",
      "\tEllena(39) --31.1-> Korinne(28)\n",
      "\tKorinne(28) --3.7-> Ellena(39)\n",
      "\tAime(6) --15.0-> Casia(25)\n",
      "\tCasia(25) --13.7-> Aime(6)\n",
      "=============== 给予 ===============\n",
      "\tScotty(16) --0.0-> Silas(50)\n",
      "\tEllena(39) --2.8-> Silas(50)\n",
      "\tRenada(31) --0.0-> Kjersten(51)\n",
      "\tAireal(32) --0.1-> Kjersten(51)\n",
      "\tTomeshia(42) --0.0-> Mathan(52)\n",
      "\tTaralyn(34) --0.0-> Mathan(52)\n",
      "========================================\n",
      "本轮出生：[Silas(50), Kjersten(51), Mathan(52)]\n",
      "本轮死亡：[Korinne(28), Nidya(21), Jermaine(24), Reem(33), Taiwan(35)]\n",
      "本轮总给予：0\n",
      "本轮总攻击：0\n",
      "本轮总产量：0\n",
      "========================================\n",
      "\t id   Name       Age  Vit   Cargo\n",
      "\t[0] Marvell:    180, 66.51, 0.00\n",
      "\t[1] Morgen:     814, 81.99, 0.00\n",
      "\t[2] Jerin:      116, 79.74, 0.00\n",
      "\t[3] Boy:        72, 97.43, 0.00\n",
      "\t[4] Arnisha:    645, 100.00, 9.72\n",
      "\t[5] Karoline:   417, 27.20, 0.00\n",
      "\t[6] Aime:       486, 59.21, 0.00\n",
      "\t[7] Lamesha:    605, 71.31, 0.00\n",
      "\t[8] Maya:       498, 66.45, 0.00\n",
      "\t[9] Latoiya:    816, 84.70, 0.00\n",
      "\t[10] Lashayla:   946, 100.00, 21.98\n",
      "\t[11] Gabriella:  732, 97.70, 0.00\n",
      "\t[12] Kristinejoy: 80, 100.00, 57.18\n",
      "\t[13] Waymon:     536, 100.00, 10.45\n",
      "\t[14] Elisabeth:  69, 77.46, 0.00\n",
      "\t[15] Corwyn:     835, 100.00, 12.22\n",
      "\t[16] Scotty:     371, 73.54, 0.00\n",
      "\t[17] Karriem:    513, 89.01, 0.00\n",
      "\t[18] Sareena:    661, 100.00, 5.14\n",
      "\t[19] Arleen:     393, 100.00, 65.94\n",
      "\t[20] Tristin:    268, 100.00, 23.07\n",
      "\t[22] Jemar:      609, 100.00, 35.01\n",
      "\t[23] Aziz:       240, 72.44, 0.00\n",
      "\t[25] Casia:      449, 39.37, 0.00\n",
      "\t[26] Anastassia: 459, 100.00, 46.75\n",
      "\t[27] Alicen:     810, 83.76, 0.00\n",
      "\t[29] Deontrae:   511, 100.00, 36.49\n",
      "\t[30] Willie:     690, 75.66, 0.00\n",
      "\t[31] Renada:     524, 78.05, 0.00\n",
      "\t[32] Aireal:     249, 100.00, 0.85\n",
      "\t[34] Taralyn:    433, 85.99, 0.00\n",
      "\t[36] Arik:       648, 78.99, 0.00\n",
      "\t[37] Chenoa:     784, 89.19, 0.00\n",
      "\t[38] Janelle:    137, 41.34, 0.00\n",
      "\t[39] Ellena:     597, 100.00, 18.15\n",
      "\t[40] Valarie:    359, 69.30, 0.00\n",
      "\t[41] Darbie:     175, 100.00, 14.92\n",
      "\t[42] Tomeshia:   619, 31.45, 0.00\n",
      "\t[43] Nicolette:  113, 86.64, 0.00\n",
      "\t[44] Tremell:    300, 97.26, 0.00\n",
      "\t[45] Liborio:    853, 84.96, 0.00\n",
      "\t[46] Mirtha:     784, 16.08, 0.00\n",
      "\t[47] Rodderick:  517, 100.00, 18.59\n",
      "\t[48] Huston:     87, 35.15, 0.00\n",
      "\t[49] Rashad:     614, 100.00, 22.19\n",
      "\t[50] Silas:      9, 2.81, 0.00\n",
      "\t[51] Kjersten:   9, 0.10, 0.00\n",
      "\t[52] Mathan:     9, 0.00, 0.00\n",
      "\n"
     ]
    }
   ],
   "source": [
    "island.new_round()"
   ]
  },
  {
   "cell_type": "code",
   "execution_count": null,
   "metadata": {},
   "outputs": [
    {
     "name": "stdout",
     "output_type": "stream",
     "text": [
      "Donetta(0) Christyn(1) 1.9814009745630035\n",
      "Donetta(0) Pearson(2) 2.0915540244016757\n",
      "Donetta(0) Jenea(3) 2.846092493963173\n",
      "Donetta(0) Chella(4) 2.1365431036118894\n",
      "Christyn(1) Donetta(0) 0.7194964569588894\n",
      "Christyn(1) Pearson(2) 1.1504669353591621\n",
      "Christyn(1) Jenea(3) 1.393790093511261\n",
      "Christyn(1) Chella(4) 0.5412719136836731\n",
      "Pearson(2) Donetta(0) -0.6311395622625386\n",
      "Pearson(2) Christyn(1) 0.41698158506555283\n",
      "Pearson(2) Jenea(3) -1.0594480094763146\n",
      "Pearson(2) Chella(4) 0.5477678479215317\n",
      "Jenea(3) Donetta(0) -1.9929301805289028\n",
      "Jenea(3) Christyn(1) -2.013082768364038\n",
      "Jenea(3) Pearson(2) -1.5650373818244554\n",
      "Jenea(3) Chella(4) -1.869348387635385\n",
      "Chella(4) Donetta(0) 1.3648085956262477\n",
      "Chella(4) Christyn(1) 1.3332823751821103\n",
      "Chella(4) Pearson(2) 1.0871949020329128\n",
      "Chella(4) Jenea(3) 1.7703707448054953\n"
     ]
    }
   ],
   "source": [
    "for mem in groups[0]:\n",
    "    for obj in groups[0]:\n",
    "        if mem is not obj:\n",
    "            print(mem, obj, mem.decision(\"fight\", obj, island))\n"
   ]
  },
  {
   "cell_type": "code",
   "execution_count": null,
   "metadata": {},
   "outputs": [],
   "source": [
    "member1 = island.all_members[0]\n",
    "member2 = island.all_members[1]"
   ]
  },
  {
   "cell_type": "code",
   "execution_count": null,
   "metadata": {},
   "outputs": [
    {
     "data": {
      "text/plain": [
       "array([ 0.60121465, -0.89372271,  0.20997226,  0.59343662,  0.15537462,\n",
       "        0.0519948 , -0.81174596, -0.97773462,  0.85431746, -0.07127653,\n",
       "        0.1856762 ,  0.19105307,  0.61329238, -0.50925015])"
      ]
     },
     "execution_count": 4,
     "metadata": {},
     "output_type": "execute_result"
    }
   ],
   "source": [
    "member1.fight_parameter"
   ]
  },
  {
   "cell_type": "code",
   "execution_count": null,
   "metadata": {},
   "outputs": [
    {
     "data": {
      "text/plain": [
       "array([ 0.        , -0.89372271,  0.20997226,  0.59343662,  0.15537462,\n",
       "        0.0519948 , -0.81174596, -0.97773462,  0.85431746, -0.07127653,\n",
       "        0.1856762 ,  0.19105307,  0.61329238, -0.50925015])"
      ]
     },
     "execution_count": 5,
     "metadata": {},
     "output_type": "execute_result"
    }
   ],
   "source": [
    "member1.fight_parameter[0] = 0\n",
    "member1.parameter_dict[\"fight\"]"
   ]
  },
  {
   "cell_type": "code",
   "execution_count": null,
   "metadata": {},
   "outputs": [
    {
     "data": {
      "text/plain": [
       "308.04875809195704"
      ]
     },
     "execution_count": 5,
     "metadata": {},
     "output_type": "execute_result"
    }
   ],
   "source": [
    "inputs = list(member1._generate_decision_inputs(member2, island).values())\n",
    "member1._decision(member1.fight_parameter, inputs)"
   ]
  },
  {
   "cell_type": "code",
   "execution_count": null,
   "metadata": {},
   "outputs": [],
   "source": []
  },
  {
   "cell_type": "code",
   "execution_count": null,
   "metadata": {},
   "outputs": [
    {
     "data": {
      "text/plain": [
       "range(1, 10)"
      ]
     },
     "execution_count": 8,
     "metadata": {},
     "output_type": "execute_result"
    }
   ],
   "source": [
    "range(1, 10)"
   ]
  },
  {
   "cell_type": "code",
   "execution_count": null,
   "metadata": {},
   "outputs": [],
   "source": [
    "Member.born(island.all_members[0], island.all_members[1])"
   ]
  },
  {
   "cell_type": "code",
   "execution_count": null,
   "metadata": {},
   "outputs": [
    {
     "data": {
      "text/plain": [
       "array([1, 1, 2, 2, 3, 3, 4, 4])"
      ]
     },
     "execution_count": 9,
     "metadata": {},
     "output_type": "execute_result"
    }
   ],
   "source": [
    "a = [1, 2, 3, 4]\n",
    "np.repeat(a, 2)"
   ]
  },
  {
   "cell_type": "code",
   "execution_count": null,
   "metadata": {},
   "outputs": [
    {
     "ename": "NameError",
     "evalue": "name 'np' is not defined",
     "output_type": "error",
     "traceback": [
      "\u001b[0;31m---------------------------------------------------------------------------\u001b[0m",
      "\u001b[0;31mNameError\u001b[0m                                 Traceback (most recent call last)",
      "\u001b[1;32m/Users/Harry/Documents/Programs/Leviathan/test.ipynb Cell 9'\u001b[0m in \u001b[0;36m<cell line: 2>\u001b[0;34m()\u001b[0m\n\u001b[1;32m      <a href='vscode-notebook-cell:/Users/Harry/Documents/Programs/Leviathan/test.ipynb#ch0000007?line=0'>1</a>\u001b[0m a \u001b[39m=\u001b[39m [\u001b[39m\"\u001b[39m\u001b[39ma\u001b[39m\u001b[39m\"\u001b[39m, \u001b[39m\"\u001b[39m\u001b[39mb\u001b[39m\u001b[39m\"\u001b[39m]\n\u001b[0;32m----> <a href='vscode-notebook-cell:/Users/Harry/Documents/Programs/Leviathan/test.ipynb#ch0000007?line=1'>2</a>\u001b[0m b \u001b[39m=\u001b[39m [np\u001b[39m.\u001b[39mrandom\u001b[39m.\u001b[39mrand(\u001b[39m2\u001b[39m), np\u001b[39m.\u001b[39mrandom\u001b[39m.\u001b[39mrand(\u001b[39m2\u001b[39m)]\n\u001b[1;32m      <a href='vscode-notebook-cell:/Users/Harry/Documents/Programs/Leviathan/test.ipynb#ch0000007?line=2'>3</a>\u001b[0m d \u001b[39m=\u001b[39m \u001b[39mdict\u001b[39m(\u001b[39mzip\u001b[39m(a, b))\n\u001b[1;32m      <a href='vscode-notebook-cell:/Users/Harry/Documents/Programs/Leviathan/test.ipynb#ch0000007?line=3'>4</a>\u001b[0m d\n",
      "\u001b[0;31mNameError\u001b[0m: name 'np' is not defined"
     ]
    }
   ],
   "source": [
    "a = [\"a\", \"b\"]\n",
    "b = [np.random.rand(2), np.random.rand(2)]\n",
    "d = dict(zip(a, b))\n",
    "d"
   ]
  },
  {
   "cell_type": "code",
   "execution_count": null,
   "metadata": {},
   "outputs": [
    {
     "data": {
      "text/plain": [
       "{'a': 'c', 'b': 'd'}"
      ]
     },
     "execution_count": 4,
     "metadata": {},
     "output_type": "execute_result"
    }
   ],
   "source": [
    "n = {key: d[key] for key in d.keys()}\n",
    "n"
   ]
  },
  {
   "cell_type": "code",
   "execution_count": null,
   "metadata": {},
   "outputs": [],
   "source": [
    "class foo:\n",
    "    def __init__(self, a):\n",
    "        self.a = a\n",
    "\n",
    "    @property\n",
    "    def return_a(self):\n",
    "        return self.a * 2"
   ]
  },
  {
   "cell_type": "code",
   "execution_count": null,
   "metadata": {},
   "outputs": [
    {
     "data": {
      "text/plain": [
       "2"
      ]
     },
     "execution_count": 17,
     "metadata": {},
     "output_type": "execute_result"
    }
   ],
   "source": [
    "x = foo(1)\n",
    "x.return_a"
   ]
  },
  {
   "cell_type": "code",
   "execution_count": null,
   "metadata": {},
   "outputs": [
    {
     "name": "stdout",
     "output_type": "stream",
     "text": [
      "[Marvell(0), Morgen(1), Jerin(2), Boy(3), Arnisha(4), Karoline(5), Aime(6), Lamesha(7), Maya(8), Latoiya(9), Lashayla(10)]\n",
      "[Gabriella(11), Kristinejoy(12), Waymon(13), Elisabeth(14), Corwyn(15), Scotty(16), Karriem(17), Sareena(18), Arleen(19), Tristin(20), Nidya(21)]\n",
      "[Jemar(22), Aziz(23), Jermaine(24), Casia(25), Anastassia(26), Alicen(27), Korinne(28), Deontrae(29), Willie(30), Renada(31)]\n",
      "[Aireal(32), Reem(33), Taralyn(34), Taiwan(35), Arik(36), Chenoa(37), Janelle(38), Ellena(39), Valarie(40), Darbie(41)]\n"
     ]
    }
   ],
   "source": [
    "island = Island(42, random_seed=2022)\n",
    "island.fight()"
   ]
  },
  {
   "cell_type": "code",
   "execution_count": null,
   "metadata": {},
   "outputs": [],
   "source": [
    "# seed = time()\n",
    "rng = np.random.default_rng(2022)"
   ]
  },
  {
   "cell_type": "code",
   "execution_count": null,
   "metadata": {},
   "outputs": [
    {
     "data": {
      "text/plain": [
       "array([0.09299006])"
      ]
     },
     "execution_count": 6,
     "metadata": {},
     "output_type": "execute_result"
    }
   ],
   "source": [
    "rng.random(1)"
   ]
  },
  {
   "cell_type": "code",
   "execution_count": null,
   "metadata": {},
   "outputs": [],
   "source": [
    "def f(x: np.ndarray):\n",
    "    print(x)"
   ]
  },
  {
   "cell_type": "code",
   "execution_count": null,
   "metadata": {},
   "outputs": [],
   "source": [
    "(np.array([None, 1]) == None).any()"
   ]
  },
  {
   "cell_type": "code",
   "execution_count": null,
   "metadata": {},
   "outputs": [],
   "source": [
    "b = np.array([[0], [1]])\n",
    "c = np.array([[10], [100]])\n",
    "a = [b, c]\n",
    "a"
   ]
  },
  {
   "cell_type": "code",
   "execution_count": null,
   "metadata": {},
   "outputs": [],
   "source": [
    "for idx in range(len(a)):\n",
    "    a[idx].resize(1, refcheck=False)\n",
    "\n",
    "a"
   ]
  },
  {
   "cell_type": "code",
   "execution_count": null,
   "metadata": {},
   "outputs": [],
   "source": [
    "b"
   ]
  },
  {
   "cell_type": "code",
   "execution_count": null,
   "metadata": {},
   "outputs": [],
   "source": [
    "island = Island(4)\n",
    "print(island.victim_memory)\n",
    "np.fill_diagonal(island.victim_memory, np.nan)\n",
    "print(island.victim_memory)\n"
   ]
  },
  {
   "cell_type": "code",
   "execution_count": null,
   "metadata": {},
   "outputs": [],
   "source": [
    "somebody_die = [island.current_members[3], island.current_members[2]]"
   ]
  },
  {
   "cell_type": "code",
   "execution_count": null,
   "metadata": {},
   "outputs": [],
   "source": [
    "somebody_born = [Member(\"aha\", 1, None), Member(\"aha\", 99, None)]"
   ]
  },
  {
   "cell_type": "code",
   "execution_count": null,
   "metadata": {},
   "outputs": [],
   "source": [
    "print(island.all_members)\n",
    "print(island.current_members)\n",
    "print(island.victim_memory)\n",
    "print(island.benefit_memory)"
   ]
  },
  {
   "cell_type": "code",
   "execution_count": null,
   "metadata": {},
   "outputs": [],
   "source": [
    "island.member_list_modify(somebody_born, somebody_die, np.zeros((2, 4)), np.zeros((4, 2)))\n",
    "print(island.all_members)\n",
    "print(island.current_members)\n",
    "print(island.current_member_num)\n",
    "print(island.victim_memory)\n",
    "print(island.benefit_memory)\n",
    "print(island.current_members[-1].surviver_id)\n",
    "print(island.all_members[-1].surviver_id)\n",
    "print(island.all_members[-1].id)"
   ]
  },
  {
   "cell_type": "code",
   "execution_count": null,
   "metadata": {},
   "outputs": [],
   "source": [
    "a = np.random.rand(5, 5)\n",
    "a"
   ]
  },
  {
   "cell_type": "code",
   "execution_count": null,
   "metadata": {},
   "outputs": [],
   "source": [
    "a = np.delete(a, (1, 2), axis=0)\n",
    "a = np.delete(a, (1, 2), axis=1)\n",
    "a"
   ]
  },
  {
   "cell_type": "code",
   "execution_count": null,
   "metadata": {},
   "outputs": [],
   "source": [
    "a = np.delete(a, (1), axis=1)\n",
    "a"
   ]
  },
  {
   "cell_type": "code",
   "execution_count": null,
   "metadata": {},
   "outputs": [],
   "source": [
    "b = a[0]\n",
    "b"
   ]
  },
  {
   "cell_type": "code",
   "execution_count": null,
   "metadata": {},
   "outputs": [],
   "source": [
    "np.sort(b)[::-1]"
   ]
  },
  {
   "cell_type": "code",
   "execution_count": null,
   "metadata": {},
   "outputs": [],
   "source": [
    "island = Island(10)\n",
    "print(island.all_members)\n"
   ]
  },
  {
   "cell_type": "code",
   "execution_count": null,
   "metadata": {},
   "outputs": [],
   "source": [
    "island.all_members\n",
    "print(island.current_members)"
   ]
  },
  {
   "cell_type": "code",
   "execution_count": null,
   "metadata": {},
   "outputs": [],
   "source": [
    "island.all_members[0].name = \"aaaaa\"\n",
    "print(island.all_members)\n",
    "print(island.current_members)"
   ]
  },
  {
   "cell_type": "code",
   "execution_count": null,
   "metadata": {},
   "outputs": [],
   "source": [
    "np.random.seed(1)\n",
    "x = np.random.random(10)\n",
    "print(x)\n",
    "print(np.random.normal(x[0], 1, 10))"
   ]
  },
  {
   "cell_type": "code",
   "execution_count": null,
   "metadata": {},
   "outputs": [],
   "source": [
    "a = [[[1, 2], [3, 4]], [[5, 6], [7, 8]]]\n",
    "a.append([[9, 0], [1, 2]])\n",
    "arr = np.array(a)\n",
    "arr.reshape(3, 4)"
   ]
  },
  {
   "cell_type": "code",
   "execution_count": null,
   "metadata": {},
   "outputs": [],
   "source": [
    "arr.reshape(3, 2, 2)"
   ]
  },
  {
   "cell_type": "code",
   "execution_count": null,
   "metadata": {},
   "outputs": [],
   "source": [
    "pd.DataFrame([[1,2,3],[4,5,6]], index=['a','b'], columns=[\"g\", 'h', 'j'])"
   ]
  },
  {
   "cell_type": "code",
   "execution_count": null,
   "metadata": {},
   "outputs": [],
   "source": [
    "a = [\"a\", \"b\", \"c\"]\n",
    "np.random.shuffle(a)\n",
    "a"
   ]
  },
  {
   "cell_type": "code",
   "execution_count": null,
   "metadata": {},
   "outputs": [],
   "source": [
    "a = np.array([0, 1, 2, 3])\n",
    "b = [True, False, True, False]\n",
    "a[b]"
   ]
  },
  {
   "cell_type": "code",
   "execution_count": null,
   "metadata": {},
   "outputs": [],
   "source": [
    "plt.plot([1 ,2 ,3], [1, 2, None])"
   ]
  },
  {
   "cell_type": "code",
   "execution_count": null,
   "metadata": {},
   "outputs": [],
   "source": [
    "print(plt.cm.RdYlGn)"
   ]
  },
  {
   "cell_type": "code",
   "execution_count": null,
   "metadata": {},
   "outputs": [],
   "source": [
    "list = np.array([1, 2, 3 ,4, 5])\n",
    "list[list < 3] = 0\n",
    "list"
   ]
  },
  {
   "cell_type": "code",
   "execution_count": null,
   "metadata": {},
   "outputs": [],
   "source": [
    "list = ['iarry', 'harry', 'hbrry']\n",
    "arg_sort_list = np.argsort(list)\n",
    "arg_sort_list"
   ]
  },
  {
   "cell_type": "code",
   "execution_count": null,
   "metadata": {},
   "outputs": [],
   "source": [
    "list = [list[i] for i in arg_sort_list]\n",
    "list"
   ]
  },
  {
   "cell_type": "code",
   "execution_count": null,
   "metadata": {},
   "outputs": [],
   "source": [
    "np.split((np.arange(10)), 2)"
   ]
  },
  {
   "cell_type": "code",
   "execution_count": null,
   "metadata": {},
   "outputs": [],
   "source": [
    "mat = np.random.rand(3, 3)\n",
    "mat = [[1, 2, 3], [2, 0, 4], [1, 2, 1]]\n",
    "mat"
   ]
  },
  {
   "cell_type": "code",
   "execution_count": null,
   "metadata": {},
   "outputs": [],
   "source": [
    "max_mat_element = np.argmax(np.sum(mat, 1))\n",
    "max_mat_element"
   ]
  },
  {
   "cell_type": "code",
   "execution_count": null,
   "metadata": {},
   "outputs": [],
   "source": [
    "class test_class:\n",
    "    def __init__(self):\n",
    "        self.att = 1\n",
    "\n",
    "def change(cl):\n",
    "    cl.att = 2\n",
    "\n",
    "a = test_class()\n",
    "change(a)\n",
    "a.att"
   ]
  },
  {
   "cell_type": "code",
   "execution_count": null,
   "metadata": {},
   "outputs": [],
   "source": [
    "str = \"\"\n",
    "str == \"\""
   ]
  },
  {
   "cell_type": "code",
   "execution_count": null,
   "metadata": {},
   "outputs": [],
   "source": [
    "np.random.choice([1, 2, 3], size=1, p = [1, 2, 3])"
   ]
  }
 ],
 "metadata": {
  "kernelspec": {
   "display_name": "Python 3.8.13 ('phy38')",
   "language": "python",
   "name": "python3"
  },
  "language_info": {
   "codemirror_mode": {
    "name": "ipython",
    "version": 3
   },
   "file_extension": ".py",
   "mimetype": "text/x-python",
   "name": "python",
   "nbconvert_exporter": "python",
   "pygments_lexer": "ipython3",
   "version": "3.8.13"
  },
  "orig_nbformat": 4,
  "vscode": {
   "interpreter": {
    "hash": "e71a9b6b09bbbaeeb6f43b254cb8ba466b84213b48d9afc89c8df1b3757be717"
   }
  }
 },
 "nbformat": 4,
 "nbformat_minor": 2
}
