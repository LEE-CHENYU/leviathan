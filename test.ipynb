{
 "cells": [
  {
   "cell_type": "code",
   "execution_count": 1,
   "metadata": {},
   "outputs": [],
   "source": [
    "import numpy as np\n",
    "import matplotlib.pyplot as plt\n",
    "import pandas as pd\n",
    "from Island import Island, Member\n",
    "from time import time\n",
    "from Land import Land\n",
    "import os\n",
    "\n",
    "rng = np.random.default_rng()\n",
    "island = Island(5, (5, 5), 2022)"
   ]
  },
  {
   "cell_type": "code",
   "execution_count": 2,
   "metadata": {},
   "outputs": [
    {
     "data": {
      "text/plain": [
       "[[None, None, None, None, \u001b[38;2;8;255;81mJerin(2) \u001b[38;2;255;255;255m],\n",
       " [\u001b[38;2;10;233;17mArnisha(4) \u001b[38;2;255;255;255m,\n",
       "  None,\n",
       "  None,\n",
       "  \u001b[38;2;241;6;184mMorgen(1) \u001b[38;2;255;255;255m,\n",
       "  \u001b[38;2;0;236;176mMarvell(0) \u001b[38;2;255;255;255m],\n",
       " [None, None, None, None, None],\n",
       " [None, None, None, \u001b[38;2;43;7;246mBoy(3) \u001b[38;2;255;255;255m, None],\n",
       " [None, None, None, None, None]]"
      ]
     },
     "execution_count": 2,
     "metadata": {},
     "output_type": "execute_result"
    }
   ],
   "source": [
    "island.land.owner"
   ]
  },
  {
   "cell_type": "code",
   "execution_count": 3,
   "metadata": {},
   "outputs": [],
   "source": [
    "island.shuffle_current_members()\n",
    "island.colonize()\n",
    "island.shuffle_current_members()\n",
    "island.colonize()\n",
    "island.shuffle_current_members()\n",
    "island.colonize()"
   ]
  },
  {
   "cell_type": "code",
   "execution_count": 4,
   "metadata": {},
   "outputs": [
    {
     "data": {
      "text/plain": [
       "[[\u001b[38;2;8;255;81mJerin(2) \u001b[38;2;255;255;255m,\n",
       "  None,\n",
       "  \u001b[38;2;241;6;184mMorgen(1) \u001b[38;2;255;255;255m,\n",
       "  \u001b[38;2;0;236;176mMarvell(0) \u001b[38;2;255;255;255m,\n",
       "  \u001b[38;2;8;255;81mJerin(2) \u001b[38;2;255;255;255m],\n",
       " [\u001b[38;2;10;233;17mArnisha(4) \u001b[38;2;255;255;255m,\n",
       "  \u001b[38;2;10;233;17mArnisha(4) \u001b[38;2;255;255;255m,\n",
       "  None,\n",
       "  \u001b[38;2;241;6;184mMorgen(1) \u001b[38;2;255;255;255m,\n",
       "  \u001b[38;2;0;236;176mMarvell(0) \u001b[38;2;255;255;255m],\n",
       " [\u001b[38;2;10;233;17mArnisha(4) \u001b[38;2;255;255;255m,\n",
       "  \u001b[38;2;241;6;184mMorgen(1) \u001b[38;2;255;255;255m,\n",
       "  \u001b[38;2;43;7;246mBoy(3) \u001b[38;2;255;255;255m,\n",
       "  \u001b[38;2;10;233;17mArnisha(4) \u001b[38;2;255;255;255m,\n",
       "  \u001b[38;2;241;6;184mMorgen(1) \u001b[38;2;255;255;255m],\n",
       " [\u001b[38;2;8;255;81mJerin(2) \u001b[38;2;255;255;255m,\n",
       "  None,\n",
       "  \u001b[38;2;43;7;246mBoy(3) \u001b[38;2;255;255;255m,\n",
       "  \u001b[38;2;43;7;246mBoy(3) \u001b[38;2;255;255;255m,\n",
       "  \u001b[38;2;0;236;176mMarvell(0) \u001b[38;2;255;255;255m],\n",
       " [\u001b[38;2;8;255;81mJerin(2) \u001b[38;2;255;255;255m,\n",
       "  None,\n",
       "  None,\n",
       "  \u001b[38;2;43;7;246mBoy(3) \u001b[38;2;255;255;255m,\n",
       "  \u001b[38;2;0;236;176mMarvell(0) \u001b[38;2;255;255;255m]]"
      ]
     },
     "execution_count": 4,
     "metadata": {},
     "output_type": "execute_result"
    }
   ],
   "source": [
    "island.land.owner"
   ]
  },
  {
   "cell_type": "code",
   "execution_count": 5,
   "metadata": {},
   "outputs": [
    {
     "name": "stdout",
     "output_type": "stream",
     "text": [
      "\u001b[38;2;43;7;246mBoy(3) \u001b[38;2;255;255;255m (3, 3) [(3, 3), (4, 3), (3, 2), (2, 2)]\n",
      "\u001b[38;2;43;7;246mBoy(3) \u001b[38;2;255;255;255m (4, 3) [(4, 3), (3, 2), (2, 2)]\n",
      "\u001b[38;2;43;7;246mBoy(3) \u001b[38;2;255;255;255m (3, 2) [(3, 2), (2, 2)]\n",
      "\u001b[38;2;43;7;246mBoy(3) \u001b[38;2;255;255;255m (2, 2) [(2, 2)]\n",
      "\u001b[38;2;241;6;184mMorgen(1) \u001b[38;2;255;255;255m (1, 3) [(1, 3), (2, 4), (0, 2), (2, 1)]\n",
      "\u001b[38;2;241;6;184mMorgen(1) \u001b[38;2;255;255;255m (2, 4) [(2, 4), (0, 2), (2, 1)]\n",
      "\u001b[38;2;241;6;184mMorgen(1) \u001b[38;2;255;255;255m (0, 2) [(0, 2), (2, 1)]\n",
      "\u001b[38;2;241;6;184mMorgen(1) \u001b[38;2;255;255;255m (2, 1) [(2, 1)]\n",
      "\u001b[38;2;8;255;81mJerin(2) \u001b[38;2;255;255;255m (0, 4) [(0, 4), (0, 0), (4, 0), (3, 0)]\n",
      "\u001b[38;2;8;255;81mJerin(2) \u001b[38;2;255;255;255m (0, 0) [(0, 0), (4, 0), (3, 0)]\n",
      "\u001b[38;2;8;255;81mJerin(2) \u001b[38;2;255;255;255m (4, 0) [(4, 0), (3, 0)]\n",
      "\u001b[38;2;8;255;81mJerin(2) \u001b[38;2;255;255;255m (3, 0) [(3, 0)]\n"
     ]
    }
   ],
   "source": [
    "island.fight()\n",
    "island.produce()"
   ]
  },
  {
   "cell_type": "code",
   "execution_count": 6,
   "metadata": {},
   "outputs": [
    {
     "name": "stdout",
     "output_type": "stream",
     "text": [
      "##################### 0 #####################\n",
      "===================== 攻击 =====================\n",
      "\t\u001b[38;2;8;255;81mJerin(2) \u001b[38;2;255;255;255m --4.5-> \u001b[38;2;0;236;176mMarvell(0) \u001b[38;2;255;255;255m\n",
      "\t\u001b[38;2;8;255;81mJerin(2) \u001b[38;2;255;255;255m --3.6-> \u001b[38;2;241;6;184mMorgen(1) \u001b[38;2;255;255;255m\n",
      "\t\u001b[38;2;8;255;81mJerin(2) \u001b[38;2;255;255;255m --3.9-> \u001b[38;2;10;233;17mArnisha(4) \u001b[38;2;255;255;255m\n",
      "\t\u001b[38;2;8;255;81mJerin(2) \u001b[38;2;255;255;255m --4.1-> \u001b[38;2;43;7;246mBoy(3) \u001b[38;2;255;255;255m\n",
      "\t\u001b[38;2;241;6;184mMorgen(1) \u001b[38;2;255;255;255m --2.4-> \u001b[38;2;10;233;17mArnisha(4) \u001b[38;2;255;255;255m\n",
      "\t\u001b[38;2;241;6;184mMorgen(1) \u001b[38;2;255;255;255m --3.0-> \u001b[38;2;43;7;246mBoy(3) \u001b[38;2;255;255;255m\n",
      "\t\u001b[38;2;241;6;184mMorgen(1) \u001b[38;2;255;255;255m --2.8-> \u001b[38;2;0;236;176mMarvell(0) \u001b[38;2;255;255;255m\n",
      "\t\u001b[38;2;241;6;184mMorgen(1) \u001b[38;2;255;255;255m --2.9-> \u001b[38;2;8;255;81mJerin(2) \u001b[38;2;255;255;255m\n",
      "\t\u001b[38;2;43;7;246mBoy(3) \u001b[38;2;255;255;255m --2.6-> \u001b[38;2;0;236;176mMarvell(0) \u001b[38;2;255;255;255m\n",
      "\t\u001b[38;2;43;7;246mBoy(3) \u001b[38;2;255;255;255m --3.1-> \u001b[38;2;241;6;184mMorgen(1) \u001b[38;2;255;255;255m\n",
      "\t\u001b[38;2;43;7;246mBoy(3) \u001b[38;2;255;255;255m --3.2-> \u001b[38;2;10;233;17mArnisha(4) \u001b[38;2;255;255;255m\n",
      "\t\u001b[38;2;43;7;246mBoy(3) \u001b[38;2;255;255;255m --3.4-> \u001b[38;2;8;255;81mJerin(2) \u001b[38;2;255;255;255m\n",
      "\t\u001b[38;2;0;236;176mMarvell(0) \u001b[38;2;255;255;255m --17.7-> \u001b[38;2;10;233;17mArnisha(4) \u001b[38;2;255;255;255m\n",
      "\t\u001b[38;2;0;236;176mMarvell(0) \u001b[38;2;255;255;255m --18.7-> \u001b[38;2;8;255;81mJerin(2) \u001b[38;2;255;255;255m\n",
      "\t\u001b[38;2;0;236;176mMarvell(0) \u001b[38;2;255;255;255m --21.2-> \u001b[38;2;43;7;246mBoy(3) \u001b[38;2;255;255;255m\n",
      "\t\u001b[38;2;0;236;176mMarvell(0) \u001b[38;2;255;255;255m --21.0-> \u001b[38;2;241;6;184mMorgen(1) \u001b[38;2;255;255;255m\n",
      "\t\u001b[38;2;10;233;17mArnisha(4) \u001b[38;2;255;255;255m --10.1-> \u001b[38;2;8;255;81mJerin(2) \u001b[38;2;255;255;255m\n",
      "\t\u001b[38;2;10;233;17mArnisha(4) \u001b[38;2;255;255;255m --9.9-> \u001b[38;2;0;236;176mMarvell(0) \u001b[38;2;255;255;255m\n",
      "===================== 给予 =====================\n",
      "==================================================\n",
      "本轮出生：[]\n",
      "本轮死亡：[\u001b[38;2;43;7;246mBoy(3) \u001b[38;2;255;255;255m, \u001b[38;2;241;6;184mMorgen(1) \u001b[38;2;255;255;255m, \u001b[38;2;8;255;81mJerin(2) \u001b[38;2;255;255;255m]\n",
      "本轮总给予：0.0\n",
      "本轮总攻击：138.2\n",
      "本轮总产量：48.4\n",
      "本轮总消耗：0.0\n",
      "==================================================\n",
      "\t ID   姓名          年龄   血量    仓库    \n",
      "\u001b[38;2;0;236;176m\t[0] Marvell:      31,   56.3,   56.8\n",
      " \u001b[38;2;255;255;255m\u001b[38;2;10;233;17m\t[4] Arnisha:      285,   29.2,   51.7\n",
      " \u001b[38;2;255;255;255m\n"
     ]
    }
   ],
   "source": [
    "island.print_status()"
   ]
  },
  {
   "cell_type": "code",
   "execution_count": 10,
   "metadata": {},
   "outputs": [
    {
     "ename": "KeyError",
     "evalue": "'Member Morgen not found!'",
     "output_type": "error",
     "traceback": [
      "\u001b[0;31m---------------------------------------------------------------------------\u001b[0m",
      "\u001b[0;31mKeyError\u001b[0m                                  Traceback (most recent call last)",
      "\u001b[1;32m/Users/Harry/Documents/Programs/Leviathan/test.ipynb Cell 7\u001b[0m in \u001b[0;36m<cell line: 1>\u001b[0;34m()\u001b[0m\n\u001b[0;32m----> <a href='vscode-notebook-cell:/Users/Harry/Documents/Programs/Leviathan/test.ipynb#Y136sZmlsZQ%3D%3D?line=0'>1</a>\u001b[0m morgen \u001b[39m=\u001b[39m island\u001b[39m.\u001b[39;49mmember_by_name(\u001b[39m\"\u001b[39;49m\u001b[39mMorgen\u001b[39;49m\u001b[39m\"\u001b[39;49m)\n",
      "File \u001b[0;32m~/Documents/Programs/Leviathan/Island.py:131\u001b[0m, in \u001b[0;36mIsland.member_by_name\u001b[0;34m(self, name)\u001b[0m\n\u001b[1;32m    128\u001b[0m     \u001b[39mif\u001b[39;00m member\u001b[39m.\u001b[39mname \u001b[39m==\u001b[39m name:\n\u001b[1;32m    129\u001b[0m         \u001b[39mreturn\u001b[39;00m member\n\u001b[0;32m--> 131\u001b[0m \u001b[39mraise\u001b[39;00m \u001b[39mKeyError\u001b[39;00m(\u001b[39mf\u001b[39m\u001b[39m\"\u001b[39m\u001b[39mMember \u001b[39m\u001b[39m{\u001b[39;00mname\u001b[39m}\u001b[39;00m\u001b[39m not found!\u001b[39m\u001b[39m\"\u001b[39m)\n",
      "\u001b[0;31mKeyError\u001b[0m: 'Member Morgen not found!'"
     ]
    }
   ],
   "source": [
    "morgen = island.member_by_name(\"Morgen\")"
   ]
  },
  {
   "cell_type": "code",
   "execution_count": 11,
   "metadata": {},
   "outputs": [],
   "source": [
    "island._get_neighbors(morgen)"
   ]
  },
  {
   "cell_type": "code",
   "execution_count": 12,
   "metadata": {},
   "outputs": [
    {
     "data": {
      "text/plain": [
       "[(3, 0),\n",
       " (2, 1),\n",
       " (3, 4),\n",
       " (1, 1),\n",
       " (4, 1),\n",
       " (3, 4),\n",
       " (3, 0),\n",
       " (0, 1),\n",
       " (1, 2),\n",
       " (4, 2),\n",
       " (0, 1),\n",
       " (4, 2),\n",
       " (2, 2),\n",
       " (3, 1),\n",
       " (4, 2),\n",
       " (3, 4),\n",
       " (2, 2),\n",
       " (1, 2)]"
      ]
     },
     "execution_count": 12,
     "metadata": {},
     "output_type": "execute_result"
    }
   ],
   "source": [
    "morgen.current_empty_loc_list"
   ]
  },
  {
   "cell_type": "code",
   "execution_count": 13,
   "metadata": {},
   "outputs": [
    {
     "ename": "NameError",
     "evalue": "name 'boy' is not defined",
     "output_type": "error",
     "traceback": [
      "\u001b[0;31m---------------------------------------------------------------------------\u001b[0m",
      "\u001b[0;31mNameError\u001b[0m                                 Traceback (most recent call last)",
      "\u001b[1;32m/Users/Harry/Documents/Programs/Leviathan/test.ipynb Cell 10\u001b[0m in \u001b[0;36m<cell line: 1>\u001b[0;34m()\u001b[0m\n\u001b[0;32m----> <a href='vscode-notebook-cell:/Users/Harry/Documents/Programs/Leviathan/test.ipynb#Y140sZmlsZQ%3D%3D?line=0'>1</a>\u001b[0m boy\u001b[39m.\u001b[39mowned_land\n",
      "\u001b[0;31mNameError\u001b[0m: name 'boy' is not defined"
     ]
    }
   ],
   "source": [
    "boy.owned_land"
   ]
  },
  {
   "cell_type": "code",
   "execution_count": null,
   "metadata": {},
   "outputs": [
    {
     "ename": "NameError",
     "evalue": "name 'marv' is not defined",
     "output_type": "error",
     "traceback": [
      "\u001b[0;31m---------------------------------------------------------------------------\u001b[0m",
      "\u001b[0;31mNameError\u001b[0m                                 Traceback (most recent call last)",
      "\u001b[1;32m/Users/Harry/Documents/Programs/Leviathan/test.ipynb Cell 4\u001b[0m in \u001b[0;36m<cell line: 1>\u001b[0;34m()\u001b[0m\n\u001b[0;32m----> <a href='vscode-notebook-cell:/Users/Harry/Documents/Programs/Leviathan/test.ipynb#W3sZmlsZQ%3D%3D?line=0'>1</a>\u001b[0m island\u001b[39m.\u001b[39m_discard_land(marv, (\u001b[39m1\u001b[39m, \u001b[39m1\u001b[39m))\n",
      "\u001b[0;31mNameError\u001b[0m: name 'marv' is not defined"
     ]
    }
   ],
   "source": [
    "island._discard_land(marv, (1, 1))"
   ]
  },
  {
   "cell_type": "code",
   "execution_count": 5,
   "metadata": {},
   "outputs": [
    {
     "data": {
      "text/plain": [
       "[[\u001b[38;2;138;8;255mBoy(3) \u001b[38;2;255;255;255m, None, None, None, None], [None, None, None, \u001b[38;2;14;249;59mMorgen(1) \u001b[38;2;255;255;255m, None], [None, None, None, None, None], [None, None, None, \u001b[38;2;43;7;246mArnisha(4) \u001b[38;2;255;255;255m, None], [\u001b[38;2;253;94;5mJerin(2) \u001b[38;2;255;255;255m, None, None, None, None]]"
      ]
     },
     "execution_count": 5,
     "metadata": {},
     "output_type": "execute_result"
    }
   ],
   "source": [
    "island.land"
   ]
  },
  {
   "cell_type": "code",
   "execution_count": 36,
   "metadata": {},
   "outputs": [
    {
     "data": {
      "text/plain": [
       "array([1, 5, 7])"
      ]
     },
     "execution_count": 36,
     "metadata": {},
     "output_type": "execute_result"
    }
   ],
   "source": [
    "rng.choice(range(10), 3, replace=False)"
   ]
  },
  {
   "cell_type": "code",
   "execution_count": 3,
   "metadata": {},
   "outputs": [],
   "source": [
    "m1 = Member(\"1\", id=1, surviver_id=0, rng=rng)\n",
    "m2 = Member(\"2\", id=2, surviver_id=0, rng=rng)\n",
    "m3 = Member(\"3\", id=3, surviver_id=0, rng=rng)\n",
    "m4 = Member(\"4\", id=4, surviver_id=0, rng=rng)\n",
    "m5 = Member(\"5\", id=5, surviver_id=0, rng=rng)\n",
    "m6 = Member(\"6\", id=6, surviver_id=0, rng=rng)\n",
    "m7 = Member(\"7\", id=7, surviver_id=0, rng=rng)\n",
    "m8 = Member(\"8\", id=8, surviver_id=0, rng=rng)"
   ]
  },
  {
   "cell_type": "code",
   "execution_count": 4,
   "metadata": {},
   "outputs": [
    {
     "ename": "NameError",
     "evalue": "name 'm1' is not defined",
     "output_type": "error",
     "traceback": [
      "\u001b[0;31m---------------------------------------------------------------------------\u001b[0m",
      "\u001b[0;31mNameError\u001b[0m                                 Traceback (most recent call last)",
      "\u001b[1;32m/Users/Harry/Documents/Programs/Leviathan/test.ipynb Cell 5\u001b[0m in \u001b[0;36m<cell line: 3>\u001b[0;34m()\u001b[0m\n\u001b[1;32m      <a href='vscode-notebook-cell:/Users/Harry/Documents/Programs/Leviathan/test.ipynb#W4sZmlsZQ%3D%3D?line=0'>1</a>\u001b[0m land \u001b[39m=\u001b[39m Land((\u001b[39m6\u001b[39m, \u001b[39m5\u001b[39m))\n\u001b[1;32m      <a href='vscode-notebook-cell:/Users/Harry/Documents/Programs/Leviathan/test.ipynb#W4sZmlsZQ%3D%3D?line=1'>2</a>\u001b[0m land\u001b[39m.\u001b[39mowner \u001b[39m=\u001b[39m [\n\u001b[0;32m----> <a href='vscode-notebook-cell:/Users/Harry/Documents/Programs/Leviathan/test.ipynb#W4sZmlsZQ%3D%3D?line=2'>3</a>\u001b[0m     [\u001b[39mNone\u001b[39;00m, m1, m1, \u001b[39mNone\u001b[39;00m, m1],\n\u001b[1;32m      <a href='vscode-notebook-cell:/Users/Harry/Documents/Programs/Leviathan/test.ipynb#W4sZmlsZQ%3D%3D?line=3'>4</a>\u001b[0m     [m1, m1, m3, m5, m5],\n\u001b[1;32m      <a href='vscode-notebook-cell:/Users/Harry/Documents/Programs/Leviathan/test.ipynb#W4sZmlsZQ%3D%3D?line=4'>5</a>\u001b[0m     [m6, m6, m4, m4, m1],\n\u001b[1;32m      <a href='vscode-notebook-cell:/Users/Harry/Documents/Programs/Leviathan/test.ipynb#W4sZmlsZQ%3D%3D?line=5'>6</a>\u001b[0m     [m7, m1, \u001b[39mNone\u001b[39;00m, m1, m1],\n\u001b[1;32m      <a href='vscode-notebook-cell:/Users/Harry/Documents/Programs/Leviathan/test.ipynb#W4sZmlsZQ%3D%3D?line=6'>7</a>\u001b[0m     [m1, m1, m1, m1, m1],\n\u001b[1;32m      <a href='vscode-notebook-cell:/Users/Harry/Documents/Programs/Leviathan/test.ipynb#W4sZmlsZQ%3D%3D?line=7'>8</a>\u001b[0m     [m4, m8, m2, m1, m1],\n\u001b[1;32m      <a href='vscode-notebook-cell:/Users/Harry/Documents/Programs/Leviathan/test.ipynb#W4sZmlsZQ%3D%3D?line=8'>9</a>\u001b[0m ]\n",
      "\u001b[0;31mNameError\u001b[0m: name 'm1' is not defined"
     ]
    }
   ],
   "source": [
    "land = Land((6, 5))\n",
    "land.owner = [\n",
    "    [None, m1, m1, None, m1],\n",
    "    [m1, m1, m3, m5, m5],\n",
    "    [m6, m6, m4, m4, m1],\n",
    "    [m7, m1, None, m1, m1],\n",
    "    [m1, m1, m1, m1, m1],\n",
    "    [m4, m8, m2, m1, m1],\n",
    "]"
   ]
  },
  {
   "cell_type": "code",
   "execution_count": 5,
   "metadata": {},
   "outputs": [
    {
     "ename": "NameError",
     "evalue": "name 'm4' is not defined",
     "output_type": "error",
     "traceback": [
      "\u001b[0;31m---------------------------------------------------------------------------\u001b[0m",
      "\u001b[0;31mNameError\u001b[0m                                 Traceback (most recent call last)",
      "\u001b[1;32m/Users/Harry/Documents/Programs/Leviathan/test.ipynb Cell 6\u001b[0m in \u001b[0;36m<cell line: 8>\u001b[0;34m()\u001b[0m\n\u001b[1;32m      <a href='vscode-notebook-cell:/Users/Harry/Documents/Programs/Leviathan/test.ipynb#W5sZmlsZQ%3D%3D?line=3'>4</a>\u001b[0m empty_loc_list \u001b[39m=\u001b[39m []\n\u001b[1;32m      <a href='vscode-notebook-cell:/Users/Harry/Documents/Programs/Leviathan/test.ipynb#W5sZmlsZQ%3D%3D?line=5'>6</a>\u001b[0m is_passed \u001b[39m=\u001b[39m np\u001b[39m.\u001b[39mzeros((\u001b[39m6\u001b[39m, \u001b[39m5\u001b[39m))\n\u001b[1;32m      <a href='vscode-notebook-cell:/Users/Harry/Documents/Programs/Leviathan/test.ipynb#W5sZmlsZQ%3D%3D?line=7'>8</a>\u001b[0m land\u001b[39m.\u001b[39m_find_neighbors(\n\u001b[1;32m      <a href='vscode-notebook-cell:/Users/Harry/Documents/Programs/Leviathan/test.ipynb#W5sZmlsZQ%3D%3D?line=8'>9</a>\u001b[0m     clear_list,\n\u001b[1;32m     <a href='vscode-notebook-cell:/Users/Harry/Documents/Programs/Leviathan/test.ipynb#W5sZmlsZQ%3D%3D?line=9'>10</a>\u001b[0m     self_blocked_list,\n\u001b[1;32m     <a href='vscode-notebook-cell:/Users/Harry/Documents/Programs/Leviathan/test.ipynb#W5sZmlsZQ%3D%3D?line=10'>11</a>\u001b[0m     neighbor_blocked_list,\n\u001b[1;32m     <a href='vscode-notebook-cell:/Users/Harry/Documents/Programs/Leviathan/test.ipynb#W5sZmlsZQ%3D%3D?line=11'>12</a>\u001b[0m     empty_loc_list,\n\u001b[1;32m     <a href='vscode-notebook-cell:/Users/Harry/Documents/Programs/Leviathan/test.ipynb#W5sZmlsZQ%3D%3D?line=12'>13</a>\u001b[0m     location \u001b[39m=\u001b[39m (\u001b[39m2\u001b[39m, \u001b[39m2\u001b[39m),\n\u001b[0;32m---> <a href='vscode-notebook-cell:/Users/Harry/Documents/Programs/Leviathan/test.ipynb#W5sZmlsZQ%3D%3D?line=13'>14</a>\u001b[0m     member \u001b[39m=\u001b[39m m4,\n\u001b[1;32m     <a href='vscode-notebook-cell:/Users/Harry/Documents/Programs/Leviathan/test.ipynb#W5sZmlsZQ%3D%3D?line=14'>15</a>\u001b[0m     is_passed \u001b[39m=\u001b[39m is_passed,\n\u001b[1;32m     <a href='vscode-notebook-cell:/Users/Harry/Documents/Programs/Leviathan/test.ipynb#W5sZmlsZQ%3D%3D?line=15'>16</a>\u001b[0m     iteration_cnt \u001b[39m=\u001b[39m \u001b[39m0\u001b[39m,\n\u001b[1;32m     <a href='vscode-notebook-cell:/Users/Harry/Documents/Programs/Leviathan/test.ipynb#W5sZmlsZQ%3D%3D?line=16'>17</a>\u001b[0m     island \u001b[39m=\u001b[39m \u001b[39mNone\u001b[39;00m\n\u001b[1;32m     <a href='vscode-notebook-cell:/Users/Harry/Documents/Programs/Leviathan/test.ipynb#W5sZmlsZQ%3D%3D?line=17'>18</a>\u001b[0m )\n\u001b[1;32m     <a href='vscode-notebook-cell:/Users/Harry/Documents/Programs/Leviathan/test.ipynb#W5sZmlsZQ%3D%3D?line=19'>20</a>\u001b[0m \u001b[39mprint\u001b[39m(is_passed)\n\u001b[1;32m     <a href='vscode-notebook-cell:/Users/Harry/Documents/Programs/Leviathan/test.ipynb#W5sZmlsZQ%3D%3D?line=20'>21</a>\u001b[0m \u001b[39mprint\u001b[39m(clear_list)\n",
      "\u001b[0;31mNameError\u001b[0m: name 'm4' is not defined"
     ]
    }
   ],
   "source": [
    "clear_list = []\n",
    "self_blocked_list = []\n",
    "neighbor_blocked_list = []\n",
    "empty_loc_list = []\n",
    "\n",
    "is_passed = np.zeros((6, 5))\n",
    "\n",
    "land._find_neighbors(\n",
    "    clear_list,\n",
    "    self_blocked_list,\n",
    "    neighbor_blocked_list,\n",
    "    empty_loc_list,\n",
    "    location = (2, 2),\n",
    "    member = m4,\n",
    "    is_passed = is_passed,\n",
    "    iteration_cnt = 0,\n",
    "    island = None\n",
    ")\n",
    "\n",
    "print(is_passed)\n",
    "print(clear_list)\n",
    "print(self_blocked_list)\n",
    "print(neighbor_blocked_list)\n",
    "\n",
    "land._find_neighbors(\n",
    "    clear_list,\n",
    "    self_blocked_list,\n",
    "    neighbor_blocked_list,\n",
    "    empty_loc_list,\n",
    "    location = (5, 0),\n",
    "    member = m4,\n",
    "    is_passed = is_passed,\n",
    "    iteration_cnt = 0,\n",
    "    island = None\n",
    ")\n",
    "\n",
    "print(is_passed)\n",
    "print(clear_list)\n",
    "print(self_blocked_list)\n",
    "print(neighbor_blocked_list)\n",
    "print(empty_loc_list)"
   ]
  },
  {
   "cell_type": "code",
   "execution_count": 9,
   "metadata": {},
   "outputs": [
    {
     "data": {
      "text/plain": [
       "True"
      ]
     },
     "execution_count": 9,
     "metadata": {},
     "output_type": "execute_result"
    }
   ],
   "source": [
    "1 == True"
   ]
  },
  {
   "cell_type": "code",
   "execution_count": 1,
   "metadata": {},
   "outputs": [],
   "source": [
    "os.mkdir(\"test1/0/\")"
   ]
  },
  {
   "cell_type": "code",
   "execution_count": 6,
   "metadata": {},
   "outputs": [],
   "source": [
    "island = Island(50, random_seed=2022)"
   ]
  },
  {
   "cell_type": "code",
   "execution_count": 7,
   "metadata": {},
   "outputs": [],
   "source": [
    "island.fight()\n",
    "island.trade()"
   ]
  },
  {
   "cell_type": "code",
   "execution_count": 8,
   "metadata": {},
   "outputs": [],
   "source": [
    "island.save_current_island(\"test_\")"
   ]
  },
  {
   "cell_type": "code",
   "execution_count": 4,
   "metadata": {},
   "outputs": [
    {
     "name": "stdout",
     "output_type": "stream",
     "text": [
      "attack\n",
      "offer\n",
      "reproduce\n"
     ]
    },
    {
     "data": {
      "text/html": [
       "<div>\n",
       "<style scoped>\n",
       "    .dataframe tbody tr th:only-of-type {\n",
       "        vertical-align: middle;\n",
       "    }\n",
       "\n",
       "    .dataframe tbody tr th {\n",
       "        vertical-align: top;\n",
       "    }\n",
       "\n",
       "    .dataframe thead th {\n",
       "        text-align: right;\n",
       "    }\n",
       "</style>\n",
       "<table border=\"1\" class=\"dataframe\">\n",
       "  <thead>\n",
       "    <tr style=\"text-align: right;\">\n",
       "      <th></th>\n",
       "      <th>name</th>\n",
       "      <th>surviver_id</th>\n",
       "      <th>productivity</th>\n",
       "      <th>vitality</th>\n",
       "      <th>cargo</th>\n",
       "      <th>age</th>\n",
       "      <th>attack_self_productivity</th>\n",
       "      <th>attack_self_vitality</th>\n",
       "      <th>attack_self_cargo</th>\n",
       "      <th>attack_self_age</th>\n",
       "      <th>...</th>\n",
       "      <th>reproduce_obj_productivity</th>\n",
       "      <th>reproduce_obj_vitality</th>\n",
       "      <th>reproduce_obj_cargo</th>\n",
       "      <th>reproduce_obj_age</th>\n",
       "      <th>reproduce_victim_overlap</th>\n",
       "      <th>reproduce_benefit_overlap</th>\n",
       "      <th>reproduce_victim_passive</th>\n",
       "      <th>reproduce_victim_active</th>\n",
       "      <th>reproduce_benefit_passive</th>\n",
       "      <th>reproduce_benefit_active</th>\n",
       "    </tr>\n",
       "  </thead>\n",
       "  <tbody>\n",
       "    <tr>\n",
       "      <th>0</th>\n",
       "      <td>Marvell</td>\n",
       "      <td>0</td>\n",
       "      <td>14.493567</td>\n",
       "      <td>26.657547</td>\n",
       "      <td>37.384384</td>\n",
       "      <td>89</td>\n",
       "      <td>0.054261</td>\n",
       "      <td>0.695186</td>\n",
       "      <td>0.868202</td>\n",
       "      <td>0.0</td>\n",
       "      <td>...</td>\n",
       "      <td>0.270527</td>\n",
       "      <td>0.620712</td>\n",
       "      <td>0.270702</td>\n",
       "      <td>0.0</td>\n",
       "      <td>0.738614</td>\n",
       "      <td>0.408641</td>\n",
       "      <td>-0.314751</td>\n",
       "      <td>-0.615778</td>\n",
       "      <td>0.949761</td>\n",
       "      <td>0.262216</td>\n",
       "    </tr>\n",
       "  </tbody>\n",
       "</table>\n",
       "<p>1 rows × 48 columns</p>\n",
       "</div>"
      ],
      "text/plain": [
       "      name  surviver_id  productivity   vitality      cargo  age  \\\n",
       "0  Marvell            0     14.493567  26.657547  37.384384   89   \n",
       "\n",
       "   attack_self_productivity  attack_self_vitality  attack_self_cargo  \\\n",
       "0                  0.054261              0.695186           0.868202   \n",
       "\n",
       "   attack_self_age  ...  reproduce_obj_productivity  reproduce_obj_vitality  \\\n",
       "0              0.0  ...                    0.270527                0.620712   \n",
       "\n",
       "   reproduce_obj_cargo  reproduce_obj_age  reproduce_victim_overlap  \\\n",
       "0             0.270702                0.0                  0.738614   \n",
       "\n",
       "   reproduce_benefit_overlap  reproduce_victim_passive  \\\n",
       "0                   0.408641                 -0.314751   \n",
       "\n",
       "   reproduce_victim_active  reproduce_benefit_passive  \\\n",
       "0                -0.615778                   0.949761   \n",
       "\n",
       "   reproduce_benefit_active  \n",
       "0                  0.262216  \n",
       "\n",
       "[1 rows x 48 columns]"
      ]
     },
     "execution_count": 4,
     "metadata": {},
     "output_type": "execute_result"
    }
   ],
   "source": [
    "x.save_to_row()"
   ]
  },
  {
   "cell_type": "code",
   "execution_count": null,
   "metadata": {},
   "outputs": [],
   "source": [
    "island.new_round()"
   ]
  },
  {
   "cell_type": "code",
   "execution_count": null,
   "metadata": {},
   "outputs": [],
   "source": [
    "island.produce()"
   ]
  },
  {
   "cell_type": "code",
   "execution_count": null,
   "metadata": {},
   "outputs": [],
   "source": [
    "island.fight()"
   ]
  },
  {
   "cell_type": "code",
   "execution_count": null,
   "metadata": {},
   "outputs": [],
   "source": [
    "island.consume()"
   ]
  },
  {
   "cell_type": "code",
   "execution_count": null,
   "metadata": {},
   "outputs": [],
   "source": [
    "island.relationship_dict[\"benefit\"][26, 18]"
   ]
  },
  {
   "cell_type": "code",
   "execution_count": null,
   "metadata": {},
   "outputs": [],
   "source": [
    "island.trade()"
   ]
  },
  {
   "cell_type": "code",
   "execution_count": null,
   "metadata": {},
   "outputs": [],
   "source": [
    "island.trade()\n",
    "island.print_info()"
   ]
  },
  {
   "cell_type": "code",
   "execution_count": null,
   "metadata": {},
   "outputs": [],
   "source": [
    "island.relationship_dict[\"benefit\"][1, 48]"
   ]
  },
  {
   "cell_type": "code",
   "execution_count": null,
   "metadata": {},
   "outputs": [],
   "source": [
    "island.new_round()"
   ]
  },
  {
   "cell_type": "code",
   "execution_count": null,
   "metadata": {},
   "outputs": [],
   "source": [
    "for mem in groups[0]:\n",
    "    for obj in groups[0]:\n",
    "        if mem is not obj:\n",
    "            print(mem, obj, mem.decision(\"fight\", obj, island))\n"
   ]
  },
  {
   "cell_type": "code",
   "execution_count": null,
   "metadata": {},
   "outputs": [],
   "source": [
    "member1 = island.all_members[0]\n",
    "member2 = island.all_members[1]"
   ]
  },
  {
   "cell_type": "code",
   "execution_count": null,
   "metadata": {},
   "outputs": [],
   "source": [
    "member1.fight_parameter"
   ]
  },
  {
   "cell_type": "code",
   "execution_count": null,
   "metadata": {},
   "outputs": [],
   "source": [
    "member1.fight_parameter[0] = 0\n",
    "member1.parameter_dict[\"fight\"]"
   ]
  },
  {
   "cell_type": "code",
   "execution_count": null,
   "metadata": {},
   "outputs": [],
   "source": [
    "inputs = list(member1._generate_decision_inputs(member2, island).values())\n",
    "member1._decision(member1.fight_parameter, inputs)"
   ]
  },
  {
   "cell_type": "code",
   "execution_count": null,
   "metadata": {},
   "outputs": [],
   "source": []
  },
  {
   "cell_type": "code",
   "execution_count": null,
   "metadata": {},
   "outputs": [],
   "source": [
    "range(1, 10)"
   ]
  },
  {
   "cell_type": "code",
   "execution_count": null,
   "metadata": {},
   "outputs": [],
   "source": [
    "Member.born(island.all_members[0], island.all_members[1])"
   ]
  },
  {
   "cell_type": "code",
   "execution_count": null,
   "metadata": {},
   "outputs": [],
   "source": [
    "a = [1, 2, 3, 4]\n",
    "np.repeat(a, 2)"
   ]
  },
  {
   "cell_type": "code",
   "execution_count": null,
   "metadata": {},
   "outputs": [],
   "source": [
    "a = [\"a\", \"b\"]\n",
    "b = [np.random.rand(2), np.random.rand(2)]\n",
    "d = dict(zip(a, b))\n",
    "d"
   ]
  },
  {
   "cell_type": "code",
   "execution_count": null,
   "metadata": {},
   "outputs": [],
   "source": [
    "n = {key: d[key] for key in d.keys()}\n",
    "n"
   ]
  },
  {
   "cell_type": "code",
   "execution_count": null,
   "metadata": {},
   "outputs": [],
   "source": [
    "class foo:\n",
    "    def __init__(self, a):\n",
    "        self.a = a\n",
    "\n",
    "    @property\n",
    "    def return_a(self):\n",
    "        return self.a * 2"
   ]
  },
  {
   "cell_type": "code",
   "execution_count": null,
   "metadata": {},
   "outputs": [],
   "source": [
    "x = foo(1)\n",
    "x.return_a"
   ]
  },
  {
   "cell_type": "code",
   "execution_count": null,
   "metadata": {},
   "outputs": [],
   "source": [
    "island = Island(42, random_seed=2022)\n",
    "island.fight()"
   ]
  },
  {
   "cell_type": "code",
   "execution_count": null,
   "metadata": {},
   "outputs": [],
   "source": [
    "# seed = time()\n",
    "rng = np.random.default_rng(2022)"
   ]
  },
  {
   "cell_type": "code",
   "execution_count": null,
   "metadata": {},
   "outputs": [],
   "source": [
    "rng.random(1)"
   ]
  },
  {
   "cell_type": "code",
   "execution_count": null,
   "metadata": {},
   "outputs": [],
   "source": [
    "def f(x: np.ndarray):\n",
    "    print(x)"
   ]
  },
  {
   "cell_type": "code",
   "execution_count": null,
   "metadata": {},
   "outputs": [],
   "source": [
    "(np.array([None, 1]) == None).any()"
   ]
  },
  {
   "cell_type": "code",
   "execution_count": null,
   "metadata": {},
   "outputs": [],
   "source": [
    "b = np.array([[0], [1]])\n",
    "c = np.array([[10], [100]])\n",
    "a = [b, c]\n",
    "a"
   ]
  },
  {
   "cell_type": "code",
   "execution_count": null,
   "metadata": {},
   "outputs": [],
   "source": [
    "for idx in range(len(a)):\n",
    "    a[idx].resize(1, refcheck=False)\n",
    "\n",
    "a"
   ]
  },
  {
   "cell_type": "code",
   "execution_count": null,
   "metadata": {},
   "outputs": [],
   "source": [
    "b"
   ]
  },
  {
   "cell_type": "code",
   "execution_count": null,
   "metadata": {},
   "outputs": [],
   "source": [
    "island = Island(4)\n",
    "print(island.victim_memory)\n",
    "np.fill_diagonal(island.victim_memory, np.nan)\n",
    "print(island.victim_memory)\n"
   ]
  },
  {
   "cell_type": "code",
   "execution_count": null,
   "metadata": {},
   "outputs": [],
   "source": [
    "somebody_die = [island.current_members[3], island.current_members[2]]"
   ]
  },
  {
   "cell_type": "code",
   "execution_count": null,
   "metadata": {},
   "outputs": [],
   "source": [
    "somebody_born = [Member(\"aha\", 1, None), Member(\"aha\", 99, None)]"
   ]
  },
  {
   "cell_type": "code",
   "execution_count": null,
   "metadata": {},
   "outputs": [],
   "source": [
    "print(island.all_members)\n",
    "print(island.current_members)\n",
    "print(island.victim_memory)\n",
    "print(island.benefit_memory)"
   ]
  },
  {
   "cell_type": "code",
   "execution_count": null,
   "metadata": {},
   "outputs": [],
   "source": [
    "island.member_list_modify(somebody_born, somebody_die, np.zeros((2, 4)), np.zeros((4, 2)))\n",
    "print(island.all_members)\n",
    "print(island.current_members)\n",
    "print(island.current_member_num)\n",
    "print(island.victim_memory)\n",
    "print(island.benefit_memory)\n",
    "print(island.current_members[-1].surviver_id)\n",
    "print(island.all_members[-1].surviver_id)\n",
    "print(island.all_members[-1].id)"
   ]
  },
  {
   "cell_type": "code",
   "execution_count": null,
   "metadata": {},
   "outputs": [],
   "source": [
    "a = np.random.rand(5, 5)\n",
    "a"
   ]
  },
  {
   "cell_type": "code",
   "execution_count": null,
   "metadata": {},
   "outputs": [],
   "source": [
    "a = np.delete(a, (1, 2), axis=0)\n",
    "a = np.delete(a, (1, 2), axis=1)\n",
    "a"
   ]
  },
  {
   "cell_type": "code",
   "execution_count": null,
   "metadata": {},
   "outputs": [],
   "source": [
    "a = np.delete(a, (1), axis=1)\n",
    "a"
   ]
  },
  {
   "cell_type": "code",
   "execution_count": null,
   "metadata": {},
   "outputs": [],
   "source": [
    "b = a[0]\n",
    "b"
   ]
  },
  {
   "cell_type": "code",
   "execution_count": null,
   "metadata": {},
   "outputs": [],
   "source": [
    "np.sort(b)[::-1]"
   ]
  },
  {
   "cell_type": "code",
   "execution_count": null,
   "metadata": {},
   "outputs": [],
   "source": [
    "island = Island(10)\n",
    "print(island.all_members)\n"
   ]
  },
  {
   "cell_type": "code",
   "execution_count": null,
   "metadata": {},
   "outputs": [],
   "source": [
    "island.all_members\n",
    "print(island.current_members)"
   ]
  },
  {
   "cell_type": "code",
   "execution_count": null,
   "metadata": {},
   "outputs": [],
   "source": [
    "island.all_members[0].name = \"aaaaa\"\n",
    "print(island.all_members)\n",
    "print(island.current_members)"
   ]
  },
  {
   "cell_type": "code",
   "execution_count": null,
   "metadata": {},
   "outputs": [],
   "source": [
    "np.random.seed(1)\n",
    "x = np.random.random(10)\n",
    "print(x)\n",
    "print(np.random.normal(x[0], 1, 10))"
   ]
  },
  {
   "cell_type": "code",
   "execution_count": null,
   "metadata": {},
   "outputs": [],
   "source": [
    "a = [[[1, 2], [3, 4]], [[5, 6], [7, 8]]]\n",
    "a.append([[9, 0], [1, 2]])\n",
    "arr = np.array(a)\n",
    "arr.reshape(3, 4)"
   ]
  },
  {
   "cell_type": "code",
   "execution_count": null,
   "metadata": {},
   "outputs": [],
   "source": [
    "arr.reshape(3, 2, 2)"
   ]
  },
  {
   "cell_type": "code",
   "execution_count": null,
   "metadata": {},
   "outputs": [],
   "source": [
    "pd.DataFrame([[1,2,3],[4,5,6]], index=['a','b'], columns=[\"g\", 'h', 'j'])"
   ]
  },
  {
   "cell_type": "code",
   "execution_count": null,
   "metadata": {},
   "outputs": [],
   "source": [
    "a = [\"a\", \"b\", \"c\"]\n",
    "np.random.shuffle(a)\n",
    "a"
   ]
  },
  {
   "cell_type": "code",
   "execution_count": null,
   "metadata": {},
   "outputs": [],
   "source": [
    "a = np.array([0, 1, 2, 3])\n",
    "b = [True, False, True, False]\n",
    "a[b]"
   ]
  },
  {
   "cell_type": "code",
   "execution_count": null,
   "metadata": {},
   "outputs": [],
   "source": [
    "plt.plot([1 ,2 ,3], [1, 2, None])"
   ]
  },
  {
   "cell_type": "code",
   "execution_count": null,
   "metadata": {},
   "outputs": [],
   "source": [
    "print(plt.cm.RdYlGn)"
   ]
  },
  {
   "cell_type": "code",
   "execution_count": null,
   "metadata": {},
   "outputs": [],
   "source": [
    "list = np.array([1, 2, 3 ,4, 5])\n",
    "list[list < 3] = 0\n",
    "list"
   ]
  },
  {
   "cell_type": "code",
   "execution_count": null,
   "metadata": {},
   "outputs": [],
   "source": [
    "list = ['iarry', 'harry', 'hbrry']\n",
    "arg_sort_list = np.argsort(list)\n",
    "arg_sort_list"
   ]
  },
  {
   "cell_type": "code",
   "execution_count": null,
   "metadata": {},
   "outputs": [],
   "source": [
    "list = [list[i] for i in arg_sort_list]\n",
    "list"
   ]
  },
  {
   "cell_type": "code",
   "execution_count": null,
   "metadata": {},
   "outputs": [],
   "source": [
    "np.split((np.arange(10)), 2)"
   ]
  },
  {
   "cell_type": "code",
   "execution_count": null,
   "metadata": {},
   "outputs": [],
   "source": [
    "mat = np.random.rand(3, 3)\n",
    "mat = [[1, 2, 3], [2, 0, 4], [1, 2, 1]]\n",
    "mat"
   ]
  },
  {
   "cell_type": "code",
   "execution_count": null,
   "metadata": {},
   "outputs": [],
   "source": [
    "max_mat_element = np.argmax(np.sum(mat, 1))\n",
    "max_mat_element"
   ]
  },
  {
   "cell_type": "code",
   "execution_count": null,
   "metadata": {},
   "outputs": [],
   "source": [
    "class test_class:\n",
    "    def __init__(self):\n",
    "        self.att = 1\n",
    "\n",
    "def change(cl):\n",
    "    cl.att = 2\n",
    "\n",
    "a = test_class()\n",
    "change(a)\n",
    "a.att"
   ]
  },
  {
   "cell_type": "code",
   "execution_count": null,
   "metadata": {},
   "outputs": [],
   "source": [
    "str = \"\"\n",
    "str == \"\""
   ]
  },
  {
   "cell_type": "code",
   "execution_count": null,
   "metadata": {},
   "outputs": [],
   "source": [
    "np.random.choice([1, 2, 3], size=1, p = [1, 2, 3])"
   ]
  }
 ],
 "metadata": {
  "kernelspec": {
   "display_name": "Python 3.10.4 ('int30')",
   "language": "python",
   "name": "python3"
  },
  "language_info": {
   "codemirror_mode": {
    "name": "ipython",
    "version": 3
   },
   "file_extension": ".py",
   "mimetype": "text/x-python",
   "name": "python",
   "nbconvert_exporter": "python",
   "pygments_lexer": "ipython3",
   "version": "3.10.4"
  },
  "orig_nbformat": 4,
  "vscode": {
   "interpreter": {
    "hash": "8a2220f0f751d59d321ad32811afad34fa7ff2f75558c44f00c2028bb28f5604"
   }
  }
 },
 "nbformat": 4,
 "nbformat_minor": 2
}
