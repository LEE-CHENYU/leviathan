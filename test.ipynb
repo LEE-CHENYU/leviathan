{
 "cells": [
  {
   "cell_type": "code",
   "execution_count": 1,
   "metadata": {},
   "outputs": [],
   "source": [
    "import numpy as np\n",
    "import matplotlib.pyplot as plt\n",
    "import pandas as pd\n",
    "from Island import Island\n",
    "from Member import Member"
   ]
  },
  {
   "cell_type": "code",
   "execution_count": 2,
   "metadata": {},
   "outputs": [
    {
     "data": {
      "text/plain": [
       "[array([[0],\n",
       "        [1]]),\n",
       " array([[ 10],\n",
       "        [100]])]"
      ]
     },
     "execution_count": 2,
     "metadata": {},
     "output_type": "execute_result"
    }
   ],
   "source": [
    "b = np.array([[0], [1]])\n",
    "c = np.array([[10], [100]])\n",
    "a = [b, c]\n",
    "a"
   ]
  },
  {
   "cell_type": "code",
   "execution_count": 3,
   "metadata": {},
   "outputs": [
    {
     "data": {
      "text/plain": [
       "[array([0]), array([10])]"
      ]
     },
     "execution_count": 3,
     "metadata": {},
     "output_type": "execute_result"
    }
   ],
   "source": [
    "for idx in range(len(a)):\n",
    "    a[idx].resize(1, refcheck=False)\n",
    "\n",
    "a"
   ]
  },
  {
   "cell_type": "code",
   "execution_count": 4,
   "metadata": {},
   "outputs": [
    {
     "data": {
      "text/plain": [
       "array([0])"
      ]
     },
     "execution_count": 4,
     "metadata": {},
     "output_type": "execute_result"
    }
   ],
   "source": [
    "b"
   ]
  },
  {
   "cell_type": "code",
   "execution_count": 5,
   "metadata": {},
   "outputs": [
    {
     "name": "stdout",
     "output_type": "stream",
     "text": [
      "[[        nan 57.37589141 15.64143383  0.         23.65690902 57.5804509\n",
      "  43.95698163 84.49035385  0.          0.        ]\n",
      " [ 0.                 nan 12.85515329 47.64474824 36.78514604 21.36543274\n",
      "   0.          0.         15.2692409   0.        ]\n",
      " [ 5.86508726 68.38715222         nan 91.44941608 36.77949006  0.\n",
      "  94.58294727  0.         24.20784467  9.18316839]\n",
      " [32.16907345  3.51204735 70.02290745         nan  0.         41.03647886\n",
      "  32.38555221 27.98890551  0.          0.        ]\n",
      " [74.98912576 58.08550123 53.70068041 52.77542258         nan  0.\n",
      "  85.32264613  0.         55.18472469  0.        ]\n",
      " [ 0.         35.24989393 17.38812119 58.41098691 49.17775911         nan\n",
      "  29.69352034  0.          0.         64.88904167]\n",
      " [41.74700513 15.66585431 84.48704278 36.84485956  0.         47.83226442\n",
      "          nan  0.         87.18279959  0.        ]\n",
      " [83.87758863 87.43547292  0.          0.         70.68521998 62.09806018\n",
      "  25.33177687         nan  0.          0.        ]\n",
      " [68.61300047  1.38885923  0.          0.          0.          0.\n",
      "  57.9148008  71.72845814         nan 58.07073265]\n",
      " [91.45585441 46.00099799 53.55324129  0.         38.33593372  7.41176749\n",
      "   0.         64.27638629 22.26394704         nan]]\n",
      "[[        nan 57.37589141 15.64143383  0.         23.65690902 57.5804509\n",
      "  43.95698163 84.49035385  0.          0.        ]\n",
      " [ 0.                 nan 12.85515329 47.64474824 36.78514604 21.36543274\n",
      "   0.          0.         15.2692409   0.        ]\n",
      " [ 5.86508726 68.38715222         nan 91.44941608 36.77949006  0.\n",
      "  94.58294727  0.         24.20784467  9.18316839]\n",
      " [32.16907345  3.51204735 70.02290745         nan  0.         41.03647886\n",
      "  32.38555221 27.98890551  0.          0.        ]\n",
      " [74.98912576 58.08550123 53.70068041 52.77542258         nan  0.\n",
      "  85.32264613  0.         55.18472469  0.        ]\n",
      " [ 0.         35.24989393 17.38812119 58.41098691 49.17775911         nan\n",
      "  29.69352034  0.          0.         64.88904167]\n",
      " [41.74700513 15.66585431 84.48704278 36.84485956  0.         47.83226442\n",
      "          nan  0.         87.18279959  0.        ]\n",
      " [83.87758863 87.43547292  0.          0.         70.68521998 62.09806018\n",
      "  25.33177687         nan  0.          0.        ]\n",
      " [68.61300047  1.38885923  0.          0.          0.          0.\n",
      "  57.9148008  71.72845814         nan 58.07073265]\n",
      " [91.45585441 46.00099799 53.55324129  0.         38.33593372  7.41176749\n",
      "   0.         64.27638629 22.26394704         nan]]\n"
     ]
    }
   ],
   "source": [
    "island = Island(10)\n",
    "print(island.victim_memory)\n",
    "np.fill_diagonal(island.victim_memory, np.nan)\n",
    "print(island.victim_memory)\n"
   ]
  },
  {
   "cell_type": "code",
   "execution_count": 11,
   "metadata": {},
   "outputs": [
    {
     "data": {
      "text/plain": [
       "[Krystal(5), Natheniel(4)]"
      ]
     },
     "execution_count": 11,
     "metadata": {},
     "output_type": "execute_result"
    }
   ],
   "source": [
    "somebody = [island.current_members[3], island.current_members[2]]\n",
    "somebody"
   ]
  },
  {
   "cell_type": "code",
   "execution_count": 12,
   "metadata": {},
   "outputs": [
    {
     "name": "stdout",
     "output_type": "stream",
     "text": [
      "[Cathy(0), Alejo(1), Baudilio(2), Jamia(3), Natheniel(4), Krystal(5), Candelaria(6), Lucien(7), Pam(8), Pierson(9)]\n",
      "[Baudilio(2), Jamia(3), Natheniel(4), Krystal(5), Candelaria(6), Lucien(7), Pam(8), Pierson(9)]\n",
      "[[        nan 91.44941608 36.77949006  0.         94.58294727  0.\n",
      "  24.20784467  9.18316839]\n",
      " [70.02290745         nan  0.         41.03647886 32.38555221 27.98890551\n",
      "   0.          0.        ]\n",
      " [53.70068041 52.77542258         nan  0.         85.32264613  0.\n",
      "  55.18472469  0.        ]\n",
      " [17.38812119 58.41098691 49.17775911         nan 29.69352034  0.\n",
      "   0.         64.88904167]\n",
      " [84.48704278 36.84485956  0.         47.83226442         nan  0.\n",
      "  87.18279959  0.        ]\n",
      " [ 0.          0.         70.68521998 62.09806018 25.33177687         nan\n",
      "   0.          0.        ]\n",
      " [ 0.          0.          0.          0.         57.9148008  71.72845814\n",
      "          nan 58.07073265]\n",
      " [53.55324129  0.         38.33593372  7.41176749  0.         64.27638629\n",
      "  22.26394704         nan]]\n",
      "[[        nan  0.         45.07411113 90.25025618  0.         99.31814857\n",
      "   0.          0.        ]\n",
      " [ 0.                 nan  8.82056468  0.         37.82043029 99.49015874\n",
      "   2.01281511  0.        ]\n",
      " [14.50978099  0.                 nan  0.          0.         58.57209756\n",
      "   2.78798406 70.81303793]\n",
      " [49.87824062 94.06708029 57.71542366         nan 50.63796832 65.22429457\n",
      "  90.59668    44.66712528]\n",
      " [ 3.76311743 10.94282962 34.54536173  0.                 nan 55.96173819\n",
      "   0.          0.        ]\n",
      " [52.65039406  0.          0.         94.87563638 62.43029221         nan\n",
      "  55.21304014  0.        ]\n",
      " [27.3820836   4.89777053  0.          0.          0.         69.01171085\n",
      "          nan 21.03878402]\n",
      " [49.79039816 50.45009484 96.81506354 52.19544855  0.         70.27108516\n",
      "  22.70054915         nan]]\n"
     ]
    }
   ],
   "source": [
    "print(island.all_members)\n",
    "print(island.current_members)\n",
    "print(island.victim_memory)\n",
    "print(island.benefit_memory)"
   ]
  },
  {
   "cell_type": "code",
   "execution_count": 13,
   "metadata": {},
   "outputs": [
    {
     "name": "stdout",
     "output_type": "stream",
     "text": [
      "[Cathy(0), Alejo(1), Baudilio(2), Jamia(3), Natheniel(4), Krystal(5), Candelaria(6), Lucien(7), Pam(8), Pierson(9)]\n",
      "[Baudilio(2), Jamia(3), Candelaria(6), Lucien(7), Pam(8), Pierson(9)]\n",
      "[[        nan 91.44941608 94.58294727  0.         24.20784467  9.18316839]\n",
      " [70.02290745         nan 32.38555221 27.98890551  0.          0.        ]\n",
      " [84.48704278 36.84485956         nan  0.         87.18279959  0.        ]\n",
      " [ 0.          0.         25.33177687         nan  0.          0.        ]\n",
      " [ 0.          0.         57.9148008  71.72845814         nan 58.07073265]\n",
      " [53.55324129  0.          0.         64.27638629 22.26394704         nan]]\n",
      "[[        nan  0.          0.         99.31814857  0.          0.        ]\n",
      " [ 0.                 nan 37.82043029 99.49015874  2.01281511  0.        ]\n",
      " [ 3.76311743 10.94282962         nan 55.96173819  0.          0.        ]\n",
      " [52.65039406  0.         62.43029221         nan 55.21304014  0.        ]\n",
      " [27.3820836   4.89777053  0.         69.01171085         nan 21.03878402]\n",
      " [49.79039816 50.45009484  0.         70.27108516 22.70054915         nan]]\n",
      "5\n",
      "5\n",
      "9\n"
     ]
    }
   ],
   "source": [
    "island._member_list_drop(somebody)\n",
    "print(island.all_members)\n",
    "print(island.current_members)\n",
    "print(island.victim_memory)\n",
    "print(island.benefit_memory)\n",
    "print(island.current_members[-1].surviver_id)\n",
    "print(island.all_members[-1].surviver_id)\n",
    "print(island.all_members[-1].id)"
   ]
  },
  {
   "cell_type": "code",
   "execution_count": null,
   "metadata": {},
   "outputs": [],
   "source": [
    "a = np.random.rand(5, 5)\n",
    "a"
   ]
  },
  {
   "cell_type": "code",
   "execution_count": null,
   "metadata": {},
   "outputs": [],
   "source": [
    "a = np.delete(a, (1, 2), axis=0)\n",
    "a = np.delete(a, (1, 2), axis=1)\n",
    "a"
   ]
  },
  {
   "cell_type": "code",
   "execution_count": null,
   "metadata": {},
   "outputs": [],
   "source": [
    "a = np.delete(a, (1), axis=1)\n",
    "a"
   ]
  },
  {
   "cell_type": "code",
   "execution_count": null,
   "metadata": {},
   "outputs": [],
   "source": [
    "b = a[0]\n",
    "b"
   ]
  },
  {
   "cell_type": "code",
   "execution_count": null,
   "metadata": {},
   "outputs": [],
   "source": [
    "np.sort(b)[::-1]"
   ]
  },
  {
   "cell_type": "code",
   "execution_count": null,
   "metadata": {},
   "outputs": [],
   "source": [
    "island = Island(10)\n",
    "print(island.all_members)\n"
   ]
  },
  {
   "cell_type": "code",
   "execution_count": null,
   "metadata": {},
   "outputs": [],
   "source": [
    "island.all_members\n",
    "print(island.current_members)"
   ]
  },
  {
   "cell_type": "code",
   "execution_count": null,
   "metadata": {},
   "outputs": [],
   "source": [
    "island.all_members[0].name = \"aaaaa\"\n",
    "print(island.all_members)\n",
    "print(island.current_members)"
   ]
  },
  {
   "cell_type": "code",
   "execution_count": null,
   "metadata": {},
   "outputs": [],
   "source": [
    "np.random.seed(1)\n",
    "x = np.random.random(10)\n",
    "print(x)\n",
    "print(np.random.normal(x[0], 1, 10))"
   ]
  },
  {
   "cell_type": "code",
   "execution_count": null,
   "metadata": {},
   "outputs": [],
   "source": [
    "a = [[[1, 2], [3, 4]], [[5, 6], [7, 8]]]\n",
    "a.append([[9, 0], [1, 2]])\n",
    "arr = np.array(a)\n",
    "arr.reshape(3, 4)"
   ]
  },
  {
   "cell_type": "code",
   "execution_count": null,
   "metadata": {},
   "outputs": [],
   "source": [
    "arr.reshape(3, 2, 2)"
   ]
  },
  {
   "cell_type": "code",
   "execution_count": null,
   "metadata": {},
   "outputs": [],
   "source": [
    "pd.DataFrame([[1,2,3],[4,5,6]], index=['a','b'], columns=[\"g\", 'h', 'j'])"
   ]
  },
  {
   "cell_type": "code",
   "execution_count": null,
   "metadata": {},
   "outputs": [],
   "source": [
    "a = [\"a\", \"b\", \"c\"]\n",
    "np.random.shuffle(a)\n",
    "a"
   ]
  },
  {
   "cell_type": "code",
   "execution_count": null,
   "metadata": {},
   "outputs": [],
   "source": [
    "a = np.array([0, 1, 2, 3])\n",
    "b = [True, False, True, False]\n",
    "a[b]"
   ]
  },
  {
   "cell_type": "code",
   "execution_count": null,
   "metadata": {},
   "outputs": [],
   "source": [
    "plt.plot([1 ,2 ,3], [1, 2, None])"
   ]
  },
  {
   "cell_type": "code",
   "execution_count": null,
   "metadata": {},
   "outputs": [],
   "source": [
    "print(plt.cm.RdYlGn)"
   ]
  },
  {
   "cell_type": "code",
   "execution_count": null,
   "metadata": {},
   "outputs": [],
   "source": [
    "list = np.array([1, 2, 3 ,4, 5])\n",
    "list[list < 3] = 0\n",
    "list"
   ]
  },
  {
   "cell_type": "code",
   "execution_count": null,
   "metadata": {},
   "outputs": [],
   "source": [
    "list = ['iarry', 'harry', 'hbrry']\n",
    "arg_sort_list = np.argsort(list)\n",
    "arg_sort_list"
   ]
  },
  {
   "cell_type": "code",
   "execution_count": null,
   "metadata": {},
   "outputs": [],
   "source": [
    "list = [list[i] for i in arg_sort_list]\n",
    "list"
   ]
  },
  {
   "cell_type": "code",
   "execution_count": null,
   "metadata": {},
   "outputs": [],
   "source": [
    "np.split((np.arange(10)), 2)"
   ]
  },
  {
   "cell_type": "code",
   "execution_count": null,
   "metadata": {},
   "outputs": [],
   "source": [
    "mat = np.random.rand(3, 3)\n",
    "mat = [[1, 2, 3], [2, 0, 4], [1, 2, 1]]\n",
    "mat"
   ]
  },
  {
   "cell_type": "code",
   "execution_count": null,
   "metadata": {},
   "outputs": [],
   "source": [
    "max_mat_element = np.argmax(np.sum(mat, 1))\n",
    "max_mat_element"
   ]
  },
  {
   "cell_type": "code",
   "execution_count": null,
   "metadata": {},
   "outputs": [],
   "source": [
    "class test_class:\n",
    "    def __init__(self):\n",
    "        self.att = 1\n",
    "\n",
    "def change(cl):\n",
    "    cl.att = 2\n",
    "\n",
    "a = test_class()\n",
    "change(a)\n",
    "a.att"
   ]
  },
  {
   "cell_type": "code",
   "execution_count": null,
   "metadata": {},
   "outputs": [],
   "source": [
    "str = \"\"\n",
    "str == \"\""
   ]
  },
  {
   "cell_type": "code",
   "execution_count": null,
   "metadata": {},
   "outputs": [],
   "source": [
    "np.random.choice([1, 2, 3], size=1, p = [1, 2, 3])"
   ]
  }
 ],
 "metadata": {
  "kernelspec": {
   "display_name": "Python 3.8.13 ('arm38')",
   "language": "python",
   "name": "python3"
  },
  "language_info": {
   "codemirror_mode": {
    "name": "ipython",
    "version": 3
   },
   "file_extension": ".py",
   "mimetype": "text/x-python",
   "name": "python",
   "nbconvert_exporter": "python",
   "pygments_lexer": "ipython3",
   "version": "3.8.13"
  },
  "orig_nbformat": 4,
  "vscode": {
   "interpreter": {
    "hash": "40fb28f83da7408e41a466a4319ef023a36fbd5f29041ed305b7673c6c4e8b4e"
   }
  }
 },
 "nbformat": 4,
 "nbformat_minor": 2
}
