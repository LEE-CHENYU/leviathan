{
 "cells": [
  {
   "cell_type": "code",
   "execution_count": 1,
   "metadata": {},
   "outputs": [],
   "source": [
    "import numpy as np\n",
    "import matplotlib.pyplot as plt\n",
    "import pandas as pd\n",
    "from Island import Island\n",
    "from Member import Member"
   ]
  },
  {
   "cell_type": "code",
   "execution_count": 2,
   "metadata": {},
   "outputs": [],
   "source": [
    "def f(x: np.ndarray):\n",
    "    print(x)"
   ]
  },
  {
   "cell_type": "code",
   "execution_count": 3,
   "metadata": {},
   "outputs": [
    {
     "data": {
      "text/plain": [
       "True"
      ]
     },
     "execution_count": 3,
     "metadata": {},
     "output_type": "execute_result"
    }
   ],
   "source": [
    "(np.array([None, 1]) == None).any()"
   ]
  },
  {
   "cell_type": "code",
   "execution_count": 4,
   "metadata": {},
   "outputs": [
    {
     "data": {
      "text/plain": [
       "[array([[0],\n",
       "        [1]]),\n",
       " array([[ 10],\n",
       "        [100]])]"
      ]
     },
     "execution_count": 4,
     "metadata": {},
     "output_type": "execute_result"
    }
   ],
   "source": [
    "b = np.array([[0], [1]])\n",
    "c = np.array([[10], [100]])\n",
    "a = [b, c]\n",
    "a"
   ]
  },
  {
   "cell_type": "code",
   "execution_count": 5,
   "metadata": {},
   "outputs": [
    {
     "data": {
      "text/plain": [
       "[array([0]), array([10])]"
      ]
     },
     "execution_count": 5,
     "metadata": {},
     "output_type": "execute_result"
    }
   ],
   "source": [
    "for idx in range(len(a)):\n",
    "    a[idx].resize(1, refcheck=False)\n",
    "\n",
    "a"
   ]
  },
  {
   "cell_type": "code",
   "execution_count": 6,
   "metadata": {},
   "outputs": [
    {
     "data": {
      "text/plain": [
       "array([0])"
      ]
     },
     "execution_count": 6,
     "metadata": {},
     "output_type": "execute_result"
    }
   ],
   "source": [
    "b"
   ]
  },
  {
   "cell_type": "code",
   "execution_count": 7,
   "metadata": {},
   "outputs": [
    {
     "name": "stdout",
     "output_type": "stream",
     "text": [
      "[[        nan 60.27888159 24.53044725 97.21774622]\n",
      " [ 0.                 nan  1.31423722  0.        ]\n",
      " [49.03901075 83.30295415         nan  0.        ]\n",
      " [ 6.70705809 49.34802876  0.                 nan]]\n",
      "[[        nan 60.27888159 24.53044725 97.21774622]\n",
      " [ 0.                 nan  1.31423722  0.        ]\n",
      " [49.03901075 83.30295415         nan  0.        ]\n",
      " [ 6.70705809 49.34802876  0.                 nan]]\n"
     ]
    }
   ],
   "source": [
    "island = Island(4)\n",
    "print(island.victim_memory)\n",
    "np.fill_diagonal(island.victim_memory, np.nan)\n",
    "print(island.victim_memory)\n"
   ]
  },
  {
   "cell_type": "code",
   "execution_count": 8,
   "metadata": {},
   "outputs": [],
   "source": [
    "somebody_die = [island.current_members[3], island.current_members[2]]"
   ]
  },
  {
   "cell_type": "code",
   "execution_count": 9,
   "metadata": {},
   "outputs": [],
   "source": [
    "somebody_born = [Member(\"aha\", 1, None), Member(\"aha\", 99, None)]"
   ]
  },
  {
   "cell_type": "code",
   "execution_count": 10,
   "metadata": {},
   "outputs": [
    {
     "name": "stdout",
     "output_type": "stream",
     "text": [
      "[Amantha(0), Shyam(1), Hank(2), Phi(3)]\n",
      "[Amantha(0), Shyam(1), Hank(2), Phi(3)]\n",
      "[[        nan 60.27888159 24.53044725 97.21774622]\n",
      " [ 0.                 nan  1.31423722  0.        ]\n",
      " [49.03901075 83.30295415         nan  0.        ]\n",
      " [ 6.70705809 49.34802876  0.                 nan]]\n",
      "[[        nan  0.         26.97947282 18.57233128]\n",
      " [ 0.                 nan 46.52134978 87.57071333]\n",
      " [95.55542217 25.0702181          nan 15.72624096]\n",
      " [ 0.         59.82314075 63.91603706         nan]]\n"
     ]
    }
   ],
   "source": [
    "print(island.all_members)\n",
    "print(island.current_members)\n",
    "print(island.victim_memory)\n",
    "print(island.benefit_memory)"
   ]
  },
  {
   "cell_type": "code",
   "execution_count": 11,
   "metadata": {},
   "outputs": [
    {
     "name": "stdout",
     "output_type": "stream",
     "text": [
      "[Amantha(0), Shyam(1), Hank(2), Phi(3), aha(1), aha(99)]\n",
      "[Amantha(0), Shyam(1), aha(1), aha(99)]\n",
      "4\n",
      "[[        nan 60.27888159  0.          0.        ]\n",
      " [ 0.                 nan  0.          0.        ]\n",
      " [ 0.          0.                 nan  0.        ]\n",
      " [ 0.          0.          0.                 nan]]\n",
      "[[nan  0.  0.  0.]\n",
      " [ 0. nan  0.  0.]\n",
      " [ 0.  0. nan  0.]\n",
      " [ 0.  0.  0. nan]]\n",
      "3\n",
      "3\n",
      "99\n"
     ]
    }
   ],
   "source": [
    "island.member_list_modify(somebody_born, somebody_die, np.zeros((2, 4)), np.zeros((4, 2)))\n",
    "print(island.all_members)\n",
    "print(island.current_members)\n",
    "print(island.current_member_num)\n",
    "print(island.victim_memory)\n",
    "print(island.benefit_memory)\n",
    "print(island.current_members[-1].surviver_id)\n",
    "print(island.all_members[-1].surviver_id)\n",
    "print(island.all_members[-1].id)"
   ]
  },
  {
   "cell_type": "code",
   "execution_count": null,
   "metadata": {},
   "outputs": [],
   "source": [
    "a = np.random.rand(5, 5)\n",
    "a"
   ]
  },
  {
   "cell_type": "code",
   "execution_count": null,
   "metadata": {},
   "outputs": [],
   "source": [
    "a = np.delete(a, (1, 2), axis=0)\n",
    "a = np.delete(a, (1, 2), axis=1)\n",
    "a"
   ]
  },
  {
   "cell_type": "code",
   "execution_count": null,
   "metadata": {},
   "outputs": [],
   "source": [
    "a = np.delete(a, (1), axis=1)\n",
    "a"
   ]
  },
  {
   "cell_type": "code",
   "execution_count": null,
   "metadata": {},
   "outputs": [],
   "source": [
    "b = a[0]\n",
    "b"
   ]
  },
  {
   "cell_type": "code",
   "execution_count": null,
   "metadata": {},
   "outputs": [],
   "source": [
    "np.sort(b)[::-1]"
   ]
  },
  {
   "cell_type": "code",
   "execution_count": null,
   "metadata": {},
   "outputs": [],
   "source": [
    "island = Island(10)\n",
    "print(island.all_members)\n"
   ]
  },
  {
   "cell_type": "code",
   "execution_count": null,
   "metadata": {},
   "outputs": [],
   "source": [
    "island.all_members\n",
    "print(island.current_members)"
   ]
  },
  {
   "cell_type": "code",
   "execution_count": null,
   "metadata": {},
   "outputs": [],
   "source": [
    "island.all_members[0].name = \"aaaaa\"\n",
    "print(island.all_members)\n",
    "print(island.current_members)"
   ]
  },
  {
   "cell_type": "code",
   "execution_count": null,
   "metadata": {},
   "outputs": [],
   "source": [
    "np.random.seed(1)\n",
    "x = np.random.random(10)\n",
    "print(x)\n",
    "print(np.random.normal(x[0], 1, 10))"
   ]
  },
  {
   "cell_type": "code",
   "execution_count": null,
   "metadata": {},
   "outputs": [],
   "source": [
    "a = [[[1, 2], [3, 4]], [[5, 6], [7, 8]]]\n",
    "a.append([[9, 0], [1, 2]])\n",
    "arr = np.array(a)\n",
    "arr.reshape(3, 4)"
   ]
  },
  {
   "cell_type": "code",
   "execution_count": null,
   "metadata": {},
   "outputs": [],
   "source": [
    "arr.reshape(3, 2, 2)"
   ]
  },
  {
   "cell_type": "code",
   "execution_count": null,
   "metadata": {},
   "outputs": [],
   "source": [
    "pd.DataFrame([[1,2,3],[4,5,6]], index=['a','b'], columns=[\"g\", 'h', 'j'])"
   ]
  },
  {
   "cell_type": "code",
   "execution_count": null,
   "metadata": {},
   "outputs": [],
   "source": [
    "a = [\"a\", \"b\", \"c\"]\n",
    "np.random.shuffle(a)\n",
    "a"
   ]
  },
  {
   "cell_type": "code",
   "execution_count": null,
   "metadata": {},
   "outputs": [],
   "source": [
    "a = np.array([0, 1, 2, 3])\n",
    "b = [True, False, True, False]\n",
    "a[b]"
   ]
  },
  {
   "cell_type": "code",
   "execution_count": null,
   "metadata": {},
   "outputs": [],
   "source": [
    "plt.plot([1 ,2 ,3], [1, 2, None])"
   ]
  },
  {
   "cell_type": "code",
   "execution_count": null,
   "metadata": {},
   "outputs": [],
   "source": [
    "print(plt.cm.RdYlGn)"
   ]
  },
  {
   "cell_type": "code",
   "execution_count": null,
   "metadata": {},
   "outputs": [],
   "source": [
    "list = np.array([1, 2, 3 ,4, 5])\n",
    "list[list < 3] = 0\n",
    "list"
   ]
  },
  {
   "cell_type": "code",
   "execution_count": null,
   "metadata": {},
   "outputs": [],
   "source": [
    "list = ['iarry', 'harry', 'hbrry']\n",
    "arg_sort_list = np.argsort(list)\n",
    "arg_sort_list"
   ]
  },
  {
   "cell_type": "code",
   "execution_count": null,
   "metadata": {},
   "outputs": [],
   "source": [
    "list = [list[i] for i in arg_sort_list]\n",
    "list"
   ]
  },
  {
   "cell_type": "code",
   "execution_count": null,
   "metadata": {},
   "outputs": [],
   "source": [
    "np.split((np.arange(10)), 2)"
   ]
  },
  {
   "cell_type": "code",
   "execution_count": null,
   "metadata": {},
   "outputs": [],
   "source": [
    "mat = np.random.rand(3, 3)\n",
    "mat = [[1, 2, 3], [2, 0, 4], [1, 2, 1]]\n",
    "mat"
   ]
  },
  {
   "cell_type": "code",
   "execution_count": null,
   "metadata": {},
   "outputs": [],
   "source": [
    "max_mat_element = np.argmax(np.sum(mat, 1))\n",
    "max_mat_element"
   ]
  },
  {
   "cell_type": "code",
   "execution_count": null,
   "metadata": {},
   "outputs": [],
   "source": [
    "class test_class:\n",
    "    def __init__(self):\n",
    "        self.att = 1\n",
    "\n",
    "def change(cl):\n",
    "    cl.att = 2\n",
    "\n",
    "a = test_class()\n",
    "change(a)\n",
    "a.att"
   ]
  },
  {
   "cell_type": "code",
   "execution_count": null,
   "metadata": {},
   "outputs": [],
   "source": [
    "str = \"\"\n",
    "str == \"\""
   ]
  },
  {
   "cell_type": "code",
   "execution_count": null,
   "metadata": {},
   "outputs": [],
   "source": [
    "np.random.choice([1, 2, 3], size=1, p = [1, 2, 3])"
   ]
  }
 ],
 "metadata": {
  "kernelspec": {
   "display_name": "Python 3.8.13 ('arm38')",
   "language": "python",
   "name": "python3"
  },
  "language_info": {
   "codemirror_mode": {
    "name": "ipython",
    "version": 3
   },
   "file_extension": ".py",
   "mimetype": "text/x-python",
   "name": "python",
   "nbconvert_exporter": "python",
   "pygments_lexer": "ipython3",
   "version": "3.8.13"
  },
  "orig_nbformat": 4,
  "vscode": {
   "interpreter": {
    "hash": "40fb28f83da7408e41a466a4319ef023a36fbd5f29041ed305b7673c6c4e8b4e"
   }
  }
 },
 "nbformat": 4,
 "nbformat_minor": 2
}
