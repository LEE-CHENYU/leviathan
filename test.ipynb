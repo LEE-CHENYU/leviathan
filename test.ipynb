{
 "cells": [
  {
   "cell_type": "code",
   "execution_count": 1,
   "metadata": {},
   "outputs": [],
   "source": [
    "import numpy as np\n",
    "import matplotlib.pyplot as plt\n",
    "import pandas as pd\n",
    "from Island import Island\n",
    "from Member import Member"
   ]
  },
  {
   "cell_type": "code",
   "execution_count": 2,
   "metadata": {},
   "outputs": [
    {
     "data": {
      "text/plain": [
       "[array([[0],\n",
       "        [1]]),\n",
       " array([[ 10],\n",
       "        [100]])]"
      ]
     },
     "execution_count": 2,
     "metadata": {},
     "output_type": "execute_result"
    }
   ],
   "source": [
    "b = np.array([[0], [1]])\n",
    "c = np.array([[10], [100]])\n",
    "a = [b, c]\n",
    "a"
   ]
  },
  {
   "cell_type": "code",
   "execution_count": 3,
   "metadata": {},
   "outputs": [
    {
     "data": {
      "text/plain": [
       "[array([0]), array([10])]"
      ]
     },
     "execution_count": 3,
     "metadata": {},
     "output_type": "execute_result"
    }
   ],
   "source": [
    "for idx in range(len(a)):\n",
    "    a[idx].resize(1, refcheck=False)\n",
    "\n",
    "a"
   ]
  },
  {
   "cell_type": "code",
   "execution_count": 4,
   "metadata": {},
   "outputs": [
    {
     "data": {
      "text/plain": [
       "array([0])"
      ]
     },
     "execution_count": 4,
     "metadata": {},
     "output_type": "execute_result"
    }
   ],
   "source": [
    "b"
   ]
  },
  {
   "cell_type": "code",
   "execution_count": 5,
   "metadata": {},
   "outputs": [
    {
     "name": "stdout",
     "output_type": "stream",
     "text": [
      "[[        nan  0.         21.67685121  0.        ]\n",
      " [43.90040264         nan 36.03145747 46.62181814]\n",
      " [ 0.          3.49300927         nan  0.        ]\n",
      " [ 0.          4.64916661 18.74448274         nan]]\n",
      "[[        nan  0.         21.67685121  0.        ]\n",
      " [43.90040264         nan 36.03145747 46.62181814]\n",
      " [ 0.          3.49300927         nan  0.        ]\n",
      " [ 0.          4.64916661 18.74448274         nan]]\n"
     ]
    }
   ],
   "source": [
    "island = Island(4)\n",
    "print(island.victim_memory)\n",
    "np.fill_diagonal(island.victim_memory, np.nan)\n",
    "print(island.victim_memory)\n"
   ]
  },
  {
   "cell_type": "code",
   "execution_count": 6,
   "metadata": {},
   "outputs": [
    {
     "data": {
      "text/plain": [
       "[Davonna(0), Timberly(1)]"
      ]
     },
     "execution_count": 6,
     "metadata": {},
     "output_type": "execute_result"
    }
   ],
   "source": [
    "somebody = [island.all_members[0], island.all_members[1]]\n",
    "somebody"
   ]
  },
  {
   "cell_type": "code",
   "execution_count": 7,
   "metadata": {},
   "outputs": [
    {
     "name": "stdout",
     "output_type": "stream",
     "text": [
      "[Davonna(0), Timberly(1), Ewa(2), Maria(3)]\n",
      "[Davonna(0), Timberly(1), Ewa(2), Maria(3)]\n",
      "[[        nan  0.         21.67685121  0.        ]\n",
      " [43.90040264         nan 36.03145747 46.62181814]\n",
      " [ 0.          3.49300927         nan  0.        ]\n",
      " [ 0.          4.64916661 18.74448274         nan]]\n",
      "[[        nan  0.         81.0039961   0.        ]\n",
      " [57.66024663         nan  0.         27.46824313]\n",
      " [13.05208509 94.77355395         nan 69.86945144]\n",
      " [ 0.          0.          0.                 nan]]\n"
     ]
    }
   ],
   "source": [
    "print(island.all_members)\n",
    "print(island.current_members)\n",
    "print(island.victim_memory)\n",
    "print(island.benefit_memory)"
   ]
  },
  {
   "cell_type": "code",
   "execution_count": 8,
   "metadata": {},
   "outputs": [
    {
     "name": "stdout",
     "output_type": "stream",
     "text": [
      "[Davonna(0), Timberly(1), Ewa(2), Maria(3)]\n",
      "[Ewa(2), Maria(3)]\n",
      "[[        nan  0.        ]\n",
      " [18.74448274         nan]]\n",
      "[[        nan 69.86945144]\n",
      " [ 0.                 nan]]\n"
     ]
    }
   ],
   "source": [
    "island._member_list_drop(somebody)\n",
    "print(island.all_members)\n",
    "print(island.current_members)\n",
    "print(island.victim_memory)\n",
    "print(island.benefit_memory)"
   ]
  },
  {
   "cell_type": "code",
   "execution_count": null,
   "metadata": {},
   "outputs": [],
   "source": [
    "a = np.random.rand(5, 5)\n",
    "a"
   ]
  },
  {
   "cell_type": "code",
   "execution_count": null,
   "metadata": {},
   "outputs": [],
   "source": [
    "a = np.delete(a, (1, 2), axis=0)\n",
    "a = np.delete(a, (1, 2), axis=1)\n",
    "a"
   ]
  },
  {
   "cell_type": "code",
   "execution_count": null,
   "metadata": {},
   "outputs": [],
   "source": [
    "a = np.delete(a, (1), axis=1)\n",
    "a"
   ]
  },
  {
   "cell_type": "code",
   "execution_count": null,
   "metadata": {},
   "outputs": [],
   "source": [
    "b = a[0]\n",
    "b"
   ]
  },
  {
   "cell_type": "code",
   "execution_count": null,
   "metadata": {},
   "outputs": [],
   "source": [
    "np.sort(b)[::-1]"
   ]
  },
  {
   "cell_type": "code",
   "execution_count": null,
   "metadata": {},
   "outputs": [],
   "source": [
    "island = Island(10)\n",
    "print(island.all_members)\n"
   ]
  },
  {
   "cell_type": "code",
   "execution_count": null,
   "metadata": {},
   "outputs": [],
   "source": [
    "island.all_members\n",
    "print(island.current_members)"
   ]
  },
  {
   "cell_type": "code",
   "execution_count": null,
   "metadata": {},
   "outputs": [],
   "source": [
    "island.all_members[0].name = \"aaaaa\"\n",
    "print(island.all_members)\n",
    "print(island.current_members)"
   ]
  },
  {
   "cell_type": "code",
   "execution_count": null,
   "metadata": {},
   "outputs": [],
   "source": [
    "np.random.seed(1)\n",
    "x = np.random.random(10)\n",
    "print(x)\n",
    "print(np.random.normal(x[0], 1, 10))"
   ]
  },
  {
   "cell_type": "code",
   "execution_count": null,
   "metadata": {},
   "outputs": [],
   "source": [
    "a = [[[1, 2], [3, 4]], [[5, 6], [7, 8]]]\n",
    "a.append([[9, 0], [1, 2]])\n",
    "arr = np.array(a)\n",
    "arr.reshape(3, 4)"
   ]
  },
  {
   "cell_type": "code",
   "execution_count": null,
   "metadata": {},
   "outputs": [],
   "source": [
    "arr.reshape(3, 2, 2)"
   ]
  },
  {
   "cell_type": "code",
   "execution_count": null,
   "metadata": {},
   "outputs": [],
   "source": [
    "pd.DataFrame([[1,2,3],[4,5,6]], index=['a','b'], columns=[\"g\", 'h', 'j'])"
   ]
  },
  {
   "cell_type": "code",
   "execution_count": null,
   "metadata": {},
   "outputs": [],
   "source": [
    "a = [\"a\", \"b\", \"c\"]\n",
    "np.random.shuffle(a)\n",
    "a"
   ]
  },
  {
   "cell_type": "code",
   "execution_count": null,
   "metadata": {},
   "outputs": [],
   "source": [
    "a = np.array([0, 1, 2, 3])\n",
    "b = [True, False, True, False]\n",
    "a[b]"
   ]
  },
  {
   "cell_type": "code",
   "execution_count": null,
   "metadata": {},
   "outputs": [],
   "source": [
    "plt.plot([1 ,2 ,3], [1, 2, None])"
   ]
  },
  {
   "cell_type": "code",
   "execution_count": null,
   "metadata": {},
   "outputs": [],
   "source": [
    "print(plt.cm.RdYlGn)"
   ]
  },
  {
   "cell_type": "code",
   "execution_count": null,
   "metadata": {},
   "outputs": [],
   "source": [
    "list = np.array([1, 2, 3 ,4, 5])\n",
    "list[list < 3] = 0\n",
    "list"
   ]
  },
  {
   "cell_type": "code",
   "execution_count": null,
   "metadata": {},
   "outputs": [],
   "source": [
    "list = ['iarry', 'harry', 'hbrry']\n",
    "arg_sort_list = np.argsort(list)\n",
    "arg_sort_list"
   ]
  },
  {
   "cell_type": "code",
   "execution_count": null,
   "metadata": {},
   "outputs": [],
   "source": [
    "list = [list[i] for i in arg_sort_list]\n",
    "list"
   ]
  },
  {
   "cell_type": "code",
   "execution_count": null,
   "metadata": {},
   "outputs": [],
   "source": [
    "np.split((np.arange(10)), 2)"
   ]
  },
  {
   "cell_type": "code",
   "execution_count": null,
   "metadata": {},
   "outputs": [],
   "source": [
    "mat = np.random.rand(3, 3)\n",
    "mat = [[1, 2, 3], [2, 0, 4], [1, 2, 1]]\n",
    "mat"
   ]
  },
  {
   "cell_type": "code",
   "execution_count": null,
   "metadata": {},
   "outputs": [],
   "source": [
    "max_mat_element = np.argmax(np.sum(mat, 1))\n",
    "max_mat_element"
   ]
  },
  {
   "cell_type": "code",
   "execution_count": null,
   "metadata": {},
   "outputs": [],
   "source": [
    "class test_class:\n",
    "    def __init__(self):\n",
    "        self.att = 1\n",
    "\n",
    "def change(cl):\n",
    "    cl.att = 2\n",
    "\n",
    "a = test_class()\n",
    "change(a)\n",
    "a.att"
   ]
  },
  {
   "cell_type": "code",
   "execution_count": null,
   "metadata": {},
   "outputs": [],
   "source": [
    "str = \"\"\n",
    "str == \"\""
   ]
  },
  {
   "cell_type": "code",
   "execution_count": null,
   "metadata": {},
   "outputs": [],
   "source": [
    "np.random.choice([1, 2, 3], size=1, p = [1, 2, 3])"
   ]
  }
 ],
 "metadata": {
  "kernelspec": {
   "display_name": "Python 3.8.13 ('arm38')",
   "language": "python",
   "name": "python3"
  },
  "language_info": {
   "codemirror_mode": {
    "name": "ipython",
    "version": 3
   },
   "file_extension": ".py",
   "mimetype": "text/x-python",
   "name": "python",
   "nbconvert_exporter": "python",
   "pygments_lexer": "ipython3",
   "version": "3.8.13"
  },
  "orig_nbformat": 4,
  "vscode": {
   "interpreter": {
    "hash": "40fb28f83da7408e41a466a4319ef023a36fbd5f29041ed305b7673c6c4e8b4e"
   }
  }
 },
 "nbformat": 4,
 "nbformat_minor": 2
}
