{
 "cells": [
  {
   "cell_type": "code",
   "execution_count": 11,
   "metadata": {},
   "outputs": [],
   "source": [
    "import numpy as np\n",
    "import matplotlib.pyplot as plt\n",
    "import pandas as pd\n",
    "from Island import Island, Member\n",
    "from time import time"
   ]
  },
  {
   "cell_type": "code",
   "execution_count": 12,
   "metadata": {},
   "outputs": [],
   "source": [
    "island = Island(50, random_seed=2022)"
   ]
  },
  {
   "cell_type": "code",
   "execution_count": 13,
   "metadata": {},
   "outputs": [
    {
     "name": "stdout",
     "output_type": "stream",
     "text": [
      "========================== Vitality ==========================\n",
      "\t[0] Marvell:    Age: 170,  Vit: 26.7, Cargo: 37.4\n",
      "\t[1] Morgen:     Age: 804,  Vit: 32.1, Cargo: 70.9\n",
      "\t[2] Jerin:      Age: 106,  Vit: 44.0, Cargo: 50.1\n",
      "\t[3] Boy:        Age: 62,  Vit: 45.7, Cargo: 66.5\n",
      "\t[4] Arnisha:    Age: 635,  Vit: 87.9, Cargo: 20.5\n",
      "\t[5] Karoline:   Age: 407,  Vit: 23.3, Cargo: 0.8\n",
      "\t[6] Aime:       Age: 476,  Vit: 44.6, Cargo: 26.6\n",
      "\t[7] Lamesha:    Age: 595,  Vit: 27.9, Cargo: 51.1\n",
      "\t[8] Maya:       Age: 488,  Vit: 55.7, Cargo: 24.4\n",
      "\t[9] Latoiya:    Age: 806,  Vit: 56.4, Cargo: 26.9\n",
      "\t[10] Lashayla:   Age: 936,  Vit: 55.8, Cargo: 87.9\n",
      "\t[11] Gabriella:  Age: 722,  Vit: 41.2, Cargo: 48.1\n",
      "\t[12] Kristinejoy: Age: 70,  Vit: 59.9, Cargo: 92.7\n",
      "\t[13] Waymon:     Age: 526,  Vit: 69.1, Cargo: 61.9\n",
      "\t[14] Elisabeth:  Age: 59,  Vit: 63.2, Cargo: 7.1\n",
      "\t[15] Corwyn:     Age: 825,  Vit: 21.3, Cargo: 86.8\n",
      "\t[16] Scotty:     Age: 361,  Vit: 75.1, Cargo: 32.1\n",
      "\t[17] Karriem:    Age: 503,  Vit: 62.5, Cargo: 28.3\n",
      "\t[18] Sareena:    Age: 651,  Vit: 68.0, Cargo: 35.3\n",
      "\t[19] Arleen:     Age: 383,  Vit: 68.1, Cargo: 92.1\n",
      "\t[20] Tristin:    Age: 258,  Vit: 73.3, Cargo: 48.5\n",
      "\t[21] Nidya:      Age: 937,  Vit: 18.2, Cargo: 53.6\n",
      "\t[22] Jemar:      Age: 599,  Vit: 49.5, Cargo: 80.0\n",
      "\t[23] Aziz:       Age: 230,  Vit: 35.0, Cargo: 37.2\n",
      "\t[24] Jermaine:   Age: 976,  Vit: 29.2, Cargo: 54.8\n",
      "\t[25] Casia:      Age: 439,  Vit: 42.2, Cargo: 3.6\n",
      "\t[26] Anastassia: Age: 449,  Vit: 59.6, Cargo: 79.9\n",
      "\t[27] Alicen:     Age: 800,  Vit: 43.3, Cargo: 41.3\n",
      "\t[28] Korinne:    Age: 231,  Vit: 15.0, Cargo: 71.8\n",
      "\t[29] Deontrae:   Age: 501,  Vit: 83.9, Cargo: 48.9\n",
      "\t[30] Willie:     Age: 680,  Vit: 19.5, Cargo: 50.0\n",
      "\t[31] Renada:     Age: 514,  Vit: 64.8, Cargo: 28.6\n",
      "\t[32] Aireal:     Age: 239,  Vit: 42.4, Cargo: 85.9\n",
      "\t[33] Reem:       Age: 973,  Vit: 20.4, Cargo: 10.8\n",
      "\t[34] Taralyn:    Age: 423,  Vit: 75.1, Cargo: 39.1\n",
      "\t[35] Taiwan:     Age: 408,  Vit: 20.2, Cargo: 16.7\n",
      "\t[36] Arik:       Age: 638,  Vit: 11.0, Cargo: 61.7\n",
      "\t[37] Chenoa:     Age: 774,  Vit: 76.3, Cargo: 20.0\n",
      "\t[38] Janelle:    Age: 127,  Vit: 34.6, Cargo: 2.9\n",
      "\t[39] Ellena:     Age: 587,  Vit: 81.4, Cargo: 70.9\n",
      "\t[40] Valarie:    Age: 349,  Vit: 52.2, Cargo: 12.1\n",
      "\t[41] Darbie:     Age: 165,  Vit: 58.9, Cargo: 73.4\n",
      "\t[42] Tomeshia:   Age: 609,  Vit: 25.3, Cargo: 30.9\n",
      "\t[43] Nicolette:  Age: 103,  Vit: 73.2, Cargo: 25.5\n",
      "\t[44] Tremell:    Age: 290,  Vit: 77.2, Cargo: 36.1\n",
      "\t[45] Liborio:    Age: 843,  Vit: 77.8, Cargo: 0.9\n",
      "\t[46] Mirtha:     Age: 774,  Vit: 23.6, Cargo: 14.0\n",
      "\t[47] Rodderick:  Age: 507,  Vit: 23.7, Cargo: 87.5\n",
      "\t[48] Huston:     Age: 77,  Vit: 22.4, Cargo: 8.7\n",
      "\t[49] Rashad:     Age: 604,  Vit: 84.7, Cargo: 37.0\n",
      "\n"
     ]
    }
   ],
   "source": [
    "island.print_info()"
   ]
  },
  {
   "cell_type": "code",
   "execution_count": 14,
   "metadata": {},
   "outputs": [
    {
     "name": "stdout",
     "output_type": "stream",
     "text": [
      "========================== Vitality ==========================\n",
      "\t[0] Marvell:    Age: 170,  Vit: 26.7, Cargo: 87.3\n",
      "\t[1] Morgen:     Age: 804,  Vit: 32.1, Cargo: 146.4\n",
      "\t[2] Jerin:      Age: 106,  Vit: 44.0, Cargo: 99.3\n",
      "\t[3] Boy:        Age: 62,  Vit: 45.7, Cargo: 123.4\n",
      "\t[4] Arnisha:    Age: 635,  Vit: 87.9, Cargo: 100.3\n",
      "\t[5] Karoline:   Age: 407,  Vit: 23.3, Cargo: 53.0\n",
      "\t[6] Aime:       Age: 476,  Vit: 44.6, Cargo: 73.3\n",
      "\t[7] Lamesha:    Age: 595,  Vit: 27.9, Cargo: 126.3\n",
      "\t[8] Maya:       Age: 488,  Vit: 55.7, Cargo: 74.2\n",
      "\t[9] Latoiya:    Age: 806,  Vit: 56.4, Cargo: 76.9\n",
      "\t[10] Lashayla:   Age: 936,  Vit: 55.8, Cargo: 162.4\n",
      "\t[11] Gabriella:  Age: 722,  Vit: 41.2, Cargo: 122.5\n",
      "\t[12] Kristinejoy: Age: 70,  Vit: 59.9, Cargo: 151.0\n",
      "\t[13] Waymon:     Age: 526,  Vit: 69.1, Cargo: 119.0\n",
      "\t[14] Elisabeth:  Age: 59,  Vit: 63.2, Cargo: 75.8\n",
      "\t[15] Corwyn:     Age: 825,  Vit: 21.3, Cargo: 150.8\n",
      "\t[16] Scotty:     Age: 361,  Vit: 75.1, Cargo: 101.1\n",
      "\t[17] Karriem:    Age: 503,  Vit: 62.5, Cargo: 95.2\n",
      "\t[18] Sareena:    Age: 651,  Vit: 68.0, Cargo: 108.1\n",
      "\t[19] Arleen:     Age: 383,  Vit: 68.1, Cargo: 155.2\n",
      "\t[20] Tristin:    Age: 258,  Vit: 73.3, Cargo: 119.9\n",
      "\t[21] Nidya:      Age: 937,  Vit: 18.2, Cargo: 95.7\n",
      "\t[22] Jemar:      Age: 599,  Vit: 49.5, Cargo: 141.8\n",
      "\t[23] Aziz:       Age: 230,  Vit: 35.0, Cargo: 78.2\n",
      "\t[24] Jermaine:   Age: 976,  Vit: 29.2, Cargo: 106.2\n",
      "\t[25] Casia:      Age: 439,  Vit: 42.2, Cargo: 78.2\n",
      "\t[26] Anastassia: Age: 449,  Vit: 59.6, Cargo: 149.0\n",
      "\t[27] Alicen:     Age: 800,  Vit: 43.3, Cargo: 81.9\n",
      "\t[28] Korinne:    Age: 231,  Vit: 15.0, Cargo: 133.3\n",
      "\t[29] Deontrae:   Age: 501,  Vit: 83.9, Cargo: 103.6\n",
      "\t[30] Willie:     Age: 680,  Vit: 19.5, Cargo: 114.9\n",
      "\t[31] Renada:     Age: 514,  Vit: 64.8, Cargo: 94.5\n",
      "\t[32] Aireal:     Age: 239,  Vit: 42.4, Cargo: 129.0\n",
      "\t[33] Reem:       Age: 973,  Vit: 20.4, Cargo: 75.6\n",
      "\t[34] Taralyn:    Age: 423,  Vit: 75.1, Cargo: 112.7\n",
      "\t[35] Taiwan:     Age: 408,  Vit: 20.2, Cargo: 74.5\n",
      "\t[36] Arik:       Age: 638,  Vit: 11.0, Cargo: 127.1\n",
      "\t[37] Chenoa:     Age: 774,  Vit: 76.3, Cargo: 65.1\n",
      "\t[38] Janelle:    Age: 127,  Vit: 34.6, Cargo: 58.1\n",
      "\t[39] Ellena:     Age: 587,  Vit: 81.4, Cargo: 125.0\n",
      "\t[40] Valarie:    Age: 349,  Vit: 52.2, Cargo: 72.2\n",
      "\t[41] Darbie:     Age: 165,  Vit: 58.9, Cargo: 141.5\n",
      "\t[42] Tomeshia:   Age: 609,  Vit: 25.3, Cargo: 97.8\n",
      "\t[43] Nicolette:  Age: 103,  Vit: 73.2, Cargo: 68.1\n",
      "\t[44] Tremell:    Age: 290,  Vit: 77.2, Cargo: 81.7\n",
      "\t[45] Liborio:    Age: 843,  Vit: 77.8, Cargo: 76.7\n",
      "\t[46] Mirtha:     Age: 774,  Vit: 23.6, Cargo: 59.5\n",
      "\t[47] Rodderick:  Age: 507,  Vit: 23.7, Cargo: 157.2\n",
      "\t[48] Huston:     Age: 77,  Vit: 22.4, Cargo: 64.8\n",
      "\t[49] Rashad:     Age: 604,  Vit: 84.7, Cargo: 79.1\n",
      "\n"
     ]
    }
   ],
   "source": [
    "island.produce()\n",
    "island.produce()\n",
    "island.produce()\n",
    "island.produce()\n",
    "island.print_info()\n"
   ]
  },
  {
   "cell_type": "code",
   "execution_count": 15,
   "metadata": {},
   "outputs": [
    {
     "name": "stdout",
     "output_type": "stream",
     "text": [
      "Waymon(13) Scotty(16)\n",
      "Taiwan(35) Lamesha(7)\n",
      "Sareena(18) Lashayla(10)\n",
      "Arnisha(4) Morgen(1)\n",
      "Jermaine(24) Tristin(20)\n",
      "Nicolette(43) Jerin(2)\n",
      "Maya(8) Boy(3)\n",
      "Reem(33) Taralyn(34)\n",
      "Tomeshia(42) Karriem(17)\n",
      "Mirtha(46) Chenoa(37)\n",
      "Ellena(39) Korinne(28)\n",
      "Korinne(28) 死了\n",
      "Renada(31) Janelle(38)\n",
      "Aime(6) Casia(25)\n",
      "Aime(6) Casia(25)\n",
      "Lamesha(7) Lashayla(10)\n",
      "Tristin(20) Willie(30)\n",
      "Aireal(32) Ellena(39)\n",
      "Renada(31) Nicolette(43)\n",
      "Waymon(13) Arnisha(4)\n",
      "Huston(48) Gabriella(11)\n",
      "Sareena(18) Morgen(1)\n",
      "Tremell(44) Latoiya(9)\n",
      "Arik(36) Jermaine(24)\n",
      "Marvell(0) Rashad(49)\n",
      "Tomeshia(42) Reem(33)\n",
      "Mirtha(46) Karoline(5)\n",
      "========================== Vitality ==========================\n",
      "\t[0] Marvell:    Age: 170,  Vit: 14.3, Cargo: 75.4\n",
      "\t[1] Morgen:     Age: 804,  Vit: 8.6, Cargo: 119.7\n",
      "\t[2] Jerin:      Age: 106,  Vit: 35.8, Cargo: 90.8\n",
      "\t[3] Boy:        Age: 62,  Vit: 38.6, Cargo: 114.0\n",
      "\t[4] Arnisha:    Age: 635,  Vit: 76.7, Cargo: 87.0\n",
      "\t[5] Karoline:   Age: 407,  Vit: 20.4, Cargo: 50.9\n",
      "\t[6] Aime:       Age: 476,  Vit: 31.7, Cargo: 58.4\n",
      "\t[7] Lamesha:    Age: 595,  Vit: 18.4, Cargo: 116.4\n",
      "\t[8] Maya:       Age: 488,  Vit: 49.8, Cargo: 65.7\n",
      "\t[9] Latoiya:    Age: 806,  Vit: 46.7, Cargo: 66.1\n",
      "\t[10] Lashayla:   Age: 936,  Vit: 42.0, Cargo: 147.5\n",
      "\t[11] Gabriella:  Age: 722,  Vit: 37.9, Cargo: 118.1\n",
      "\t[12] Kristinejoy: Age: 70,  Vit: 59.9, Cargo: 151.0\n",
      "\t[13] Waymon:     Age: 526,  Vit: 46.9, Cargo: 91.6\n",
      "\t[14] Elisabeth:  Age: 59,  Vit: 63.2, Cargo: 75.8\n",
      "\t[15] Corwyn:     Age: 825,  Vit: 21.3, Cargo: 150.8\n",
      "\t[16] Scotty:     Age: 361,  Vit: 62.8, Cargo: 91.4\n",
      "\t[17] Karriem:    Age: 503,  Vit: 58.9, Cargo: 90.3\n",
      "\t[18] Sareena:    Age: 651,  Vit: 55.6, Cargo: 99.4\n",
      "\t[19] Arleen:     Age: 383,  Vit: 68.1, Cargo: 155.2\n",
      "\t[20] Tristin:    Age: 258,  Vit: 67.0, Cargo: 113.6\n",
      "\t[21] Nidya:      Age: 937,  Vit: 18.2, Cargo: 95.7\n",
      "\t[22] Jemar:      Age: 599,  Vit: 49.5, Cargo: 141.8\n",
      "\t[23] Aziz:       Age: 230,  Vit: 35.0, Cargo: 78.2\n",
      "\t[24] Jermaine:   Age: 976,  Vit: 14.2, Cargo: 90.9\n",
      "\t[25] Casia:      Age: 439,  Vit: 30.4, Cargo: 65.7\n",
      "\t[26] Anastassia: Age: 449,  Vit: 59.6, Cargo: 149.0\n",
      "\t[27] Alicen:     Age: 800,  Vit: 43.3, Cargo: 81.9\n",
      "\t[29] Deontrae:   Age: 501,  Vit: 83.9, Cargo: 103.6\n",
      "\t[30] Willie:     Age: 680,  Vit: 11.3, Cargo: 106.2\n",
      "\t[31] Renada:     Age: 514,  Vit: 47.4, Cargo: 76.5\n",
      "\t[32] Aireal:     Age: 239,  Vit: 29.0, Cargo: 117.1\n",
      "\t[33] Reem:       Age: 973,  Vit: 4.4, Cargo: 61.7\n",
      "\t[34] Taralyn:    Age: 423,  Vit: 71.2, Cargo: 109.6\n",
      "\t[35] Taiwan:     Age: 408,  Vit: 15.5, Cargo: 69.8\n",
      "\t[36] Arik:       Age: 638,  Vit: 9.1, Cargo: 124.8\n",
      "\t[37] Chenoa:     Age: 774,  Vit: 72.7, Cargo: 60.9\n",
      "\t[38] Janelle:    Age: 127,  Vit: 24.5, Cargo: 46.4\n",
      "\t[39] Ellena:     Age: 587,  Vit: 75.6, Cargo: 117.1\n",
      "\t[40] Valarie:    Age: 349,  Vit: 52.2, Cargo: 72.2\n",
      "\t[41] Darbie:     Age: 165,  Vit: 58.9, Cargo: 141.5\n",
      "\t[42] Tomeshia:   Age: 609,  Vit: 12.6, Cargo: 90.3\n",
      "\t[43] Nicolette:  Age: 103,  Vit: 56.7, Cargo: 53.8\n",
      "\t[44] Tremell:    Age: 290,  Vit: 71.3, Cargo: 71.9\n",
      "\t[45] Liborio:    Age: 843,  Vit: 77.8, Cargo: 76.7\n",
      "\t[46] Mirtha:     Age: 774,  Vit: 12.7, Cargo: 41.9\n",
      "\t[47] Rodderick:  Age: 507,  Vit: 23.7, Cargo: 157.2\n",
      "\t[48] Huston:     Age: 77,  Vit: 15.3, Cargo: 60.3\n",
      "\t[49] Rashad:     Age: 604,  Vit: 80.7, Cargo: 76.1\n",
      "\n"
     ]
    }
   ],
   "source": [
    "island.fight()\n",
    "island.fight()\n",
    "island.print_info()"
   ]
  },
  {
   "cell_type": "code",
   "execution_count": 16,
   "metadata": {},
   "outputs": [
    {
     "name": "stdout",
     "output_type": "stream",
     "text": [
      "Morgen(1) 死了\n",
      "Nidya(21) 死了\n",
      "Jermaine(24) 死了\n",
      "Reem(33) 死了\n",
      "Arik(36) 死了\n",
      "========================== Vitality ==========================\n",
      "\t[0] Marvell:    Age: 170,  Vit: 79.7, Cargo: 0.0\n",
      "\t[2] Jerin:      Age: 106,  Vit: 100.0, Cargo: 16.7\n",
      "\t[3] Boy:        Age: 62,  Vit: 100.0, Cargo: 42.6\n",
      "\t[4] Arnisha:    Age: 635,  Vit: 100.0, Cargo: 53.7\n",
      "\t[5] Karoline:   Age: 407,  Vit: 61.4, Cargo: 0.0\n",
      "\t[6] Aime:       Age: 476,  Vit: 80.1, Cargo: 0.0\n",
      "\t[7] Lamesha:    Age: 595,  Vit: 100.0, Cargo: 24.8\n",
      "\t[8] Maya:       Age: 488,  Vit: 100.0, Cargo: 5.5\n",
      "\t[9] Latoiya:    Age: 806,  Vit: 100.0, Cargo: 1.7\n",
      "\t[10] Lashayla:   Age: 936,  Vit: 100.0, Cargo: 57.8\n",
      "\t[11] Gabriella:  Age: 722,  Vit: 100.0, Cargo: 45.8\n",
      "\t[12] Kristinejoy: Age: 70,  Vit: 100.0, Cargo: 101.0\n",
      "\t[13] Waymon:     Age: 526,  Vit: 100.0, Cargo: 28.5\n",
      "\t[14] Elisabeth:  Age: 59,  Vit: 100.0, Cargo: 29.0\n",
      "\t[15] Corwyn:     Age: 825,  Vit: 100.0, Cargo: 60.3\n",
      "\t[16] Scotty:     Age: 361,  Vit: 100.0, Cargo: 44.2\n",
      "\t[17] Karriem:    Age: 503,  Vit: 100.0, Cargo: 39.2\n",
      "\t[18] Sareena:    Age: 651,  Vit: 100.0, Cargo: 45.0\n",
      "\t[19] Arleen:     Age: 383,  Vit: 100.0, Cargo: 113.3\n",
      "\t[20] Tristin:    Age: 258,  Vit: 100.0, Cargo: 70.6\n",
      "\t[22] Jemar:      Age: 599,  Vit: 100.0, Cargo: 81.4\n",
      "\t[23] Aziz:       Age: 230,  Vit: 100.0, Cargo: 3.2\n",
      "\t[25] Casia:      Age: 439,  Vit: 86.1, Cargo: 0.0\n",
      "\t[26] Anastassia: Age: 449,  Vit: 100.0, Cargo: 98.6\n",
      "\t[27] Alicen:     Age: 800,  Vit: 100.0, Cargo: 14.2\n",
      "\t[29] Deontrae:   Age: 501,  Vit: 100.0, Cargo: 77.5\n",
      "\t[30] Willie:     Age: 680,  Vit: 100.0, Cargo: 7.3\n",
      "\t[31] Renada:     Age: 514,  Vit: 100.0, Cargo: 13.9\n",
      "\t[32] Aireal:     Age: 239,  Vit: 100.0, Cargo: 36.1\n",
      "\t[34] Taralyn:    Age: 423,  Vit: 100.0, Cargo: 70.8\n",
      "\t[35] Taiwan:     Age: 408,  Vit: 75.3, Cargo: 0.0\n",
      "\t[37] Chenoa:     Age: 774,  Vit: 100.0, Cargo: 23.0\n",
      "\t[38] Janelle:    Age: 127,  Vit: 60.9, Cargo: 0.0\n",
      "\t[39] Ellena:     Age: 587,  Vit: 100.0, Cargo: 82.7\n",
      "\t[40] Valarie:    Age: 349,  Vit: 100.0, Cargo: 14.4\n",
      "\t[41] Darbie:     Age: 165,  Vit: 100.0, Cargo: 90.4\n",
      "\t[42] Tomeshia:   Age: 609,  Vit: 92.9, Cargo: 0.0\n",
      "\t[43] Nicolette:  Age: 103,  Vit: 100.0, Cargo: 0.5\n",
      "\t[44] Tremell:    Age: 290,  Vit: 100.0, Cargo: 33.2\n",
      "\t[45] Liborio:    Age: 843,  Vit: 100.0, Cargo: 41.8\n",
      "\t[46] Mirtha:     Age: 774,  Vit: 44.0, Cargo: 0.0\n",
      "\t[47] Rodderick:  Age: 507,  Vit: 100.0, Cargo: 70.8\n",
      "\t[48] Huston:     Age: 77,  Vit: 65.6, Cargo: 0.0\n",
      "\t[49] Rashad:     Age: 604,  Vit: 100.0, Cargo: 46.8\n",
      "\n"
     ]
    }
   ],
   "source": [
    "island.consume()\n",
    "island.print_info()"
   ]
  },
  {
   "cell_type": "code",
   "execution_count": 17,
   "metadata": {},
   "outputs": [
    {
     "data": {
      "text/plain": [
       "66.30383339425701"
      ]
     },
     "execution_count": 17,
     "metadata": {},
     "output_type": "execute_result"
    }
   ],
   "source": [
    "island.relationship_dict[\"benefit\"][26, 18]"
   ]
  },
  {
   "cell_type": "code",
   "execution_count": 18,
   "metadata": {},
   "outputs": [
    {
     "data": {
      "text/plain": [
       "26"
      ]
     },
     "execution_count": 18,
     "metadata": {},
     "output_type": "execute_result"
    }
   ],
   "source": [
    "island.all_members[30].surviver_id\n",
    "# island.all_members[19].surviver_id"
   ]
  },
  {
   "cell_type": "code",
   "execution_count": 19,
   "metadata": {},
   "outputs": [
    {
     "name": "stdout",
     "output_type": "stream",
     "text": [
      "Arleen(19) Willie(30)\n",
      "========================== Vitality ==========================\n",
      "\t[0] Marvell:    Age: 170,  Vit: 79.7, Cargo: 0.0\n",
      "\t[2] Jerin:      Age: 106,  Vit: 100.0, Cargo: 16.7\n",
      "\t[3] Boy:        Age: 62,  Vit: 100.0, Cargo: 42.6\n",
      "\t[4] Arnisha:    Age: 635,  Vit: 100.0, Cargo: 53.7\n",
      "\t[5] Karoline:   Age: 407,  Vit: 61.4, Cargo: 0.0\n",
      "\t[6] Aime:       Age: 476,  Vit: 80.1, Cargo: 0.0\n",
      "\t[7] Lamesha:    Age: 595,  Vit: 100.0, Cargo: 24.8\n",
      "\t[8] Maya:       Age: 488,  Vit: 100.0, Cargo: 5.5\n",
      "\t[9] Latoiya:    Age: 806,  Vit: 100.0, Cargo: 1.7\n",
      "\t[10] Lashayla:   Age: 936,  Vit: 100.0, Cargo: 57.8\n",
      "\t[11] Gabriella:  Age: 722,  Vit: 100.0, Cargo: 45.8\n",
      "\t[12] Kristinejoy: Age: 70,  Vit: 100.0, Cargo: 101.0\n",
      "\t[13] Waymon:     Age: 526,  Vit: 100.0, Cargo: 28.5\n",
      "\t[14] Elisabeth:  Age: 59,  Vit: 100.0, Cargo: 29.0\n",
      "\t[15] Corwyn:     Age: 825,  Vit: 100.0, Cargo: 60.3\n",
      "\t[16] Scotty:     Age: 361,  Vit: 100.0, Cargo: 44.2\n",
      "\t[17] Karriem:    Age: 503,  Vit: 100.0, Cargo: 39.2\n",
      "\t[18] Sareena:    Age: 651,  Vit: 100.0, Cargo: 45.0\n",
      "\t[19] Arleen:     Age: 383,  Vit: 100.0, Cargo: 96.8\n",
      "\t[20] Tristin:    Age: 258,  Vit: 100.0, Cargo: 70.6\n",
      "\t[22] Jemar:      Age: 599,  Vit: 100.0, Cargo: 81.4\n",
      "\t[23] Aziz:       Age: 230,  Vit: 100.0, Cargo: 3.2\n",
      "\t[25] Casia:      Age: 439,  Vit: 86.1, Cargo: 0.0\n",
      "\t[26] Anastassia: Age: 449,  Vit: 100.0, Cargo: 98.6\n",
      "\t[27] Alicen:     Age: 800,  Vit: 100.0, Cargo: 14.2\n",
      "\t[29] Deontrae:   Age: 501,  Vit: 100.0, Cargo: 77.5\n",
      "\t[30] Willie:     Age: 680,  Vit: 100.0, Cargo: 23.8\n",
      "\t[31] Renada:     Age: 514,  Vit: 100.0, Cargo: 13.9\n",
      "\t[32] Aireal:     Age: 239,  Vit: 100.0, Cargo: 36.1\n",
      "\t[34] Taralyn:    Age: 423,  Vit: 100.0, Cargo: 70.8\n",
      "\t[35] Taiwan:     Age: 408,  Vit: 75.3, Cargo: 0.0\n",
      "\t[37] Chenoa:     Age: 774,  Vit: 100.0, Cargo: 23.0\n",
      "\t[38] Janelle:    Age: 127,  Vit: 60.9, Cargo: 0.0\n",
      "\t[39] Ellena:     Age: 587,  Vit: 100.0, Cargo: 82.7\n",
      "\t[40] Valarie:    Age: 349,  Vit: 100.0, Cargo: 14.4\n",
      "\t[41] Darbie:     Age: 165,  Vit: 100.0, Cargo: 90.4\n",
      "\t[42] Tomeshia:   Age: 609,  Vit: 92.9, Cargo: 0.0\n",
      "\t[43] Nicolette:  Age: 103,  Vit: 100.0, Cargo: 0.5\n",
      "\t[44] Tremell:    Age: 290,  Vit: 100.0, Cargo: 33.2\n",
      "\t[45] Liborio:    Age: 843,  Vit: 100.0, Cargo: 41.8\n",
      "\t[46] Mirtha:     Age: 774,  Vit: 44.0, Cargo: 0.0\n",
      "\t[47] Rodderick:  Age: 507,  Vit: 100.0, Cargo: 70.8\n",
      "\t[48] Huston:     Age: 77,  Vit: 65.6, Cargo: 0.0\n",
      "\t[49] Rashad:     Age: 604,  Vit: 100.0, Cargo: 46.8\n",
      "\n"
     ]
    }
   ],
   "source": [
    "island.trade()\n",
    "island.print_info()"
   ]
  },
  {
   "cell_type": "code",
   "execution_count": 20,
   "metadata": {},
   "outputs": [
    {
     "ename": "IndexError",
     "evalue": "index 48 is out of bounds for axis 1 with size 44",
     "output_type": "error",
     "traceback": [
      "\u001b[0;31m---------------------------------------------------------------------------\u001b[0m",
      "\u001b[0;31mIndexError\u001b[0m                                Traceback (most recent call last)",
      "\u001b[0;32m<ipython-input-20-2cb68ceca9e0>\u001b[0m in \u001b[0;36m<module>\u001b[0;34m\u001b[0m\n\u001b[0;32m----> 1\u001b[0;31m \u001b[0misland\u001b[0m\u001b[0;34m.\u001b[0m\u001b[0mrelationship_dict\u001b[0m\u001b[0;34m[\u001b[0m\u001b[0;34m\"benefit\"\u001b[0m\u001b[0;34m]\u001b[0m\u001b[0;34m[\u001b[0m\u001b[0;36m1\u001b[0m\u001b[0;34m,\u001b[0m \u001b[0;36m48\u001b[0m\u001b[0;34m]\u001b[0m\u001b[0;34m\u001b[0m\u001b[0;34m\u001b[0m\u001b[0m\n\u001b[0m",
      "\u001b[0;31mIndexError\u001b[0m: index 48 is out of bounds for axis 1 with size 44"
     ]
    }
   ],
   "source": [
    "island.relationship_dict[\"benefit\"][1, 48]"
   ]
  },
  {
   "cell_type": "code",
   "execution_count": null,
   "metadata": {},
   "outputs": [
    {
     "name": "stdout",
     "output_type": "stream",
     "text": [
      "Tomeshia(42) Renada(31)\n",
      "========================== Vitality ==========================\n",
      "\tMarvell:    Age: 170,  Vit: 66.5, Cargo: 0.0\n",
      "\tMorgen:     Age: 804,  Vit: 73.6, Cargo: 0.0\n",
      "\tJerin:      Age: 106,  Vit: 79.7, Cargo: 0.0\n",
      "\tBoy:        Age: 62,  Vit: 93.5, Cargo: 0.0\n",
      "\tArnisha:    Age: 635,  Vit: 100.0, Cargo: 9.7\n",
      "\tKaroline:   Age: 407,  Vit: 22.5, Cargo: 0.0\n",
      "\tAime:       Age: 476,  Vit: 48.1, Cargo: 4.6\n",
      "\tMaya:       Age: 488,  Vit: 47.3, Cargo: 0.0\n",
      "\tLatoiya:    Age: 806,  Vit: 84.7, Cargo: 0.0\n",
      "\tLashayla:   Age: 936,  Vit: 100.0, Cargo: 19.5\n",
      "\tGabriella:  Age: 722,  Vit: 97.7, Cargo: 0.0\n",
      "\tKristinejoy: Age: 70,  Vit: 100.0, Cargo: 54.4\n",
      "\tWaymon:     Age: 526,  Vit: 100.0, Cargo: 10.5\n",
      "\tElisabeth:  Age: 59,  Vit: 60.4, Cargo: 0.0\n",
      "\tCorwyn:     Age: 825,  Vit: 100.0, Cargo: 12.3\n",
      "\tScotty:     Age: 361,  Vit: 92.4, Cargo: 0.0\n",
      "\tKarriem:    Age: 503,  Vit: 89.0, Cargo: 2.7\n",
      "\tSareena:    Age: 651,  Vit: 89.7, Cargo: 3.0\n",
      "\tArleen:     Age: 383,  Vit: 100.0, Cargo: 56.6\n",
      "\tTristin:    Age: 258,  Vit: 100.0, Cargo: 3.7\n",
      "\tJemar:      Age: 599,  Vit: 100.0, Cargo: 32.3\n",
      "\tAziz:       Age: 230,  Vit: 63.4, Cargo: 0.0\n",
      "\tCasia:      Age: 439,  Vit: 24.8, Cargo: 0.0\n",
      "\tAnastassia: Age: 449,  Vit: 100.0, Cargo: 56.1\n",
      "\tAlicen:     Age: 800,  Vit: 77.1, Cargo: 0.0\n",
      "\tDeontrae:   Age: 501,  Vit: 100.0, Cargo: 31.9\n",
      "\tWillie:     Age: 680,  Vit: 63.3, Cargo: 2.9\n",
      "\tRenada:     Age: 514,  Vit: 54.1, Cargo: 0.0\n",
      "\tAireal:     Age: 239,  Vit: 100.0, Cargo: 9.4\n",
      "\tTaralyn:    Age: 423,  Vit: 100.0, Cargo: 19.7\n",
      "\tChenoa:     Age: 774,  Vit: 89.2, Cargo: 0.0\n",
      "\tJanelle:    Age: 127,  Vit: 41.3, Cargo: 0.0\n",
      "\tEllena:     Age: 587,  Vit: 100.0, Cargo: 32.1\n",
      "\tValarie:    Age: 349,  Vit: 57.1, Cargo: 0.0\n",
      "\tDarbie:     Age: 165,  Vit: 100.0, Cargo: 12.2\n",
      "\tTomeshia:   Age: 609,  Vit: 27.8, Cargo: 0.0\n",
      "\tNicolette:  Age: 103,  Vit: 81.6, Cargo: 0.0\n",
      "\tTremell:    Age: 290,  Vit: 70.1, Cargo: 0.0\n",
      "\tLiborio:    Age: 843,  Vit: 85.0, Cargo: 0.0\n",
      "\tRodderick:  Age: 507,  Vit: 100.0, Cargo: 16.6\n",
      "\tHuston:     Age: 77,  Vit: 35.2, Cargo: 0.0\n",
      "\tRashad:     Age: 604,  Vit: 100.0, Cargo: 17.7\n",
      "\tSilas:      Age: 0,  Vit: 0.0, Cargo: 0.0\n",
      "\n"
     ]
    }
   ],
   "source": [
    "island.reproduce(group_size=20)\n",
    "island.print_info()"
   ]
  },
  {
   "cell_type": "code",
   "execution_count": null,
   "metadata": {},
   "outputs": [
    {
     "name": "stdout",
     "output_type": "stream",
     "text": [
      "Donetta(0) Christyn(1) 1.9814009745630035\n",
      "Donetta(0) Pearson(2) 2.0915540244016757\n",
      "Donetta(0) Jenea(3) 2.846092493963173\n",
      "Donetta(0) Chella(4) 2.1365431036118894\n",
      "Christyn(1) Donetta(0) 0.7194964569588894\n",
      "Christyn(1) Pearson(2) 1.1504669353591621\n",
      "Christyn(1) Jenea(3) 1.393790093511261\n",
      "Christyn(1) Chella(4) 0.5412719136836731\n",
      "Pearson(2) Donetta(0) -0.6311395622625386\n",
      "Pearson(2) Christyn(1) 0.41698158506555283\n",
      "Pearson(2) Jenea(3) -1.0594480094763146\n",
      "Pearson(2) Chella(4) 0.5477678479215317\n",
      "Jenea(3) Donetta(0) -1.9929301805289028\n",
      "Jenea(3) Christyn(1) -2.013082768364038\n",
      "Jenea(3) Pearson(2) -1.5650373818244554\n",
      "Jenea(3) Chella(4) -1.869348387635385\n",
      "Chella(4) Donetta(0) 1.3648085956262477\n",
      "Chella(4) Christyn(1) 1.3332823751821103\n",
      "Chella(4) Pearson(2) 1.0871949020329128\n",
      "Chella(4) Jenea(3) 1.7703707448054953\n"
     ]
    }
   ],
   "source": [
    "for mem in groups[0]:\n",
    "    for obj in groups[0]:\n",
    "        if mem is not obj:\n",
    "            print(mem, obj, mem.decision(\"fight\", obj, island))\n"
   ]
  },
  {
   "cell_type": "code",
   "execution_count": null,
   "metadata": {},
   "outputs": [],
   "source": [
    "member1 = island.all_members[0]\n",
    "member2 = island.all_members[1]"
   ]
  },
  {
   "cell_type": "code",
   "execution_count": null,
   "metadata": {},
   "outputs": [
    {
     "data": {
      "text/plain": [
       "array([ 0.60121465, -0.89372271,  0.20997226,  0.59343662,  0.15537462,\n",
       "        0.0519948 , -0.81174596, -0.97773462,  0.85431746, -0.07127653,\n",
       "        0.1856762 ,  0.19105307,  0.61329238, -0.50925015])"
      ]
     },
     "execution_count": 4,
     "metadata": {},
     "output_type": "execute_result"
    }
   ],
   "source": [
    "member1.fight_parameter"
   ]
  },
  {
   "cell_type": "code",
   "execution_count": null,
   "metadata": {},
   "outputs": [
    {
     "data": {
      "text/plain": [
       "array([ 0.        , -0.89372271,  0.20997226,  0.59343662,  0.15537462,\n",
       "        0.0519948 , -0.81174596, -0.97773462,  0.85431746, -0.07127653,\n",
       "        0.1856762 ,  0.19105307,  0.61329238, -0.50925015])"
      ]
     },
     "execution_count": 5,
     "metadata": {},
     "output_type": "execute_result"
    }
   ],
   "source": [
    "member1.fight_parameter[0] = 0\n",
    "member1.parameter_dict[\"fight\"]"
   ]
  },
  {
   "cell_type": "code",
   "execution_count": null,
   "metadata": {},
   "outputs": [
    {
     "data": {
      "text/plain": [
       "308.04875809195704"
      ]
     },
     "execution_count": 5,
     "metadata": {},
     "output_type": "execute_result"
    }
   ],
   "source": [
    "inputs = list(member1._generate_decision_inputs(member2, island).values())\n",
    "member1._decision(member1.fight_parameter, inputs)"
   ]
  },
  {
   "cell_type": "code",
   "execution_count": null,
   "metadata": {},
   "outputs": [],
   "source": []
  },
  {
   "cell_type": "code",
   "execution_count": null,
   "metadata": {},
   "outputs": [
    {
     "data": {
      "text/plain": [
       "range(1, 10)"
      ]
     },
     "execution_count": 8,
     "metadata": {},
     "output_type": "execute_result"
    }
   ],
   "source": [
    "range(1, 10)"
   ]
  },
  {
   "cell_type": "code",
   "execution_count": null,
   "metadata": {},
   "outputs": [],
   "source": [
    "Member.born(island.all_members[0], island.all_members[1])"
   ]
  },
  {
   "cell_type": "code",
   "execution_count": null,
   "metadata": {},
   "outputs": [
    {
     "data": {
      "text/plain": [
       "array([1, 1, 2, 2, 3, 3, 4, 4])"
      ]
     },
     "execution_count": 9,
     "metadata": {},
     "output_type": "execute_result"
    }
   ],
   "source": [
    "a = [1, 2, 3, 4]\n",
    "np.repeat(a, 2)"
   ]
  },
  {
   "cell_type": "code",
   "execution_count": null,
   "metadata": {},
   "outputs": [
    {
     "ename": "NameError",
     "evalue": "name 'np' is not defined",
     "output_type": "error",
     "traceback": [
      "\u001b[0;31m---------------------------------------------------------------------------\u001b[0m",
      "\u001b[0;31mNameError\u001b[0m                                 Traceback (most recent call last)",
      "\u001b[1;32m/Users/Harry/Documents/Programs/Leviathan/test.ipynb Cell 9'\u001b[0m in \u001b[0;36m<cell line: 2>\u001b[0;34m()\u001b[0m\n\u001b[1;32m      <a href='vscode-notebook-cell:/Users/Harry/Documents/Programs/Leviathan/test.ipynb#ch0000007?line=0'>1</a>\u001b[0m a \u001b[39m=\u001b[39m [\u001b[39m\"\u001b[39m\u001b[39ma\u001b[39m\u001b[39m\"\u001b[39m, \u001b[39m\"\u001b[39m\u001b[39mb\u001b[39m\u001b[39m\"\u001b[39m]\n\u001b[0;32m----> <a href='vscode-notebook-cell:/Users/Harry/Documents/Programs/Leviathan/test.ipynb#ch0000007?line=1'>2</a>\u001b[0m b \u001b[39m=\u001b[39m [np\u001b[39m.\u001b[39mrandom\u001b[39m.\u001b[39mrand(\u001b[39m2\u001b[39m), np\u001b[39m.\u001b[39mrandom\u001b[39m.\u001b[39mrand(\u001b[39m2\u001b[39m)]\n\u001b[1;32m      <a href='vscode-notebook-cell:/Users/Harry/Documents/Programs/Leviathan/test.ipynb#ch0000007?line=2'>3</a>\u001b[0m d \u001b[39m=\u001b[39m \u001b[39mdict\u001b[39m(\u001b[39mzip\u001b[39m(a, b))\n\u001b[1;32m      <a href='vscode-notebook-cell:/Users/Harry/Documents/Programs/Leviathan/test.ipynb#ch0000007?line=3'>4</a>\u001b[0m d\n",
      "\u001b[0;31mNameError\u001b[0m: name 'np' is not defined"
     ]
    }
   ],
   "source": [
    "a = [\"a\", \"b\"]\n",
    "b = [np.random.rand(2), np.random.rand(2)]\n",
    "d = dict(zip(a, b))\n",
    "d"
   ]
  },
  {
   "cell_type": "code",
   "execution_count": null,
   "metadata": {},
   "outputs": [
    {
     "data": {
      "text/plain": [
       "{'a': 'c', 'b': 'd'}"
      ]
     },
     "execution_count": 4,
     "metadata": {},
     "output_type": "execute_result"
    }
   ],
   "source": [
    "n = {key: d[key] for key in d.keys()}\n",
    "n"
   ]
  },
  {
   "cell_type": "code",
   "execution_count": null,
   "metadata": {},
   "outputs": [],
   "source": [
    "class foo:\n",
    "    def __init__(self, a):\n",
    "        self.a = a\n",
    "\n",
    "    @property\n",
    "    def return_a(self):\n",
    "        return self.a * 2"
   ]
  },
  {
   "cell_type": "code",
   "execution_count": null,
   "metadata": {},
   "outputs": [
    {
     "data": {
      "text/plain": [
       "2"
      ]
     },
     "execution_count": 17,
     "metadata": {},
     "output_type": "execute_result"
    }
   ],
   "source": [
    "x = foo(1)\n",
    "x.return_a"
   ]
  },
  {
   "cell_type": "code",
   "execution_count": null,
   "metadata": {},
   "outputs": [
    {
     "name": "stdout",
     "output_type": "stream",
     "text": [
      "[Marvell(0), Morgen(1), Jerin(2), Boy(3), Arnisha(4), Karoline(5), Aime(6), Lamesha(7), Maya(8), Latoiya(9), Lashayla(10)]\n",
      "[Gabriella(11), Kristinejoy(12), Waymon(13), Elisabeth(14), Corwyn(15), Scotty(16), Karriem(17), Sareena(18), Arleen(19), Tristin(20), Nidya(21)]\n",
      "[Jemar(22), Aziz(23), Jermaine(24), Casia(25), Anastassia(26), Alicen(27), Korinne(28), Deontrae(29), Willie(30), Renada(31)]\n",
      "[Aireal(32), Reem(33), Taralyn(34), Taiwan(35), Arik(36), Chenoa(37), Janelle(38), Ellena(39), Valarie(40), Darbie(41)]\n"
     ]
    }
   ],
   "source": [
    "island = Island(42, random_seed=2022)\n",
    "island.fight()"
   ]
  },
  {
   "cell_type": "code",
   "execution_count": null,
   "metadata": {},
   "outputs": [],
   "source": [
    "# seed = time()\n",
    "rng = np.random.default_rng(2022)"
   ]
  },
  {
   "cell_type": "code",
   "execution_count": null,
   "metadata": {},
   "outputs": [
    {
     "data": {
      "text/plain": [
       "array([0.09299006])"
      ]
     },
     "execution_count": 6,
     "metadata": {},
     "output_type": "execute_result"
    }
   ],
   "source": [
    "rng.random(1)"
   ]
  },
  {
   "cell_type": "code",
   "execution_count": null,
   "metadata": {},
   "outputs": [],
   "source": [
    "def f(x: np.ndarray):\n",
    "    print(x)"
   ]
  },
  {
   "cell_type": "code",
   "execution_count": null,
   "metadata": {},
   "outputs": [],
   "source": [
    "(np.array([None, 1]) == None).any()"
   ]
  },
  {
   "cell_type": "code",
   "execution_count": null,
   "metadata": {},
   "outputs": [],
   "source": [
    "b = np.array([[0], [1]])\n",
    "c = np.array([[10], [100]])\n",
    "a = [b, c]\n",
    "a"
   ]
  },
  {
   "cell_type": "code",
   "execution_count": null,
   "metadata": {},
   "outputs": [],
   "source": [
    "for idx in range(len(a)):\n",
    "    a[idx].resize(1, refcheck=False)\n",
    "\n",
    "a"
   ]
  },
  {
   "cell_type": "code",
   "execution_count": null,
   "metadata": {},
   "outputs": [],
   "source": [
    "b"
   ]
  },
  {
   "cell_type": "code",
   "execution_count": null,
   "metadata": {},
   "outputs": [],
   "source": [
    "island = Island(4)\n",
    "print(island.victim_memory)\n",
    "np.fill_diagonal(island.victim_memory, np.nan)\n",
    "print(island.victim_memory)\n"
   ]
  },
  {
   "cell_type": "code",
   "execution_count": null,
   "metadata": {},
   "outputs": [],
   "source": [
    "somebody_die = [island.current_members[3], island.current_members[2]]"
   ]
  },
  {
   "cell_type": "code",
   "execution_count": null,
   "metadata": {},
   "outputs": [],
   "source": [
    "somebody_born = [Member(\"aha\", 1, None), Member(\"aha\", 99, None)]"
   ]
  },
  {
   "cell_type": "code",
   "execution_count": null,
   "metadata": {},
   "outputs": [],
   "source": [
    "print(island.all_members)\n",
    "print(island.current_members)\n",
    "print(island.victim_memory)\n",
    "print(island.benefit_memory)"
   ]
  },
  {
   "cell_type": "code",
   "execution_count": null,
   "metadata": {},
   "outputs": [],
   "source": [
    "island.member_list_modify(somebody_born, somebody_die, np.zeros((2, 4)), np.zeros((4, 2)))\n",
    "print(island.all_members)\n",
    "print(island.current_members)\n",
    "print(island.current_member_num)\n",
    "print(island.victim_memory)\n",
    "print(island.benefit_memory)\n",
    "print(island.current_members[-1].surviver_id)\n",
    "print(island.all_members[-1].surviver_id)\n",
    "print(island.all_members[-1].id)"
   ]
  },
  {
   "cell_type": "code",
   "execution_count": null,
   "metadata": {},
   "outputs": [],
   "source": [
    "a = np.random.rand(5, 5)\n",
    "a"
   ]
  },
  {
   "cell_type": "code",
   "execution_count": null,
   "metadata": {},
   "outputs": [],
   "source": [
    "a = np.delete(a, (1, 2), axis=0)\n",
    "a = np.delete(a, (1, 2), axis=1)\n",
    "a"
   ]
  },
  {
   "cell_type": "code",
   "execution_count": null,
   "metadata": {},
   "outputs": [],
   "source": [
    "a = np.delete(a, (1), axis=1)\n",
    "a"
   ]
  },
  {
   "cell_type": "code",
   "execution_count": null,
   "metadata": {},
   "outputs": [],
   "source": [
    "b = a[0]\n",
    "b"
   ]
  },
  {
   "cell_type": "code",
   "execution_count": null,
   "metadata": {},
   "outputs": [],
   "source": [
    "np.sort(b)[::-1]"
   ]
  },
  {
   "cell_type": "code",
   "execution_count": null,
   "metadata": {},
   "outputs": [],
   "source": [
    "island = Island(10)\n",
    "print(island.all_members)\n"
   ]
  },
  {
   "cell_type": "code",
   "execution_count": null,
   "metadata": {},
   "outputs": [],
   "source": [
    "island.all_members\n",
    "print(island.current_members)"
   ]
  },
  {
   "cell_type": "code",
   "execution_count": null,
   "metadata": {},
   "outputs": [],
   "source": [
    "island.all_members[0].name = \"aaaaa\"\n",
    "print(island.all_members)\n",
    "print(island.current_members)"
   ]
  },
  {
   "cell_type": "code",
   "execution_count": null,
   "metadata": {},
   "outputs": [],
   "source": [
    "np.random.seed(1)\n",
    "x = np.random.random(10)\n",
    "print(x)\n",
    "print(np.random.normal(x[0], 1, 10))"
   ]
  },
  {
   "cell_type": "code",
   "execution_count": null,
   "metadata": {},
   "outputs": [],
   "source": [
    "a = [[[1, 2], [3, 4]], [[5, 6], [7, 8]]]\n",
    "a.append([[9, 0], [1, 2]])\n",
    "arr = np.array(a)\n",
    "arr.reshape(3, 4)"
   ]
  },
  {
   "cell_type": "code",
   "execution_count": null,
   "metadata": {},
   "outputs": [],
   "source": [
    "arr.reshape(3, 2, 2)"
   ]
  },
  {
   "cell_type": "code",
   "execution_count": null,
   "metadata": {},
   "outputs": [],
   "source": [
    "pd.DataFrame([[1,2,3],[4,5,6]], index=['a','b'], columns=[\"g\", 'h', 'j'])"
   ]
  },
  {
   "cell_type": "code",
   "execution_count": null,
   "metadata": {},
   "outputs": [],
   "source": [
    "a = [\"a\", \"b\", \"c\"]\n",
    "np.random.shuffle(a)\n",
    "a"
   ]
  },
  {
   "cell_type": "code",
   "execution_count": null,
   "metadata": {},
   "outputs": [],
   "source": [
    "a = np.array([0, 1, 2, 3])\n",
    "b = [True, False, True, False]\n",
    "a[b]"
   ]
  },
  {
   "cell_type": "code",
   "execution_count": null,
   "metadata": {},
   "outputs": [],
   "source": [
    "plt.plot([1 ,2 ,3], [1, 2, None])"
   ]
  },
  {
   "cell_type": "code",
   "execution_count": null,
   "metadata": {},
   "outputs": [],
   "source": [
    "print(plt.cm.RdYlGn)"
   ]
  },
  {
   "cell_type": "code",
   "execution_count": null,
   "metadata": {},
   "outputs": [],
   "source": [
    "list = np.array([1, 2, 3 ,4, 5])\n",
    "list[list < 3] = 0\n",
    "list"
   ]
  },
  {
   "cell_type": "code",
   "execution_count": null,
   "metadata": {},
   "outputs": [],
   "source": [
    "list = ['iarry', 'harry', 'hbrry']\n",
    "arg_sort_list = np.argsort(list)\n",
    "arg_sort_list"
   ]
  },
  {
   "cell_type": "code",
   "execution_count": null,
   "metadata": {},
   "outputs": [],
   "source": [
    "list = [list[i] for i in arg_sort_list]\n",
    "list"
   ]
  },
  {
   "cell_type": "code",
   "execution_count": null,
   "metadata": {},
   "outputs": [],
   "source": [
    "np.split((np.arange(10)), 2)"
   ]
  },
  {
   "cell_type": "code",
   "execution_count": null,
   "metadata": {},
   "outputs": [],
   "source": [
    "mat = np.random.rand(3, 3)\n",
    "mat = [[1, 2, 3], [2, 0, 4], [1, 2, 1]]\n",
    "mat"
   ]
  },
  {
   "cell_type": "code",
   "execution_count": null,
   "metadata": {},
   "outputs": [],
   "source": [
    "max_mat_element = np.argmax(np.sum(mat, 1))\n",
    "max_mat_element"
   ]
  },
  {
   "cell_type": "code",
   "execution_count": null,
   "metadata": {},
   "outputs": [],
   "source": [
    "class test_class:\n",
    "    def __init__(self):\n",
    "        self.att = 1\n",
    "\n",
    "def change(cl):\n",
    "    cl.att = 2\n",
    "\n",
    "a = test_class()\n",
    "change(a)\n",
    "a.att"
   ]
  },
  {
   "cell_type": "code",
   "execution_count": null,
   "metadata": {},
   "outputs": [],
   "source": [
    "str = \"\"\n",
    "str == \"\""
   ]
  },
  {
   "cell_type": "code",
   "execution_count": null,
   "metadata": {},
   "outputs": [],
   "source": [
    "np.random.choice([1, 2, 3], size=1, p = [1, 2, 3])"
   ]
  }
 ],
 "metadata": {
  "kernelspec": {
   "display_name": "Python 3.9.1 64-bit",
   "language": "python",
   "name": "python3"
  },
  "language_info": {
   "codemirror_mode": {
    "name": "ipython",
    "version": 3
   },
   "file_extension": ".py",
   "mimetype": "text/x-python",
   "name": "python",
   "nbconvert_exporter": "python",
   "pygments_lexer": "ipython3",
   "version": "3.9.1"
  },
  "orig_nbformat": 4,
  "vscode": {
   "interpreter": {
    "hash": "aee8b7b246df8f9039afb4144a1f6fd8d2ca17a180786b69acc140d282b71a49"
   }
  }
 },
 "nbformat": 4,
 "nbformat_minor": 2
}
