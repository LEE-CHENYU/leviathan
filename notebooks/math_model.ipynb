{
 "cells": [
  {
   "cell_type": "code",
   "execution_count": 1,
   "metadata": {},
   "outputs": [
    {
     "ename": "TypeError",
     "evalue": "fitness() missing 1 required positional argument: 'population'",
     "output_type": "error",
     "traceback": [
      "\u001b[0;31m---------------------------------------------------------------------------\u001b[0m",
      "\u001b[0;31mTypeError\u001b[0m                                 Traceback (most recent call last)",
      "Cell \u001b[0;32mIn[1], line 24\u001b[0m\n\u001b[1;32m     22\u001b[0m population \u001b[39m=\u001b[39m np\u001b[39m.\u001b[39marray([\u001b[39m0.9\u001b[39m, \u001b[39m0.1\u001b[39m]) \u001b[39m# Initial population\u001b[39;00m\n\u001b[1;32m     23\u001b[0m generations \u001b[39m=\u001b[39m \u001b[39m100\u001b[39m\n\u001b[0;32m---> 24\u001b[0m final_population \u001b[39m=\u001b[39m replicator_dynamics(population, generations)\n\u001b[1;32m     25\u001b[0m \u001b[39mprint\u001b[39m(final_population)\n\u001b[1;32m     26\u001b[0m plt\u001b[39m.\u001b[39mplot(final_population)\n",
      "Cell \u001b[0;32mIn[1], line 17\u001b[0m, in \u001b[0;36mreplicator_dynamics\u001b[0;34m(population, generations)\u001b[0m\n\u001b[1;32m     15\u001b[0m \u001b[39mdef\u001b[39;00m \u001b[39mreplicator_dynamics\u001b[39m(population, generations):\n\u001b[1;32m     16\u001b[0m     \u001b[39mfor\u001b[39;00m i \u001b[39min\u001b[39;00m \u001b[39mrange\u001b[39m(generations):\n\u001b[0;32m---> 17\u001b[0m         f \u001b[39m=\u001b[39m fitness(population)\n\u001b[1;32m     18\u001b[0m         population \u001b[39m=\u001b[39m update(population, f)\n\u001b[1;32m     19\u001b[0m     \u001b[39mreturn\u001b[39;00m population\n",
      "\u001b[0;31mTypeError\u001b[0m: fitness() missing 1 required positional argument: 'population'"
     ]
    }
   ],
   "source": [
    "import numpy as np\n",
    "import matplotlib.pyplot as plt\n",
    "\n",
    "def fitness(strategy, population):\n",
    "    A = np.array([[3, 1], [1, 2]]) # Payoff matrix\n",
    "    f = np.sum(population * np.dot(population, A), axis=1) # Fitness of each strategy\n",
    "    return f\n",
    "\n",
    "def update(population, fitness):\n",
    "    f_total = np.sum(fitness) # Total fitness\n",
    "    proportions = fitness / f_total # Proportion of each strategy\n",
    "    new_population = proportions * np.sum(population) # New population size\n",
    "    return new_population\n",
    "\n",
    "def replicator_dynamics(population, generations):\n",
    "    for i in range(generations):\n",
    "        f = fitness(population)\n",
    "        population = update(population, f)\n",
    "    return population\n",
    "\n",
    "if __name__ == '__main__':\n",
    "    population = np.array([0.9, 0.1]) # Initial population\n",
    "    generations = 100\n",
    "    final_population = replicator_dynamics(population, generations)\n",
    "    print(final_population)\n",
    "    plt.plot(final_population)\n",
    "    plt.xlabel('Generation')\n",
    "    plt.ylabel('Population Proportion')\n",
    "    plt.show()\n"
   ]
  },
  {
   "cell_type": "code",
   "execution_count": null,
   "metadata": {},
   "outputs": [],
   "source": []
  },
  {
   "cell_type": "code",
   "execution_count": 25,
   "metadata": {},
   "outputs": [
    {
     "name": "stdout",
     "output_type": "stream",
     "text": [
      "Final population: [0.32699936 0.67300064]\n"
     ]
    }
   ],
   "source": [
    "import numpy as np\n",
    "import scipy\n",
    "\n",
    "def fitness(strategy, population):\n",
    "    # Calculate the average fitness of each strategy in the population\n",
    "    avg_fitness = np.mean(strategy, axis=0)\n",
    "    # Calculate the relative fitness of each strategy\n",
    "    rel_fitness = strategy - avg_fitness\n",
    "    # Update the population based on the relative fitness of each strategy\n",
    "    population = population @ np.exp(rel_fitness)\n",
    "    # Normalize the population so it sums to 1\n",
    "    population = population / np.sum(population)\n",
    "    return population\n",
    "\n",
    "def replicator_dynamics(strategy, population, steps):\n",
    "    # Repeat the fitness calculation for a specified number of steps\n",
    "    for i in range(steps):\n",
    "        population = fitness(strategy, population)\n",
    "    return population\n",
    "\n",
    "# Define the strategy matrix\n",
    "strategy = np.array([[4, 0], [3, 2]])\n",
    "\n",
    "# Define the initial population\n",
    "population = np.array([0.5, 0.5])\n",
    "\n",
    "# Run the replicator dynamics model for 100 steps\n",
    "final_population = replicator_dynamics(strategy, population, 1000)\n",
    "\n",
    "print(\"Final population:\", final_population)"
   ]
  },
  {
   "cell_type": "code",
   "execution_count": null,
   "metadata": {},
   "outputs": [
    {
     "data": {
      "text/plain": [
       "(array([1.46997502+0.j, 2.89702808+0.j]),\n",
       " array([[-0.95921344, -0.43702651],\n",
       "        [ 0.28268283, -0.89944863]]))"
      ]
     },
     "metadata": {},
     "output_type": "display_data"
    }
   ],
   "source": [
    "# Calculate the average fitness of each strategy in the population\n",
    "avg_fitness = np.mean(strategy, axis=0)\n",
    "# Calculate the relative fitness of each strategy\n",
    "rel_fitness = strategy - avg_fitness\n",
    "\n",
    "scipy.linalg.eig(np.exp(rel_fitness).transpose())"
   ]
  },
  {
   "cell_type": "code",
   "execution_count": 9,
   "metadata": {},
   "outputs": [
    {
     "ename": "TypeError",
     "evalue": "can't multiply sequence by non-int of type 'numpy.float64'",
     "output_type": "error",
     "traceback": [
      "\u001b[0;31m---------------------------------------------------------------------------\u001b[0m",
      "\u001b[0;31mTypeError\u001b[0m                                 Traceback (most recent call last)",
      "Cell \u001b[0;32mIn [9], line 19\u001b[0m\n\u001b[1;32m     16\u001b[0m params \u001b[39m=\u001b[39m [γ]\n\u001b[1;32m     18\u001b[0m \u001b[39m# solve the ODE\u001b[39;00m\n\u001b[0;32m---> 19\u001b[0m sol \u001b[39m=\u001b[39m spi\u001b[39m.\u001b[39;49modeint(replicator_dynamics, y0, t, args\u001b[39m=\u001b[39;49m(params, ))\n",
      "File \u001b[0;32m~/Library/Python/3.9/lib/python/site-packages/scipy/integrate/_odepack_py.py:241\u001b[0m, in \u001b[0;36modeint\u001b[0;34m(func, y0, t, args, Dfun, col_deriv, full_output, ml, mu, rtol, atol, tcrit, h0, hmax, hmin, ixpr, mxstep, mxhnil, mxordn, mxords, printmessg, tfirst)\u001b[0m\n\u001b[1;32m    239\u001b[0m t \u001b[39m=\u001b[39m copy(t)\n\u001b[1;32m    240\u001b[0m y0 \u001b[39m=\u001b[39m copy(y0)\n\u001b[0;32m--> 241\u001b[0m output \u001b[39m=\u001b[39m _odepack\u001b[39m.\u001b[39;49modeint(func, y0, t, args, Dfun, col_deriv, ml, mu,\n\u001b[1;32m    242\u001b[0m                          full_output, rtol, atol, tcrit, h0, hmax, hmin,\n\u001b[1;32m    243\u001b[0m                          ixpr, mxstep, mxhnil, mxordn, mxords,\n\u001b[1;32m    244\u001b[0m                          \u001b[39mint\u001b[39;49m(\u001b[39mbool\u001b[39;49m(tfirst)))\n\u001b[1;32m    245\u001b[0m \u001b[39mif\u001b[39;00m output[\u001b[39m-\u001b[39m\u001b[39m1\u001b[39m] \u001b[39m<\u001b[39m \u001b[39m0\u001b[39m:\n\u001b[1;32m    246\u001b[0m     warning_msg \u001b[39m=\u001b[39m _msgs[output[\u001b[39m-\u001b[39m\u001b[39m1\u001b[39m]] \u001b[39m+\u001b[39m \u001b[39m\"\u001b[39m\u001b[39m Run with full_output = 1 to get quantitative information.\u001b[39m\u001b[39m\"\u001b[39m\n",
      "Cell \u001b[0;32mIn [9], line 10\u001b[0m, in \u001b[0;36mreplicator_dynamics\u001b[0;34m(y, t, params)\u001b[0m\n\u001b[1;32m      8\u001b[0m \u001b[39mfor\u001b[39;00m i \u001b[39min\u001b[39;00m \u001b[39mrange\u001b[39m(N):\n\u001b[1;32m      9\u001b[0m     \u001b[39mfor\u001b[39;00m j \u001b[39min\u001b[39;00m \u001b[39mrange\u001b[39m(N):\n\u001b[0;32m---> 10\u001b[0m         ff[i] \u001b[39m+\u001b[39m\u001b[39m=\u001b[39m y[j] \u001b[39m*\u001b[39m (y[i] \u001b[39m*\u001b[39m (\u001b[39m1\u001b[39m \u001b[39m-\u001b[39m y[i]) \u001b[39m+\u001b[39m γ \u001b[39m*\u001b[39;49m y[i] \u001b[39m*\u001b[39m (y[j]\u001b[39m-\u001b[39my[i]))\n\u001b[1;32m     11\u001b[0m \u001b[39mreturn\u001b[39;00m ff\n",
      "\u001b[0;31mTypeError\u001b[0m: can't multiply sequence by non-int of type 'numpy.float64'"
     ]
    }
   ],
   "source": [
    "import numpy as np\n",
    "import scipy.integrate as spi\n",
    "\n",
    "def replicator_dynamics(y, t, params):\n",
    "    N = len(y)\n",
    "    γ = params\n",
    "    ff = np.zeros(N)\n",
    "    for i in range(N):\n",
    "        for j in range(N):\n",
    "            ff[i] += y[j] * (y[i] * (1 - y[i]) + γ * y[i] * (y[j]-y[i]))\n",
    "    return ff\n",
    "\n",
    "y0 = [0.2, 0.3, 0.5] # initial populations of strategies\n",
    "t = [0, 5, 10, 20] # time points to evaluate\n",
    "γ = 0.1 # parameter for the replicator dynamics equations\n",
    "params = [γ]\n",
    "\n",
    "# solve the ODE\n",
    "sol = spi.odeint(replicator_dynamics, y0, t, args=(params, ))"
   ]
  },
  {
   "cell_type": "code",
   "execution_count": null,
   "metadata": {},
   "outputs": [
    {
     "data": {
      "text/plain": [
       "(array([1.46997502+0.j, 2.89702808+0.j]),\n",
       " array([[-0.95921344, -0.43702651],\n",
       "        [ 0.28268283, -0.89944863]]))"
      ]
     },
     "metadata": {},
     "output_type": "display_data"
    }
   ],
   "source": [
    "# Calculate the average fitness of each strategy in the population\n",
    "avg_fitness = np.mean(strategy, axis=0)\n",
    "# Calculate the relative fitness of each strategy\n",
    "rel_fitness = strategy - avg_fitness\n",
    "\n",
    "scipy.linalg.eig(np.exp(rel_fitness).transpose())"
   ]
  },
  {
   "cell_type": "code",
   "execution_count": null,
   "metadata": {},
   "outputs": [
    {
     "data": {
      "text/plain": [
       "(array([1.46997502+0.j, 2.89702808+0.j]),\n",
       " array([[-0.95921344, -0.43702651],\n",
       "        [ 0.28268283, -0.89944863]]))"
      ]
     },
     "metadata": {},
     "output_type": "display_data"
    }
   ],
   "source": [
    "# Calculate the average fitness of each strategy in the population\n",
    "avg_fitness = np.mean(strategy, axis=0)\n",
    "# Calculate the relative fitness of each strategy\n",
    "rel_fitness = strategy - avg_fitness\n",
    "\n",
    "scipy.linalg.eig(np.exp(rel_fitness).transpose())"
   ]
  },
  {
   "cell_type": "code",
   "execution_count": null,
   "metadata": {},
   "outputs": [
    {
     "data": {
      "text/plain": [
       "(array([1.46997502+0.j, 2.89702808+0.j]),\n",
       " array([[-0.95921344, -0.43702651],\n",
       "        [ 0.28268283, -0.89944863]]))"
      ]
     },
     "metadata": {},
     "output_type": "display_data"
    }
   ],
   "source": [
    "# Calculate the average fitness of each strategy in the population\n",
    "avg_fitness = np.mean(strategy, axis=0)\n",
    "# Calculate the relative fitness of each strategy\n",
    "rel_fitness = strategy - avg_fitness\n",
    "\n",
    "scipy.linalg.eig(np.exp(rel_fitness).transpose())"
   ]
  },
  {
   "cell_type": "code",
   "execution_count": null,
   "metadata": {},
   "outputs": [
    {
     "data": {
      "text/plain": [
       "(array([1.46997502+0.j, 2.89702808+0.j]),\n",
       " array([[-0.95921344, -0.43702651],\n",
       "        [ 0.28268283, -0.89944863]]))"
      ]
     },
     "metadata": {},
     "output_type": "display_data"
    }
   ],
   "source": [
    "# Calculate the average fitness of each strategy in the population\n",
    "avg_fitness = np.mean(strategy, axis=0)\n",
    "# Calculate the relative fitness of each strategy\n",
    "rel_fitness = strategy - avg_fitness\n",
    "\n",
    "scipy.linalg.eig(np.exp(rel_fitness).transpose())"
   ]
  },
  {
   "cell_type": "code",
   "execution_count": 8,
   "metadata": {},
   "outputs": [
    {
     "data": {
      "text/plain": [
       "(array([1.46997502+0.j, 2.89702808+0.j]),\n",
       " array([[-0.95921344, -0.43702651],\n",
       "        [ 0.28268283, -0.89944863]]))"
      ]
     },
     "execution_count": 8,
     "metadata": {},
     "output_type": "execute_result"
    }
   ],
   "source": [
    "# Calculate the average fitness of each strategy in the population\n",
    "avg_fitness = np.mean(strategy, axis=0)\n",
    "# Calculate the relative fitness of each strategy\n",
    "rel_fitness = strategy - avg_fitness\n",
    "\n",
    "scipy.linalg.eig(np.exp(rel_fitness).transpose())"
   ]
  },
  {
   "cell_type": "code",
   "execution_count": null,
   "metadata": {},
   "outputs": [],
   "source": [
    "def generate_payoff_matrix(transition_matrix, payoff_A, payoff_B, rounds):\n",
    "    n = len(transition_matrix)\n",
    "    payoff_matrix = np.zeros((n, n))\n",
    "    for i in range(n):\n",
    "        for j in range(n):\n",
    "            expected_payoff_A = payoff_A * transition_matrix[i, j]\n",
    "            expected_payoff_B = payoff_B * transition_matrix[j, i]\n",
    "            for k in range(1, rounds):\n",
    "                expected_payoff_A = expected_payoff_A * transition_matrix[j, i] + payoff_A * transition_matrix[i, j]\n",
    "                expected_payoff_B = expected_payoff_B * transition_matrix[i, j] + payoff_B * transition_matrix[j, i]\n",
    "            payoff_matrix[i, j] = (expected_payoff_A + expected_payoff_B) / 2\n",
    "    return payoff_matrix\n"
   ]
  },
  {
   "cell_type": "code",
   "execution_count": 18,
   "metadata": {},
   "outputs": [
    {
     "name": "stdout",
     "output_type": "stream",
     "text": [
      "Payoff matrix 5 rounds ahead:\n",
      "[[18. 12.]\n",
      " [18. 12.]]\n"
     ]
    }
   ],
   "source": [
    "# Define the transition matrix for each round\n",
    "transition_matrix = np.array([[0.8, 0.2], [0.3, 0.7]])\n",
    "\n",
    "# Define the rewards for each state\n",
    "payoff_A = 10\n",
    "payoff_B = 20\n",
    "\n",
    "# Calculate the expected payoffs for each combination of strategies for the next 5 rounds\n",
    "payoff_matrix = np.array([[payoff_A, payoff_B], [payoff_A, payoff_B]])\n",
    "for i in range(100):\n",
    "    payoff_matrix = np.dot(payoff_matrix, transition_matrix)\n",
    "\n",
    "print(\"Payoff matrix 5 rounds ahead:\")\n",
    "print(payoff_matrix)\n"
   ]
  },
  {
   "cell_type": "code",
   "execution_count": 19,
   "metadata": {},
   "outputs": [
    {
     "name": "stdout",
     "output_type": "stream",
     "text": [
      "Payoff matrix 5 rounds ahead:\n",
      "[[7.225  6.65  ]\n",
      " [7.1625 7.025 ]]\n"
     ]
    }
   ],
   "source": [
    "# Define the transition matrix for each round\n",
    "transition_matrix = np.array([[0.8, 0.2], [0.3, 0.7]])\n",
    "\n",
    "# Define the rewards for each state\n",
    "payoff_A = 10\n",
    "payoff_B = 20\n",
    "\n",
    "# Create an array to store the expected payoffs for each combination of strategies\n",
    "payoff = np.zeros((6, 2, 2))\n",
    "\n",
    "# Calculate the expected payoffs for each combination of strategies for the first round\n",
    "payoff[0, 0, 0] = payoff_A * transition_matrix[0, 0]\n",
    "payoff[0, 0, 1] = payoff_A * transition_matrix[0, 1]\n",
    "payoff[0, 1, 0] = payoff_B * transition_matrix[1, 0]\n",
    "payoff[0, 1, 1] = payoff_B * transition_matrix[1, 1]\n",
    "\n",
    "# Calculate the expected payoffs for each combination of strategies for the next 5 rounds\n",
    "for i in range(1, 6):\n",
    "    payoff[i, 0, 0] = payoff[i-1, 0, 0] * transition_matrix[0, 0] + payoff[i-1, 1, 0] * transition_matrix[0, 1]\n",
    "    payoff[i, 0, 1] = payoff[i-1, 0, 1] * transition_matrix[0, 0] + payoff[i-1, 1, 1] * transition_matrix[0, 1]\n",
    "    payoff[i, 1, 0] = payoff[i-1, 0, 0] * transition_matrix[1, 0] + payoff[i-1, 1, 0] * transition_matrix[1, 1]\n",
    "    payoff[i, 1, 1] = payoff[i-1, 0, 1] * transition_matrix[1, 0] + payoff[i-1, 1, 1] * transition_matrix[1, 1]\n",
    "\n",
    "print(\"Payoff matrix 5 rounds ahead:\")\n",
    "print(payoff[5, :, :])\n"
   ]
  }
 ],
 "metadata": {
  "kernelspec": {
   "display_name": "python310",
   "language": "python",
   "name": "python3"
  },
  "language_info": {
   "codemirror_mode": {
    "name": "ipython",
    "version": 3
   },
   "file_extension": ".py",
   "mimetype": "text/x-python",
   "name": "python",
   "nbconvert_exporter": "python",
   "pygments_lexer": "ipython3",
   "version": "3.10.9"
  },
  "orig_nbformat": 4,
  "vscode": {
   "interpreter": {
    "hash": "441e95d4b0623babe0d165727f26ed8fc115baf17a5520552f1ff2f71f679067"
   }
  }
 },
 "nbformat": 4,
 "nbformat_minor": 2
}
